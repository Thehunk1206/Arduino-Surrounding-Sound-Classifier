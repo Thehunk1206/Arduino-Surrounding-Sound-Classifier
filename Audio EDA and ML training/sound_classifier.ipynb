{
 "cells": [
  {
   "cell_type": "markdown",
   "metadata": {},
   "source": [
    "# FFT Audio Data EDA"
   ]
  },
  {
   "cell_type": "markdown",
   "metadata": {},
   "source": [
    "## Python note book to do the following\n",
    "* Read Audio FFT(Fast Fourier transformed) transformed data from CVS.\n",
    "* Drop unwanted Column.\n",
    "* Each instance of audio FFT data is in String format, Convert it to numpy array.\n",
    "* Create OneHotEncoded Target variable.\n",
    "* Split the Data for training, testing and Validating model."
   ]
  },
  {
   "cell_type": "code",
   "execution_count": 1,
   "metadata": {},
   "outputs": [],
   "source": [
    "import pandas as pd\n",
    "import numpy as np\n",
    "import matplotlib.pyplot as plt\n",
    "from sklearn.model_selection import train_test_split\n",
    "from sklearn.preprocessing import OneHotEncoder, LabelEncoder\n",
    "\n",
    "import os"
   ]
  },
  {
   "cell_type": "markdown",
   "metadata": {},
   "source": [
    "### Read the data from CSV"
   ]
  },
  {
   "cell_type": "code",
   "execution_count": 2,
   "metadata": {},
   "outputs": [],
   "source": [
    "df = pd.read_csv(\"Dataset/surrounding_audio_dataset_FFT.csv\")"
   ]
  },
  {
   "cell_type": "markdown",
   "metadata": {},
   "source": [
    "### Drop Unwanted Data"
   ]
  },
  {
   "cell_type": "code",
   "execution_count": 3,
   "metadata": {},
   "outputs": [
    {
     "data": {
      "text/plain": [
       "Index(['Unnamed: 0', 'audio_rms_vec', 'target'], dtype='object')"
      ]
     },
     "execution_count": 3,
     "metadata": {},
     "output_type": "execute_result"
    }
   ],
   "source": [
    "df.columns"
   ]
  },
  {
   "cell_type": "code",
   "execution_count": 4,
   "metadata": {},
   "outputs": [],
   "source": [
    "df = df.drop([\"Unnamed: 0\"], axis=1)"
   ]
  },
  {
   "cell_type": "code",
   "execution_count": 5,
   "metadata": {},
   "outputs": [
    {
     "data": {
      "text/html": [
       "<div>\n",
       "<style scoped>\n",
       "    .dataframe tbody tr th:only-of-type {\n",
       "        vertical-align: middle;\n",
       "    }\n",
       "\n",
       "    .dataframe tbody tr th {\n",
       "        vertical-align: top;\n",
       "    }\n",
       "\n",
       "    .dataframe thead th {\n",
       "        text-align: right;\n",
       "    }\n",
       "</style>\n",
       "<table border=\"1\" class=\"dataframe\">\n",
       "  <thead>\n",
       "    <tr style=\"text-align: right;\">\n",
       "      <th></th>\n",
       "      <th>audio_rms_vec</th>\n",
       "      <th>target</th>\n",
       "    </tr>\n",
       "  </thead>\n",
       "  <tbody>\n",
       "    <tr>\n",
       "      <th>0</th>\n",
       "      <td>1792, 1678, 1584, 1533, 1469, 1367, 1282, 1251...</td>\n",
       "      <td>yes</td>\n",
       "    </tr>\n",
       "    <tr>\n",
       "      <th>1</th>\n",
       "      <td>92, 77, 79, 65, 73, 68, 59, 37, 27, 83, 104, 1...</td>\n",
       "      <td>yes</td>\n",
       "    </tr>\n",
       "    <tr>\n",
       "      <th>2</th>\n",
       "      <td>65, 34, 36, 48, 56, 23, 44, 37, 34, 36, 32, 23...</td>\n",
       "      <td>yes</td>\n",
       "    </tr>\n",
       "    <tr>\n",
       "      <th>3</th>\n",
       "      <td>90, 85, 30, 42, 50, 57, 80, 104, 117, 89, 78, ...</td>\n",
       "      <td>yes</td>\n",
       "    </tr>\n",
       "    <tr>\n",
       "      <th>4</th>\n",
       "      <td>77, 37, 25, 41, 55, 19, 39, 55, 44, 31, 36, 67...</td>\n",
       "      <td>yes</td>\n",
       "    </tr>\n",
       "  </tbody>\n",
       "</table>\n",
       "</div>"
      ],
      "text/plain": [
       "                                       audio_rms_vec target\n",
       "0  1792, 1678, 1584, 1533, 1469, 1367, 1282, 1251...    yes\n",
       "1  92, 77, 79, 65, 73, 68, 59, 37, 27, 83, 104, 1...    yes\n",
       "2  65, 34, 36, 48, 56, 23, 44, 37, 34, 36, 32, 23...    yes\n",
       "3  90, 85, 30, 42, 50, 57, 80, 104, 117, 89, 78, ...    yes\n",
       "4  77, 37, 25, 41, 55, 19, 39, 55, 44, 31, 36, 67...    yes"
      ]
     },
     "execution_count": 5,
     "metadata": {},
     "output_type": "execute_result"
    }
   ],
   "source": [
    "df.head()"
   ]
  },
  {
   "cell_type": "code",
   "execution_count": 6,
   "metadata": {},
   "outputs": [
    {
     "data": {
      "text/plain": [
       "array(['yes', 'tauhid', 'arduino'], dtype=object)"
      ]
     },
     "execution_count": 6,
     "metadata": {},
     "output_type": "execute_result"
    }
   ],
   "source": [
    "df[\"target\"].unique()"
   ]
  },
  {
   "cell_type": "markdown",
   "metadata": {},
   "source": [
    "### Create Two var, one holding Audio FFT vec data and other Target variable"
   ]
  },
  {
   "cell_type": "code",
   "execution_count": 7,
   "metadata": {},
   "outputs": [],
   "source": [
    "feature_x = df['audio_rms_vec'].copy()\n",
    "target_y = df[\"target\"].copy()"
   ]
  },
  {
   "cell_type": "code",
   "execution_count": 8,
   "metadata": {},
   "outputs": [
    {
     "data": {
      "text/plain": [
       "count        150\n",
       "unique         3\n",
       "top       tauhid\n",
       "freq          50\n",
       "Name: target, dtype: object"
      ]
     },
     "execution_count": 8,
     "metadata": {},
     "output_type": "execute_result"
    }
   ],
   "source": [
    "target_y.describe()"
   ]
  },
  {
   "cell_type": "code",
   "execution_count": 9,
   "metadata": {},
   "outputs": [
    {
     "data": {
      "image/png": "[encoded data removed]",
      "text/plain": [
       "<Figure size 432x288 with 1 Axes>"
      ]
     },
     "metadata": {
      "needs_background": "light"
     },
     "output_type": "display_data"
    }
   ],
   "source": [
    "target_y.hist()\n",
    "plt.show()"
   ]
  },
  {
   "cell_type": "code",
   "execution_count": 10,
   "metadata": {},
   "outputs": [],
   "source": [
    "dataset = []\n",
    "\n",
    "for f in feature_x:\n",
    "    str_data_list = f.split(\",\")\n",
    "    str_data_np = np.array([str_data_list])\n",
    "    data_np = str_data_np.astype(np.float)\n",
    "    dataset.append(data_np)\n",
    "    \n",
    "dataset_np = np.array(dataset)\n",
    "dataset_np = np.squeeze(dataset_np)"
   ]
  },
  {
   "cell_type": "code",
   "execution_count": 11,
   "metadata": {},
   "outputs": [
    {
     "data": {
      "text/plain": [
       "(150, 128)"
      ]
     },
     "execution_count": 11,
     "metadata": {},
     "output_type": "execute_result"
    }
   ],
   "source": [
    "dataset_np.shape"
   ]
  },
  {
   "cell_type": "markdown",
   "metadata": {},
   "source": [
    "### OneHot encoding target variable"
   ]
  },
  {
   "cell_type": "code",
   "execution_count": 12,
   "metadata": {},
   "outputs": [],
   "source": [
    "oh_enc = OneHotEncoder(sparse=False)"
   ]
  },
  {
   "cell_type": "code",
   "execution_count": 13,
   "metadata": {},
   "outputs": [],
   "source": [
    "target_y = target_y.to_numpy()"
   ]
  },
  {
   "cell_type": "code",
   "execution_count": 14,
   "metadata": {},
   "outputs": [],
   "source": [
    "target_y = target_y.reshape(-1,1)"
   ]
  },
  {
   "cell_type": "code",
   "execution_count": 15,
   "metadata": {},
   "outputs": [],
   "source": [
    "target_encoded = oh_enc.fit_transform(target_y)"
   ]
  },
  {
   "cell_type": "code",
   "execution_count": 16,
   "metadata": {},
   "outputs": [],
   "source": [
    "target_encoded = target_encoded.astype(np.float32)"
   ]
  },
  {
   "cell_type": "markdown",
   "metadata": {},
   "source": [
    "### Ploting Frequency Spectrum"
   ]
  },
  {
   "cell_type": "code",
   "execution_count": 17,
   "metadata": {},
   "outputs": [
    {
     "data": {
      "image/png": "[encoded data removed]",
      "text/plain": [
       "<Figure size 2160x1440 with 10 Axes>"
      ]
     },
     "metadata": {
      "needs_background": "light"
     },
     "output_type": "display_data"
    }
   ],
   "source": [
    "def plot_fft_audio_spectrum():\n",
    "    fig = plt.figure(figsize=(30, 20))\n",
    "    fig.subplots_adjust(hspace=0.3, wspace=0.2)\n",
    "    for i in range(10):\n",
    "        randvar = np.random.randint(0,target_encoded.shape[0])\n",
    "        plt.subplot(5, 2, i+1)\n",
    "        plt.title(df[\"target\"][randvar])\n",
    "        plt.plot(dataset_np[randvar].reshape(-1, 1))\n",
    "\n",
    "\n",
    "plot_fft_audio_spectrum()\n"
   ]
  },
  {
   "cell_type": "markdown",
   "metadata": {},
   "source": [
    "### Viausalizing Data in Lower dimension using PCA"
   ]
  },
  {
   "cell_type": "code",
   "execution_count": 18,
   "metadata": {},
   "outputs": [],
   "source": [
    "import plotly.express as px\n",
    "from sklearn.decomposition import PCA"
   ]
  },
  {
   "cell_type": "code",
   "execution_count": 19,
   "metadata": {},
   "outputs": [],
   "source": [
    "pca = PCA(n_components=3)"
   ]
  },
  {
   "cell_type": "code",
   "execution_count": 20,
   "metadata": {},
   "outputs": [],
   "source": [
    "components = pca.fit_transform(dataset_np)\n",
    "total_var = pca.explained_variance_ratio_.sum() * 100"
   ]
  },
  {
   "cell_type": "code",
   "execution_count": 21,
   "metadata": {},
   "outputs": [
    {
     "data": {
      "application/vnd.plotly.v1+json": {
       "config": {
        "plotlyServerURL": "https://plot.ly"
       },
       "data": [
        {
         "hovertemplate": "color=yes<br>PC 1=%{x}<br>PC 2=%{y}<extra></extra>",
         "legendgroup": "yes",
         "marker": {
          "color": "#636efa",
          "symbol": "circle"
         },
         "mode": "markers",
         "name": "yes",
         "orientation": "v",
         "showlegend": true,
         "type": "scatter",
         "x": [
          174.4076301197687,
          -151.38135112036107,
          2205.0169589752163,
          -52.987243653204295,
          -1241.8328665436975,
          -1595.7656838449022,
          -1282.7852304743772,
          -1632.584437982519,
          -303.8656685587844,
          -1285.9702763878222,
          -1118.5634750559534,
          -1592.9064479569163,
          -1108.6105789477754,
          -760.1339331777931,
          -939.7518039447465,
          -1244.7597917733458,
          -1587.1517030417,
          -612.3719303509495,
          -891.0162994195255,
          -858.8685617891309,
          -441.405282761134,
          -850.1274899250398,
          -764.4260734226232,
          1152.5999556834604,
          -1035.6267988354216,
          -728.1051839540975,
          -19.417160244902902,
          -462.70606179241025,
          -907.3619185671655,
          -954.536267763829,
          224.99991233741952,
          -79.98694967951904,
          456.07115962641564,
          499.93213670236673,
          -1236.6516674099746,
          -1281.4016483076455,
          -465.81127887701945,
          326.8096289323704,
          -392.90687464569,
          -258.0176210595816,
          518.4011367870189,
          -155.37641938789912,
          803.0741823135887,
          225.63794017414313,
          165.45876768807116,
          -1172.1905476317509,
          -627.5107314786695,
          640.2297064851389,
          -457.3068337396206,
          848.8284819504224
         ],
         "xaxis": "x",
         "y": [
          1407.2634207727435,
          -1136.1078761874817,
          -2858.5916540618296,
          -376.1028408384202,
          100.86148482919894,
          -532.2532708680066,
          207.58974235249744,
          -610.8993748309763,
          877.8930428282679,
          -51.28606809001409,
          -158.0059142126781,
          -790.529229832387,
          347.5951072393872,
          426.42351423670766,
          -379.57860095992305,
          78.78544740592558,
          -397.40765571105396,
          1007.5380435071659,
          405.210212719897,
          270.0287544640758,
          555.9804460090262,
          -149.38023761521342,
          16.85623189585491,
          -721.8915593389507,
          -1181.975126796955,
          -730.7232118198291,
          26.81923815962386,
          1403.6842590312078,
          996.8702760485806,
          93.35315552258585,
          174.24138988901493,
          -369.19211438728973,
          1604.9037356668393,
          2146.4320696639634,
          167.01662143277005,
          -817.0459352220934,
          553.8514953693547,
          -747.3764742643227,
          96.44458596131815,
          -934.7574070807435,
          -803.9592667519667,
          -757.9521934549756,
          -471.53170137197156,
          1228.0029784306053,
          1693.7286008306448,
          -127.51822244288833,
          -79.94195999212872,
          -729.4978074499793,
          840.1649668851117,
          -730.6069127675407
         ],
         "yaxis": "y"
        },
        {
         "hovertemplate": "color=tauhid<br>PC 1=%{x}<br>PC 2=%{y}<extra></extra>",
         "legendgroup": "tauhid",
         "marker": {
          "color": "#EF553B",
          "symbol": "circle"
         },
         "mode": "markers",
         "name": "tauhid",
         "orientation": "v",
         "showlegend": true,
         "type": "scatter",
         "x": [
          1003.2838791618834,
          -781.7550002536994,
          -986.3120900741703,
          -991.8653085961298,
          -515.5608352394476,
          -666.5039259894407,
          -971.8052815479174,
          -1091.969318927319,
          -1090.5083999353326,
          -1078.2029147478813,
          -1752.9579507013382,
          -1017.3585939651157,
          -670.3606019226107,
          -313.7442404946097,
          -806.4875612702633,
          2299.777660203198,
          -899.3416979529239,
          837.746484208545,
          -1622.502609707606,
          -676.3018576755802,
          -707.7534747874005,
          859.772936676742,
          -403.14458522146316,
          -432.09628700102314,
          -330.47374958499796,
          -649.4181447986166,
          329.96820002181425,
          329.41842094680004,
          -433.13471535079697,
          -800.18664973117,
          -152.6794286729744,
          934.680929832051,
          -1488.3690144675004,
          639.2400486023099,
          -560.3008740235157,
          -946.1934508096167,
          1035.0208545442308,
          -1659.849152673536,
          996.022086712609,
          815.5874429168001,
          -1740.550560223044,
          1439.054276722014,
          -1055.8018874833988,
          -1052.6024619337595,
          -1672.8944484152069,
          -1804.122247982043,
          -1076.627374423831,
          -572.8840450802666,
          -143.5229363519535,
          243.50974696010118
         ],
         "xaxis": "x",
         "y": [
          2621.2544583865038,
          332.2735857895938,
          661.9464984967697,
          1020.3685247771297,
          -10.181217009268801,
          -624.9004929169109,
          830.7679187511318,
          471.79389097148675,
          1669.6476606407698,
          451.3321300678265,
          -770.4985100606964,
          -98.01430585277949,
          -271.3603965620935,
          -1294.4298464264216,
          -891.0523262727222,
          1231.752484922468,
          -232.03710043453256,
          1488.74947929555,
          41.77258759815855,
          70.08297014059434,
          -494.91975183172116,
          -1818.1217995131012,
          -1050.669026594645,
          960.8536399549305,
          -635.6166222149501,
          -1041.4076731233931,
          -558.0669399601252,
          -6.9109798968106055,
          -1518.041863362982,
          -1303.6337316433903,
          -397.5451199743646,
          2743.4869300268847,
          -151.97688340440286,
          -229.7729554549959,
          -1228.9070903848617,
          -1045.4112921947112,
          -1671.2112779514734,
          -875.3574255978339,
          1854.853018295758,
          2576.523004416837,
          844.0660412659943,
          -550.697959410426,
          1512.048716545723,
          1013.7198223125853,
          -851.1276142755789,
          -926.7043605633058,
          -123.91073760666391,
          -622.0020742528353,
          -1477.3330446084542,
          -312.1616810172106
         ],
         "yaxis": "y"
        },
        {
         "hovertemplate": "color=arduino<br>PC 1=%{x}<br>PC 2=%{y}<extra></extra>",
         "legendgroup": "arduino",
         "marker": {
          "color": "#00cc96",
          "symbol": "circle"
         },
         "mode": "markers",
         "name": "arduino",
         "orientation": "v",
         "showlegend": true,
         "type": "scatter",
         "x": [
          464.9831668520025,
          128.96874178602775,
          -521.7652305111285,
          -298.3364290297441,
          -195.79329856128206,
          1362.715501375452,
          -498.8215488924688,
          -898.7466430835099,
          -370.1530114326419,
          735.8487314718401,
          -58.765767738032835,
          -411.28263818883573,
          -424.2553003454442,
          1070.0838954362932,
          -1580.689628525223,
          -345.98816361152353,
          -1665.9141006171285,
          16.82391777752532,
          -123.06288332350694,
          270.02250950138904,
          10.238522030186472,
          1524.9763093664142,
          3313.1111935862828,
          645.7242118022452,
          689.5899853330711,
          310.4274292483255,
          491.97640435924137,
          708.3752909533157,
          -933.8637339050006,
          4811.492886380478,
          979.8969139972668,
          -178.2648572979135,
          3848.095514076866,
          14910.158285812628,
          -83.85478373478068,
          1272.8435405798837,
          2289.550575217919,
          648.0787275510912,
          -729.9255952312418,
          1290.6583257345997,
          -1705.1838567713396,
          2524.084765158102,
          3300.8825841741154,
          2480.6817218962647,
          1781.004328840214,
          600.9177039989943,
          1850.1301085333266,
          1128.130561177215,
          -1059.1211767138966,
          787.0894997465755
         ],
         "xaxis": "x",
         "y": [
          -982.0637932316681,
          -392.01076546192456,
          -938.8477279254868,
          -793.5734654999856,
          -695.7454463244815,
          -825.3659654894886,
          -390.0539253050059,
          2079.981411257701,
          -950.3080885924487,
          -469.81323150068084,
          -1382.7088817093847,
          -1124.146255991797,
          31.902796727886923,
          804.90035093002,
          347.64796791753236,
          1107.0945276934913,
          -543.3420253252833,
          -839.3651560144694,
          -987.3370222053428,
          -513.7948248862128,
          217.14765316192026,
          -1011.3245559467821,
          2616.237596279705,
          1551.2807137521852,
          -798.8179617974082,
          -1316.4963486201866,
          -929.6363806888629,
          1166.3579137683055,
          595.0990846110731,
          4797.090851778296,
          -1286.4849741387236,
          -1426.3816058790792,
          -1585.837766932829,
          -3160.9269043363056,
          -1571.498334398744,
          257.1945350912955,
          -306.4767724217701,
          -1304.6252184143832,
          1298.5009736858497,
          436.81732471350887,
          -784.555641222339,
          -1085.80553417869,
          3397.3690463198245,
          -224.5132137299201,
          3172.297934676095,
          2061.7423782449955,
          2345.692678795749,
          -735.2629729642899,
          1441.762681302571,
          234.2648733401817
         ],
         "yaxis": "y"
        }
       ],
       "layout": {
        "legend": {
         "title": {
          "text": "color"
         },
         "tracegroupgap": 0
        },
        "template": {
         "data": {
          "bar": [
           {
            "error_x": {
             "color": "#2a3f5f"
            },
            "error_y": {
             "color": "#2a3f5f"
            },
            "marker": {
             "line": {
              "color": "#E5ECF6",
              "width": 0.5
             },
             "pattern": {
              "fillmode": "overlay",
              "size": 10,
              "solidity": 0.2
             }
            },
            "type": "bar"
           }
          ],
          "barpolar": [
           {
            "marker": {
             "line": {
              "color": "#E5ECF6",
              "width": 0.5
             },
             "pattern": {
              "fillmode": "overlay",
              "size": 10,
              "solidity": 0.2
             }
            },
            "type": "barpolar"
           }
          ],
          "carpet": [
           {
            "aaxis": {
             "endlinecolor": "#2a3f5f",
             "gridcolor": "white",
             "linecolor": "white",
             "minorgridcolor": "white",
             "startlinecolor": "#2a3f5f"
            },
            "baxis": {
             "endlinecolor": "#2a3f5f",
             "gridcolor": "white",
             "linecolor": "white",
             "minorgridcolor": "white",
             "startlinecolor": "#2a3f5f"
            },
            "type": "carpet"
           }
          ],
          "choropleth": [
           {
            "colorbar": {
             "outlinewidth": 0,
             "ticks": ""
            },
            "type": "choropleth"
           }
          ],
          "contour": [
           {
            "colorbar": {
             "outlinewidth": 0,
             "ticks": ""
            },
            "colorscale": [
             [
              0,
              "#0d0887"
             ],
             [
              0.1111111111111111,
              "#46039f"
             ],
             [
              0.2222222222222222,
              "#7201a8"
             ],
             [
              0.3333333333333333,
              "#9c179e"
             ],
             [
              0.4444444444444444,
              "#bd3786"
             ],
             [
              0.5555555555555556,
              "#d8576b"
             ],
             [
              0.6666666666666666,
              "#ed7953"
             ],
             [
              0.7777777777777778,
              "#fb9f3a"
             ],
             [
              0.8888888888888888,
              "#fdca26"
             ],
             [
              1,
              "#f0f921"
             ]
            ],
            "type": "contour"
           }
          ],
          "contourcarpet": [
           {
            "colorbar": {
             "outlinewidth": 0,
             "ticks": ""
            },
            "type": "contourcarpet"
           }
          ],
          "heatmap": [
           {
            "colorbar": {
             "outlinewidth": 0,
             "ticks": ""
            },
            "colorscale": [
             [
              0,
              "#0d0887"
             ],
             [
              0.1111111111111111,
              "#46039f"
             ],
             [
              0.2222222222222222,
              "#7201a8"
             ],
             [
              0.3333333333333333,
              "#9c179e"
             ],
             [
              0.4444444444444444,
              "#bd3786"
             ],
             [
              0.5555555555555556,
              "#d8576b"
             ],
             [
              0.6666666666666666,
              "#ed7953"
             ],
             [
              0.7777777777777778,
              "#fb9f3a"
             ],
             [
              0.8888888888888888,
              "#fdca26"
             ],
             [
              1,
              "#f0f921"
             ]
            ],
            "type": "heatmap"
           }
          ],
          "heatmapgl": [
           {
            "colorbar": {
             "outlinewidth": 0,
             "ticks": ""
            },
            "colorscale": [
             [
              0,
              "#0d0887"
             ],
             [
              0.1111111111111111,
              "#46039f"
             ],
             [
              0.2222222222222222,
              "#7201a8"
             ],
             [
              0.3333333333333333,
              "#9c179e"
             ],
             [
              0.4444444444444444,
              "#bd3786"
             ],
             [
              0.5555555555555556,
              "#d8576b"
             ],
             [
              0.6666666666666666,
              "#ed7953"
             ],
             [
              0.7777777777777778,
              "#fb9f3a"
             ],
             [
              0.8888888888888888,
              "#fdca26"
             ],
             [
              1,
              "#f0f921"
             ]
            ],
            "type": "heatmapgl"
           }
          ],
          "histogram": [
           {
            "marker": {
             "pattern": {
              "fillmode": "overlay",
              "size": 10,
              "solidity": 0.2
             }
            },
            "type": "histogram"
           }
          ],
          "histogram2d": [
           {
            "colorbar": {
             "outlinewidth": 0,
             "ticks": ""
            },
            "colorscale": [
             [
              0,
              "#0d0887"
             ],
             [
              0.1111111111111111,
              "#46039f"
             ],
             [
              0.2222222222222222,
              "#7201a8"
             ],
             [
              0.3333333333333333,
              "#9c179e"
             ],
             [
              0.4444444444444444,
              "#bd3786"
             ],
             [
              0.5555555555555556,
              "#d8576b"
             ],
             [
              0.6666666666666666,
              "#ed7953"
             ],
             [
              0.7777777777777778,
              "#fb9f3a"
             ],
             [
              0.8888888888888888,
              "#fdca26"
             ],
             [
              1,
              "#f0f921"
             ]
            ],
            "type": "histogram2d"
           }
          ],
          "histogram2dcontour": [
           {
            "colorbar": {
             "outlinewidth": 0,
             "ticks": ""
            },
            "colorscale": [
             [
              0,
              "#0d0887"
             ],
             [
              0.1111111111111111,
              "#46039f"
             ],
             [
              0.2222222222222222,
              "#7201a8"
             ],
             [
              0.3333333333333333,
              "#9c179e"
             ],
             [
              0.4444444444444444,
              "#bd3786"
             ],
             [
              0.5555555555555556,
              "#d8576b"
             ],
             [
              0.6666666666666666,
              "#ed7953"
             ],
             [
              0.7777777777777778,
              "#fb9f3a"
             ],
             [
              0.8888888888888888,
              "#fdca26"
             ],
             [
              1,
              "#f0f921"
             ]
            ],
            "type": "histogram2dcontour"
           }
          ],
          "mesh3d": [
           {
            "colorbar": {
             "outlinewidth": 0,
             "ticks": ""
            },
            "type": "mesh3d"
           }
          ],
          "parcoords": [
           {
            "line": {
             "colorbar": {
              "outlinewidth": 0,
              "ticks": ""
             }
            },
            "type": "parcoords"
           }
          ],
          "pie": [
           {
            "automargin": true,
            "type": "pie"
           }
          ],
          "scatter": [
           {
            "marker": {
             "colorbar": {
              "outlinewidth": 0,
              "ticks": ""
             }
            },
            "type": "scatter"
           }
          ],
          "scatter3d": [
           {
            "line": {
             "colorbar": {
              "outlinewidth": 0,
              "ticks": ""
             }
            },
            "marker": {
             "colorbar": {
              "outlinewidth": 0,
              "ticks": ""
             }
            },
            "type": "scatter3d"
           }
          ],
          "scattercarpet": [
           {
            "marker": {
             "colorbar": {
              "outlinewidth": 0,
              "ticks": ""
             }
            },
            "type": "scattercarpet"
           }
          ],
          "scattergeo": [
           {
            "marker": {
             "colorbar": {
              "outlinewidth": 0,
              "ticks": ""
             }
            },
            "type": "scattergeo"
           }
          ],
          "scattergl": [
           {
            "marker": {
             "colorbar": {
              "outlinewidth": 0,
              "ticks": ""
             }
            },
            "type": "scattergl"
           }
          ],
          "scattermapbox": [
           {
            "marker": {
             "colorbar": {
              "outlinewidth": 0,
              "ticks": ""
             }
            },
            "type": "scattermapbox"
           }
          ],
          "scatterpolar": [
           {
            "marker": {
             "colorbar": {
              "outlinewidth": 0,
              "ticks": ""
             }
            },
            "type": "scatterpolar"
           }
          ],
          "scatterpolargl": [
           {
            "marker": {
             "colorbar": {
              "outlinewidth": 0,
              "ticks": ""
             }
            },
            "type": "scatterpolargl"
           }
          ],
          "scatterternary": [
           {
            "marker": {
             "colorbar": {
              "outlinewidth": 0,
              "ticks": ""
             }
            },
            "type": "scatterternary"
           }
          ],
          "surface": [
           {
            "colorbar": {
             "outlinewidth": 0,
             "ticks": ""
            },
            "colorscale": [
             [
              0,
              "#0d0887"
             ],
             [
              0.1111111111111111,
              "#46039f"
             ],
             [
              0.2222222222222222,
              "#7201a8"
             ],
             [
              0.3333333333333333,
              "#9c179e"
             ],
             [
              0.4444444444444444,
              "#bd3786"
             ],
             [
              0.5555555555555556,
              "#d8576b"
             ],
             [
              0.6666666666666666,
              "#ed7953"
             ],
             [
              0.7777777777777778,
              "#fb9f3a"
             ],
             [
              0.8888888888888888,
              "#fdca26"
             ],
             [
              1,
              "#f0f921"
             ]
            ],
            "type": "surface"
           }
          ],
          "table": [
           {
            "cells": {
             "fill": {
              "color": "#EBF0F8"
             },
             "line": {
              "color": "white"
             }
            },
            "header": {
             "fill": {
              "color": "#C8D4E3"
             },
             "line": {
              "color": "white"
             }
            },
            "type": "table"
           }
          ]
         },
         "layout": {
          "annotationdefaults": {
           "arrowcolor": "#2a3f5f",
           "arrowhead": 0,
           "arrowwidth": 1
          },
          "autotypenumbers": "strict",
          "coloraxis": {
           "colorbar": {
            "outlinewidth": 0,
            "ticks": ""
           }
          },
          "colorscale": {
           "diverging": [
            [
             0,
             "#8e0152"
            ],
            [
             0.1,
             "#c51b7d"
            ],
            [
             0.2,
             "#de77ae"
            ],
            [
             0.3,
             "#f1b6da"
            ],
            [
             0.4,
             "#fde0ef"
            ],
            [
             0.5,
             "#f7f7f7"
            ],
            [
             0.6,
             "#e6f5d0"
            ],
            [
             0.7,
             "#b8e186"
            ],
            [
             0.8,
             "#7fbc41"
            ],
            [
             0.9,
             "#4d9221"
            ],
            [
             1,
             "#276419"
            ]
           ],
           "sequential": [
            [
             0,
             "#0d0887"
            ],
            [
             0.1111111111111111,
             "#46039f"
            ],
            [
             0.2222222222222222,
             "#7201a8"
            ],
            [
             0.3333333333333333,
             "#9c179e"
            ],
            [
             0.4444444444444444,
             "#bd3786"
            ],
            [
             0.5555555555555556,
             "#d8576b"
            ],
            [
             0.6666666666666666,
             "#ed7953"
            ],
            [
             0.7777777777777778,
             "#fb9f3a"
            ],
            [
             0.8888888888888888,
             "#fdca26"
            ],
            [
             1,
             "#f0f921"
            ]
           ],
           "sequentialminus": [
            [
             0,
             "#0d0887"
            ],
            [
             0.1111111111111111,
             "#46039f"
            ],
            [
             0.2222222222222222,
             "#7201a8"
            ],
            [
             0.3333333333333333,
             "#9c179e"
            ],
            [
             0.4444444444444444,
             "#bd3786"
            ],
            [
             0.5555555555555556,
             "#d8576b"
            ],
            [
             0.6666666666666666,
             "#ed7953"
            ],
            [
             0.7777777777777778,
             "#fb9f3a"
            ],
            [
             0.8888888888888888,
             "#fdca26"
            ],
            [
             1,
             "#f0f921"
            ]
           ]
          },
          "colorway": [
           "#636efa",
           "#EF553B",
           "#00cc96",
           "#ab63fa",
           "#FFA15A",
           "#19d3f3",
           "#FF6692",
           "#B6E880",
           "#FF97FF",
           "#FECB52"
          ],
          "font": {
           "color": "#2a3f5f"
          },
          "geo": {
           "bgcolor": "white",
           "lakecolor": "white",
           "landcolor": "#E5ECF6",
           "showlakes": true,
           "showland": true,
           "subunitcolor": "white"
          },
          "hoverlabel": {
           "align": "left"
          },
          "hovermode": "closest",
          "mapbox": {
           "style": "light"
          },
          "paper_bgcolor": "white",
          "plot_bgcolor": "#E5ECF6",
          "polar": {
           "angularaxis": {
            "gridcolor": "white",
            "linecolor": "white",
            "ticks": ""
           },
           "bgcolor": "#E5ECF6",
           "radialaxis": {
            "gridcolor": "white",
            "linecolor": "white",
            "ticks": ""
           }
          },
          "scene": {
           "xaxis": {
            "backgroundcolor": "#E5ECF6",
            "gridcolor": "white",
            "gridwidth": 2,
            "linecolor": "white",
            "showbackground": true,
            "ticks": "",
            "zerolinecolor": "white"
           },
           "yaxis": {
            "backgroundcolor": "#E5ECF6",
            "gridcolor": "white",
            "gridwidth": 2,
            "linecolor": "white",
            "showbackground": true,
            "ticks": "",
            "zerolinecolor": "white"
           },
           "zaxis": {
            "backgroundcolor": "#E5ECF6",
            "gridcolor": "white",
            "gridwidth": 2,
            "linecolor": "white",
            "showbackground": true,
            "ticks": "",
            "zerolinecolor": "white"
           }
          },
          "shapedefaults": {
           "line": {
            "color": "#2a3f5f"
           }
          },
          "ternary": {
           "aaxis": {
            "gridcolor": "white",
            "linecolor": "white",
            "ticks": ""
           },
           "baxis": {
            "gridcolor": "white",
            "linecolor": "white",
            "ticks": ""
           },
           "bgcolor": "#E5ECF6",
           "caxis": {
            "gridcolor": "white",
            "linecolor": "white",
            "ticks": ""
           }
          },
          "title": {
           "x": 0.05
          },
          "xaxis": {
           "automargin": true,
           "gridcolor": "white",
           "linecolor": "white",
           "ticks": "",
           "title": {
            "standoff": 15
           },
           "zerolinecolor": "white",
           "zerolinewidth": 2
          },
          "yaxis": {
           "automargin": true,
           "gridcolor": "white",
           "linecolor": "white",
           "ticks": "",
           "title": {
            "standoff": 15
           },
           "zerolinecolor": "white",
           "zerolinewidth": 2
          }
         }
        },
        "title": {
         "text": "Total Explained Variance: 70.09%"
        },
        "xaxis": {
         "anchor": "y",
         "domain": [
          0,
          1
         ],
         "title": {
          "text": "PC 1"
         }
        },
        "yaxis": {
         "anchor": "x",
         "domain": [
          0,
          1
         ],
         "title": {
          "text": "PC 2"
         }
        }
       }
      }
     },
     "metadata": {},
     "output_type": "display_data"
    }
   ],
   "source": [
    "# fig = px.scatter_3d(\n",
    "#     components, x=0, y=1, z=2, color=df['target'],\n",
    "#     title=f'Total Explained Variance: {total_var:.2f}%',\n",
    "#     labels={'0': 'PC 1', '1': 'PC 2', '2': 'PC 3'}\n",
    "# )\n",
    "# fig.show()\n",
    "\n",
    "fig = px.scatter(\n",
    "    components, x=0, y=1, color=df['target'],\n",
    "    title=f'Total Explained Variance: {total_var:.2f}%',\n",
    "    labels={'0': 'PC 1', '1': 'PC 2'}\n",
    ")\n",
    "fig.show()"
   ]
  },
  {
   "cell_type": "markdown",
   "metadata": {},
   "source": [
    "### Splitting Dataset into train validate and test"
   ]
  },
  {
   "cell_type": "code",
   "execution_count": 22,
   "metadata": {},
   "outputs": [],
   "source": [
    "X_train, X_test, Y_train, Y_test = train_test_split(dataset_np,target_encoded,test_size=0.2,train_size=0.8,random_state=20,shuffle = True)"
   ]
  },
  {
   "cell_type": "code",
   "execution_count": 23,
   "metadata": {},
   "outputs": [
    {
     "name": "stdout",
     "output_type": "stream",
     "text": [
      "(120, 128) (30, 128) (120, 3) (30, 3)\n"
     ]
    }
   ],
   "source": [
    "print(X_train.shape,\n",
    "X_test.shape,\n",
    "Y_train.shape,\n",
    "Y_test.shape\n",
    ")"
   ]
  },
  {
   "cell_type": "code",
   "execution_count": 24,
   "metadata": {},
   "outputs": [],
   "source": [
    "# X_train = X_train/X_train.max()"
   ]
  },
  {
   "cell_type": "code",
   "execution_count": 25,
   "metadata": {},
   "outputs": [],
   "source": [
    "# X_test = X_test/X_test.max()"
   ]
  },
  {
   "cell_type": "markdown",
   "metadata": {},
   "source": [
    "# DL model Creating, Training, and Converting to C arrays"
   ]
  },
  {
   "cell_type": "code",
   "execution_count": 26,
   "metadata": {},
   "outputs": [],
   "source": [
    "import tensorflow as tf"
   ]
  },
  {
   "cell_type": "code",
   "execution_count": 27,
   "metadata": {},
   "outputs": [],
   "source": [
    "from tensorflow.keras.layers import Dense, ReLU, Softmax, InputLayer, Dropout, Input\n",
    "from tensorflow.keras.models import Model\n",
    "from tensorflow.keras.metrics import Accuracy, AUC\n",
    "from tensorflow.keras.optimizers import Adam, RMSprop\n",
    "\n",
    "from sklearn.metrics import classification_report"
   ]
  },
  {
   "cell_type": "code",
   "execution_count": 28,
   "metadata": {},
   "outputs": [],
   "source": [
    "EPOCH = 200\n",
    "LEARNING_RATE = 0.0001\n",
    "BATCH_SIZE = 8"
   ]
  },
  {
   "cell_type": "markdown",
   "metadata": {},
   "source": [
    "## Liner MLP model"
   ]
  },
  {
   "cell_type": "code",
   "execution_count": 29,
   "metadata": {},
   "outputs": [
    {
     "name": "stdout",
     "output_type": "stream",
     "text": [
      "Model: \"model\"\n",
      "_________________________________________________________________\n",
      "Layer (type)                 Output Shape              Param #   \n",
      "=================================================================\n",
      "input_1 (InputLayer)         [(None, 128)]             0         \n",
      "_________________________________________________________________\n",
      "dense (Dense)                (None, 128)               16512     \n",
      "_________________________________________________________________\n",
      "dropout (Dropout)            (None, 128)               0         \n",
      "_________________________________________________________________\n",
      "dense_1 (Dense)              (None, 32)                4128      \n",
      "_________________________________________________________________\n",
      "dropout_1 (Dropout)          (None, 32)                0         \n",
      "_________________________________________________________________\n",
      "dense_2 (Dense)              (None, 32)                1056      \n",
      "_________________________________________________________________\n",
      "dropout_2 (Dropout)          (None, 32)                0         \n",
      "_________________________________________________________________\n",
      "dense_3 (Dense)              (None, 3)                 99        \n",
      "=================================================================\n",
      "Total params: 21,795\n",
      "Trainable params: 21,795\n",
      "Non-trainable params: 0\n",
      "_________________________________________________________________\n"
     ]
    }
   ],
   "source": [
    "audio_fft_in = Input(shape=(X_train.shape[1],))\n",
    "x = Dense(128, activation='relu')(audio_fft_in)\n",
    "x = Dropout(0.2)(x)\n",
    "x = Dense(32, activation='relu')(x)\n",
    "x = Dropout(0.2)(x)\n",
    "x = Dense(32, activation='relu')(x)\n",
    "x = Dropout(0.2)(x)\n",
    "output = Dense(np.unique(target_y).size,activation='softmax')(x)\n",
    "\n",
    "model = Model(inputs=audio_fft_in, outputs=output)\n",
    "\n",
    "model.summary()"
   ]
  },
  {
   "cell_type": "code",
   "execution_count": 30,
   "metadata": {},
   "outputs": [],
   "source": [
    "model.compile(\n",
    "    loss='categorical_crossentropy',\n",
    "    optimizer = Adam(),\n",
    "    metrics=[Accuracy()]\n",
    ")"
   ]
  },
  {
   "cell_type": "code",
   "execution_count": 31,
   "metadata": {},
   "outputs": [
    {
     "name": "stdout",
     "output_type": "stream",
     "text": [
      "Epoch 1/200\n",
      "15/15 [==============================] - 1s 2ms/step - loss: 131.0167 - accuracy: 0.4033\n",
      "Epoch 2/200\n",
      "15/15 [==============================] - 0s 2ms/step - loss: 51.5721 - accuracy: 0.2492\n",
      "Epoch 3/200\n",
      "15/15 [==============================] - 0s 2ms/step - loss: 32.0519 - accuracy: 0.1176\n",
      "Epoch 4/200\n",
      "15/15 [==============================] - 0s 2ms/step - loss: 22.5539 - accuracy: 0.0658\n",
      "Epoch 5/200\n",
      "15/15 [==============================] - 0s 2ms/step - loss: 18.5021 - accuracy: 0.0748\n",
      "Epoch 6/200\n",
      "15/15 [==============================] - 0s 2ms/step - loss: 12.5785 - accuracy: 0.0439\n",
      "Epoch 7/200\n",
      "15/15 [==============================] - 0s 2ms/step - loss: 8.0170 - accuracy: 0.0267 \n",
      "Epoch 8/200\n",
      "15/15 [==============================] - 0s 2ms/step - loss: 6.9435 - accuracy: 0.0057\n",
      "Epoch 9/200\n",
      "15/15 [==============================] - 0s 3ms/step - loss: 8.4304 - accuracy: 0.0141\n",
      "Epoch 10/200\n",
      "15/15 [==============================] - 0s 3ms/step - loss: 3.7635 - accuracy: 0.0208\n",
      "Epoch 11/200\n",
      "15/15 [==============================] - 0s 2ms/step - loss: 3.8323 - accuracy: 0.0046\n",
      "Epoch 12/200\n",
      "15/15 [==============================] - 0s 2ms/step - loss: 2.5130 - accuracy: 3.4722e-04\n",
      "Epoch 13/200\n",
      "15/15 [==============================] - 0s 2ms/step - loss: 2.1088 - accuracy: 0.0105\n",
      "Epoch 14/200\n",
      "15/15 [==============================] - 0s 2ms/step - loss: 1.9706 - accuracy: 0.0062\n",
      "Epoch 15/200\n",
      "15/15 [==============================] - 0s 3ms/step - loss: 2.0419 - accuracy: 0.0000e+00\n",
      "Epoch 16/200\n",
      "15/15 [==============================] - 0s 2ms/step - loss: 1.5179 - accuracy: 0.0000e+00\n",
      "Epoch 17/200\n",
      "15/15 [==============================] - 0s 2ms/step - loss: 1.2666 - accuracy: 0.0061\n",
      "Epoch 18/200\n",
      "15/15 [==============================] - 0s 2ms/step - loss: 1.3423 - accuracy: 0.0035\n",
      "Epoch 19/200\n",
      "15/15 [==============================] - 0s 2ms/step - loss: 1.2927 - accuracy: 0.0029\n",
      "Epoch 20/200\n",
      "15/15 [==============================] - 0s 3ms/step - loss: 1.1116 - accuracy: 0.0041\n",
      "Epoch 21/200\n",
      "15/15 [==============================] - 0s 3ms/step - loss: 1.7946 - accuracy: 0.0000e+00\n",
      "Epoch 22/200\n",
      "15/15 [==============================] - 0s 3ms/step - loss: 1.1564 - accuracy: 0.0041\n",
      "Epoch 23/200\n",
      "15/15 [==============================] - 0s 2ms/step - loss: 1.0612 - accuracy: 0.0012\n",
      "Epoch 24/200\n",
      "15/15 [==============================] - 0s 2ms/step - loss: 1.4879 - accuracy: 0.0040\n",
      "Epoch 25/200\n",
      "15/15 [==============================] - 0s 2ms/step - loss: 1.2105 - accuracy: 0.0000e+00\n",
      "Epoch 26/200\n",
      "15/15 [==============================] - 0s 2ms/step - loss: 1.5395 - accuracy: 0.0035\n",
      "Epoch 27/200\n",
      "15/15 [==============================] - 0s 2ms/step - loss: 1.1438 - accuracy: 0.0000e+00\n",
      "Epoch 28/200\n",
      "15/15 [==============================] - 0s 2ms/step - loss: 1.1624 - accuracy: 0.0000e+00\n",
      "Epoch 29/200\n",
      "15/15 [==============================] - 0s 3ms/step - loss: 1.0960 - accuracy: 0.0034\n",
      "Epoch 30/200\n",
      "15/15 [==============================] - 0s 2ms/step - loss: 1.3824 - accuracy: 0.0000e+00\n",
      "Epoch 31/200\n",
      "15/15 [==============================] - 0s 3ms/step - loss: 1.0837 - accuracy: 0.0000e+00\n",
      "Epoch 32/200\n",
      "15/15 [==============================] - 0s 2ms/step - loss: 1.0775 - accuracy: 0.0021\n",
      "Epoch 33/200\n",
      "15/15 [==============================] - 0s 2ms/step - loss: 1.1067 - accuracy: 0.0000e+00\n",
      "Epoch 34/200\n",
      "15/15 [==============================] - 0s 2ms/step - loss: 1.0913 - accuracy: 0.0000e+00\n",
      "Epoch 35/200\n",
      "15/15 [==============================] - 0s 2ms/step - loss: 1.4505 - accuracy: 0.0000e+00\n",
      "Epoch 36/200\n",
      "15/15 [==============================] - 0s 2ms/step - loss: 1.1204 - accuracy: 0.0044\n",
      "Epoch 37/200\n",
      "15/15 [==============================] - 0s 3ms/step - loss: 1.1273 - accuracy: 0.0000e+00\n",
      "Epoch 38/200\n",
      "15/15 [==============================] - 0s 2ms/step - loss: 1.0805 - accuracy: 0.0000e+00\n",
      "Epoch 39/200\n",
      "15/15 [==============================] - 0s 3ms/step - loss: 1.0822 - accuracy: 0.0000e+00\n",
      "Epoch 40/200\n",
      "15/15 [==============================] - 0s 2ms/step - loss: 1.0871 - accuracy: 0.0022\n",
      "Epoch 41/200\n",
      "15/15 [==============================] - 0s 2ms/step - loss: 1.3028 - accuracy: 0.0017\n",
      "Epoch 42/200\n",
      "15/15 [==============================] - 0s 3ms/step - loss: 1.4758 - accuracy: 0.0000e+00\n",
      "Epoch 43/200\n",
      "15/15 [==============================] - 0s 4ms/step - loss: 1.5533 - accuracy: 0.0000e+00\n",
      "Epoch 44/200\n",
      "15/15 [==============================] - 0s 4ms/step - loss: 1.1322 - accuracy: 0.0000e+00\n",
      "Epoch 45/200\n",
      "15/15 [==============================] - 0s 4ms/step - loss: 1.1889 - accuracy: 0.0000e+00\n",
      "Epoch 46/200\n",
      "15/15 [==============================] - 0s 4ms/step - loss: 1.3027 - accuracy: 0.0000e+00\n",
      "Epoch 47/200\n",
      "15/15 [==============================] - 0s 4ms/step - loss: 1.4816 - accuracy: 0.0000e+00\n",
      "Epoch 48/200\n",
      "15/15 [==============================] - 0s 4ms/step - loss: 1.1795 - accuracy: 0.0000e+00\n",
      "Epoch 49/200\n",
      "15/15 [==============================] - 0s 4ms/step - loss: 1.3876 - accuracy: 0.0040\n",
      "Epoch 50/200\n",
      "15/15 [==============================] - 0s 4ms/step - loss: 1.1990 - accuracy: 0.0000e+00\n",
      "Epoch 51/200\n",
      "15/15 [==============================] - 0s 3ms/step - loss: 1.1077 - accuracy: 0.0024\n",
      "Epoch 52/200\n",
      "15/15 [==============================] - 0s 3ms/step - loss: 1.1776 - accuracy: 0.0000e+00\n",
      "Epoch 53/200\n",
      "15/15 [==============================] - 0s 2ms/step - loss: 1.2188 - accuracy: 0.0000e+00\n",
      "Epoch 54/200\n",
      "15/15 [==============================] - 0s 2ms/step - loss: 1.1256 - accuracy: 0.0000e+00\n",
      "Epoch 55/200\n",
      "15/15 [==============================] - 0s 3ms/step - loss: 1.2589 - accuracy: 0.0000e+00\n",
      "Epoch 56/200\n",
      "15/15 [==============================] - 0s 3ms/step - loss: 1.1065 - accuracy: 0.0000e+00\n",
      "Epoch 57/200\n",
      "15/15 [==============================] - 0s 3ms/step - loss: 1.0811 - accuracy: 0.0000e+00\n",
      "Epoch 58/200\n",
      "15/15 [==============================] - 0s 3ms/step - loss: 1.0934 - accuracy: 0.0029\n",
      "Epoch 59/200\n",
      "15/15 [==============================] - 0s 4ms/step - loss: 1.1482 - accuracy: 0.0000e+00\n",
      "Epoch 60/200\n",
      "15/15 [==============================] - 0s 3ms/step - loss: 1.1177 - accuracy: 0.0000e+00\n",
      "Epoch 61/200\n",
      "15/15 [==============================] - 0s 3ms/step - loss: 1.1138 - accuracy: 0.0000e+00\n",
      "Epoch 62/200\n",
      "15/15 [==============================] - 0s 3ms/step - loss: 1.1038 - accuracy: 0.0000e+00\n",
      "Epoch 63/200\n",
      "15/15 [==============================] - 0s 2ms/step - loss: 1.0949 - accuracy: 0.0000e+00\n",
      "Epoch 64/200\n",
      "15/15 [==============================] - 0s 3ms/step - loss: 1.1154 - accuracy: 0.0000e+00\n",
      "Epoch 65/200\n",
      "15/15 [==============================] - 0s 3ms/step - loss: 1.0852 - accuracy: 0.0000e+00\n",
      "Epoch 66/200\n",
      "15/15 [==============================] - 0s 3ms/step - loss: 1.0860 - accuracy: 0.0000e+00\n",
      "Epoch 67/200\n",
      "15/15 [==============================] - 0s 3ms/step - loss: 1.1091 - accuracy: 0.0000e+00\n",
      "Epoch 68/200\n",
      "15/15 [==============================] - 0s 4ms/step - loss: 1.1674 - accuracy: 5.3323e-04\n",
      "Epoch 69/200\n",
      "15/15 [==============================] - 0s 2ms/step - loss: 1.1165 - accuracy: 0.0000e+00\n",
      "Epoch 70/200\n",
      "15/15 [==============================] - 0s 4ms/step - loss: 1.0896 - accuracy: 0.0057\n",
      "Epoch 71/200\n",
      "15/15 [==============================] - 0s 3ms/step - loss: 1.1728 - accuracy: 3.4722e-04\n",
      "Epoch 72/200\n",
      "15/15 [==============================] - 0s 2ms/step - loss: 1.0934 - accuracy: 0.0022\n",
      "Epoch 73/200\n",
      "15/15 [==============================] - 0s 3ms/step - loss: 1.0975 - accuracy: 0.0086\n",
      "Epoch 74/200\n",
      "15/15 [==============================] - 0s 3ms/step - loss: 1.0699 - accuracy: 0.0062\n",
      "Epoch 75/200\n",
      "15/15 [==============================] - 0s 3ms/step - loss: 1.1390 - accuracy: 0.0040\n",
      "Epoch 76/200\n",
      "15/15 [==============================] - 0s 3ms/step - loss: 1.1857 - accuracy: 0.0000e+00\n",
      "Epoch 77/200\n",
      "15/15 [==============================] - 0s 3ms/step - loss: 1.0986 - accuracy: 0.0000e+00\n",
      "Epoch 78/200\n",
      "15/15 [==============================] - 0s 4ms/step - loss: 1.0865 - accuracy: 0.0000e+00\n",
      "Epoch 79/200\n",
      "15/15 [==============================] - 0s 4ms/step - loss: 1.0542 - accuracy: 0.0000e+00\n",
      "Epoch 80/200\n",
      "15/15 [==============================] - 0s 3ms/step - loss: 1.1078 - accuracy: 0.0000e+00\n",
      "Epoch 81/200\n",
      "15/15 [==============================] - 0s 3ms/step - loss: 1.1353 - accuracy: 0.0000e+00\n",
      "Epoch 82/200\n",
      "15/15 [==============================] - 0s 3ms/step - loss: 1.1082 - accuracy: 0.0000e+00\n",
      "Epoch 83/200\n",
      "15/15 [==============================] - 0s 3ms/step - loss: 1.2907 - accuracy: 0.0000e+00\n",
      "Epoch 84/200\n",
      "15/15 [==============================] - 0s 3ms/step - loss: 2.0526 - accuracy: 0.0000e+00\n",
      "Epoch 85/200\n",
      "15/15 [==============================] - 0s 3ms/step - loss: 1.1109 - accuracy: 0.0000e+00\n",
      "Epoch 86/200\n",
      "15/15 [==============================] - 0s 3ms/step - loss: 1.1537 - accuracy: 0.0000e+00\n",
      "Epoch 87/200\n",
      "15/15 [==============================] - 0s 3ms/step - loss: 1.0895 - accuracy: 0.0024\n",
      "Epoch 88/200\n",
      "15/15 [==============================] - 0s 3ms/step - loss: 1.0939 - accuracy: 0.0000e+00\n",
      "Epoch 89/200\n",
      "15/15 [==============================] - 0s 2ms/step - loss: 3.9597 - accuracy: 0.0058\n",
      "Epoch 90/200\n",
      "15/15 [==============================] - 0s 3ms/step - loss: 1.1200 - accuracy: 0.0000e+00\n",
      "Epoch 91/200\n",
      "15/15 [==============================] - 0s 3ms/step - loss: 1.2012 - accuracy: 0.0000e+00\n",
      "Epoch 92/200\n",
      "15/15 [==============================] - 0s 4ms/step - loss: 1.2301 - accuracy: 0.0000e+00\n",
      "Epoch 93/200\n",
      "15/15 [==============================] - 0s 4ms/step - loss: 1.1002 - accuracy: 0.0000e+00\n",
      "Epoch 94/200\n",
      "15/15 [==============================] - 0s 3ms/step - loss: 1.0945 - accuracy: 0.0000e+00\n",
      "Epoch 95/200\n",
      "15/15 [==============================] - 0s 3ms/step - loss: 1.0981 - accuracy: 0.0000e+00\n",
      "Epoch 96/200\n",
      "15/15 [==============================] - 0s 3ms/step - loss: 1.0798 - accuracy: 0.0000e+00\n",
      "Epoch 97/200\n",
      "15/15 [==============================] - 0s 3ms/step - loss: 1.1042 - accuracy: 0.0024\n",
      "Epoch 98/200\n",
      "15/15 [==============================] - 0s 4ms/step - loss: 1.1054 - accuracy: 0.0021\n",
      "Epoch 99/200\n",
      "15/15 [==============================] - 0s 4ms/step - loss: 1.1393 - accuracy: 0.0000e+00\n",
      "Epoch 100/200\n",
      "15/15 [==============================] - 0s 4ms/step - loss: 1.1295 - accuracy: 0.0000e+00\n",
      "Epoch 101/200\n",
      "15/15 [==============================] - 0s 3ms/step - loss: 1.0925 - accuracy: 0.0000e+00\n",
      "Epoch 102/200\n",
      "15/15 [==============================] - 0s 2ms/step - loss: 1.0953 - accuracy: 0.0012\n",
      "Epoch 103/200\n",
      "15/15 [==============================] - 0s 3ms/step - loss: 1.3810 - accuracy: 0.0000e+00\n",
      "Epoch 104/200\n",
      "15/15 [==============================] - 0s 3ms/step - loss: 1.1070 - accuracy: 0.0000e+00\n",
      "Epoch 105/200\n",
      "15/15 [==============================] - 0s 3ms/step - loss: 1.1192 - accuracy: 0.0000e+00\n",
      "Epoch 106/200\n",
      "15/15 [==============================] - 0s 3ms/step - loss: 1.0919 - accuracy: 0.0000e+00\n",
      "Epoch 107/200\n",
      "15/15 [==============================] - 0s 3ms/step - loss: 1.1026 - accuracy: 0.0000e+00\n",
      "Epoch 108/200\n",
      "15/15 [==============================] - 0s 3ms/step - loss: 1.0989 - accuracy: 0.0000e+00\n",
      "Epoch 109/200\n",
      "15/15 [==============================] - 0s 2ms/step - loss: 1.0956 - accuracy: 3.4722e-04\n",
      "Epoch 110/200\n",
      "15/15 [==============================] - 0s 4ms/step - loss: 1.0959 - accuracy: 0.0000e+00\n",
      "Epoch 111/200\n",
      "15/15 [==============================] - 0s 2ms/step - loss: 1.1208 - accuracy: 0.0000e+00\n",
      "Epoch 112/200\n",
      "15/15 [==============================] - 0s 3ms/step - loss: 1.1035 - accuracy: 0.0000e+00\n",
      "Epoch 113/200\n",
      "15/15 [==============================] - 0s 3ms/step - loss: 1.2023 - accuracy: 0.0000e+00\n",
      "Epoch 114/200\n",
      "15/15 [==============================] - 0s 2ms/step - loss: 1.0970 - accuracy: 0.0000e+00\n",
      "Epoch 115/200\n",
      "15/15 [==============================] - 0s 3ms/step - loss: 1.0814 - accuracy: 0.0000e+00\n",
      "Epoch 116/200\n",
      "15/15 [==============================] - 0s 3ms/step - loss: 1.1029 - accuracy: 0.0000e+00\n",
      "Epoch 117/200\n",
      "15/15 [==============================] - 0s 3ms/step - loss: 1.0978 - accuracy: 0.0000e+00\n",
      "Epoch 118/200\n",
      "15/15 [==============================] - 0s 2ms/step - loss: 1.0619 - accuracy: 0.0000e+00\n",
      "Epoch 119/200\n",
      "15/15 [==============================] - 0s 3ms/step - loss: 1.3063 - accuracy: 0.0014\n",
      "Epoch 120/200\n",
      "15/15 [==============================] - 0s 3ms/step - loss: 1.0905 - accuracy: 0.0000e+00\n",
      "Epoch 121/200\n",
      "15/15 [==============================] - 0s 3ms/step - loss: 1.3082 - accuracy: 0.0000e+00\n",
      "Epoch 122/200\n",
      "15/15 [==============================] - 0s 5ms/step - loss: 1.1012 - accuracy: 0.0000e+00\n",
      "Epoch 123/200\n",
      "15/15 [==============================] - 0s 3ms/step - loss: 1.0876 - accuracy: 0.0000e+00\n",
      "Epoch 124/200\n",
      "15/15 [==============================] - 0s 2ms/step - loss: 1.0882 - accuracy: 0.0012\n",
      "Epoch 125/200\n",
      "15/15 [==============================] - 0s 3ms/step - loss: 1.1083 - accuracy: 0.0012\n",
      "Epoch 126/200\n",
      "15/15 [==============================] - 0s 2ms/step - loss: 1.0932 - accuracy: 0.0000e+00\n",
      "Epoch 127/200\n",
      "15/15 [==============================] - 0s 3ms/step - loss: 1.1472 - accuracy: 0.0000e+00\n",
      "Epoch 128/200\n",
      "15/15 [==============================] - 0s 3ms/step - loss: 1.0910 - accuracy: 0.0000e+00\n",
      "Epoch 129/200\n",
      "15/15 [==============================] - 0s 3ms/step - loss: 1.0807 - accuracy: 0.0000e+00\n",
      "Epoch 130/200\n",
      "15/15 [==============================] - 0s 2ms/step - loss: 1.0979 - accuracy: 0.0000e+00\n",
      "Epoch 131/200\n",
      "15/15 [==============================] - 0s 3ms/step - loss: 1.1509 - accuracy: 0.0000e+00\n",
      "Epoch 132/200\n",
      "15/15 [==============================] - 0s 3ms/step - loss: 1.0967 - accuracy: 0.0000e+00\n",
      "Epoch 133/200\n",
      "15/15 [==============================] - 0s 3ms/step - loss: 1.0975 - accuracy: 0.0000e+00\n",
      "Epoch 134/200\n",
      "15/15 [==============================] - 0s 3ms/step - loss: 1.0945 - accuracy: 0.0000e+00\n",
      "Epoch 135/200\n",
      "15/15 [==============================] - 0s 4ms/step - loss: 1.0808 - accuracy: 0.0000e+00\n",
      "Epoch 136/200\n",
      "15/15 [==============================] - 0s 4ms/step - loss: 1.0876 - accuracy: 0.0000e+00\n",
      "Epoch 137/200\n",
      "15/15 [==============================] - 0s 2ms/step - loss: 1.1540 - accuracy: 0.0000e+00\n",
      "Epoch 138/200\n",
      "15/15 [==============================] - 0s 3ms/step - loss: 1.0804 - accuracy: 0.0040\n",
      "Epoch 139/200\n",
      "15/15 [==============================] - 0s 2ms/step - loss: 1.1034 - accuracy: 0.0000e+00\n",
      "Epoch 140/200\n",
      "15/15 [==============================] - 0s 3ms/step - loss: 1.0991 - accuracy: 0.0062\n",
      "Epoch 141/200\n",
      "15/15 [==============================] - 0s 2ms/step - loss: 1.0653 - accuracy: 0.0014\n",
      "Epoch 142/200\n",
      "15/15 [==============================] - 0s 3ms/step - loss: 1.0812 - accuracy: 0.0000e+00\n",
      "Epoch 143/200\n",
      "15/15 [==============================] - 0s 2ms/step - loss: 1.1857 - accuracy: 0.0017\n",
      "Epoch 144/200\n",
      "15/15 [==============================] - 0s 3ms/step - loss: 1.0863 - accuracy: 0.0000e+00\n",
      "Epoch 145/200\n",
      "15/15 [==============================] - 0s 3ms/step - loss: 1.0953 - accuracy: 0.0000e+00\n",
      "Epoch 146/200\n",
      "15/15 [==============================] - 0s 4ms/step - loss: 1.2319 - accuracy: 0.0000e+00\n",
      "Epoch 147/200\n",
      "15/15 [==============================] - 0s 3ms/step - loss: 1.0949 - accuracy: 0.0000e+00\n",
      "Epoch 148/200\n",
      "15/15 [==============================] - 0s 3ms/step - loss: 1.0878 - accuracy: 0.0000e+00\n",
      "Epoch 149/200\n",
      "15/15 [==============================] - 0s 3ms/step - loss: 1.0987 - accuracy: 0.0000e+00\n",
      "Epoch 150/200\n",
      "15/15 [==============================] - 0s 2ms/step - loss: 1.0977 - accuracy: 0.0000e+00\n",
      "Epoch 151/200\n",
      "15/15 [==============================] - 0s 3ms/step - loss: 1.1002 - accuracy: 0.0000e+00\n",
      "Epoch 152/200\n",
      "15/15 [==============================] - 0s 2ms/step - loss: 1.1876 - accuracy: 0.0000e+00\n",
      "Epoch 153/200\n",
      "15/15 [==============================] - 0s 3ms/step - loss: 1.0939 - accuracy: 0.0000e+00\n",
      "Epoch 154/200\n",
      "15/15 [==============================] - 0s 2ms/step - loss: 1.0990 - accuracy: 0.0000e+00\n",
      "Epoch 155/200\n",
      "15/15 [==============================] - 0s 2ms/step - loss: 1.0983 - accuracy: 0.0000e+00\n",
      "Epoch 156/200\n",
      "15/15 [==============================] - 0s 4ms/step - loss: 1.0981 - accuracy: 0.0000e+00\n",
      "Epoch 157/200\n",
      "15/15 [==============================] - 0s 3ms/step - loss: 1.1022 - accuracy: 0.0000e+00\n",
      "Epoch 158/200\n",
      "15/15 [==============================] - 0s 3ms/step - loss: 1.1009 - accuracy: 0.0000e+00\n",
      "Epoch 159/200\n",
      "15/15 [==============================] - 0s 3ms/step - loss: 1.0928 - accuracy: 0.0000e+00\n",
      "Epoch 160/200\n",
      "15/15 [==============================] - 0s 3ms/step - loss: 1.0957 - accuracy: 0.0000e+00\n",
      "Epoch 161/200\n",
      "15/15 [==============================] - 0s 3ms/step - loss: 1.0863 - accuracy: 0.0040\n",
      "Epoch 162/200\n",
      "15/15 [==============================] - 0s 4ms/step - loss: 1.0980 - accuracy: 0.0000e+00\n",
      "Epoch 163/200\n",
      "15/15 [==============================] - 0s 3ms/step - loss: 1.1021 - accuracy: 0.0000e+00\n",
      "Epoch 164/200\n",
      "15/15 [==============================] - 0s 2ms/step - loss: 1.1034 - accuracy: 0.0000e+00\n",
      "Epoch 165/200\n",
      "15/15 [==============================] - 0s 2ms/step - loss: 1.1004 - accuracy: 0.0000e+00\n",
      "Epoch 166/200\n",
      "15/15 [==============================] - 0s 3ms/step - loss: 1.1018 - accuracy: 0.0000e+00\n",
      "Epoch 167/200\n",
      "15/15 [==============================] - 0s 3ms/step - loss: 1.0956 - accuracy: 0.0000e+00\n",
      "Epoch 168/200\n",
      "15/15 [==============================] - 0s 2ms/step - loss: 1.0942 - accuracy: 0.0000e+00\n",
      "Epoch 169/200\n",
      "15/15 [==============================] - 0s 3ms/step - loss: 1.1647 - accuracy: 0.0000e+00\n",
      "Epoch 170/200\n",
      "15/15 [==============================] - 0s 3ms/step - loss: 1.0924 - accuracy: 0.0000e+00\n",
      "Epoch 171/200\n",
      "15/15 [==============================] - 0s 3ms/step - loss: 1.0961 - accuracy: 0.0000e+00\n",
      "Epoch 172/200\n",
      "15/15 [==============================] - 0s 4ms/step - loss: 1.0995 - accuracy: 0.0000e+00\n",
      "Epoch 173/200\n",
      "15/15 [==============================] - 0s 3ms/step - loss: 1.1005 - accuracy: 0.0000e+00\n",
      "Epoch 174/200\n",
      "15/15 [==============================] - 0s 3ms/step - loss: 1.0930 - accuracy: 0.0000e+00\n",
      "Epoch 175/200\n",
      "15/15 [==============================] - 0s 3ms/step - loss: 1.0933 - accuracy: 0.0000e+00\n",
      "Epoch 176/200\n",
      "15/15 [==============================] - 0s 3ms/step - loss: 1.0959 - accuracy: 0.0000e+00\n",
      "Epoch 177/200\n",
      "15/15 [==============================] - 0s 3ms/step - loss: 1.0993 - accuracy: 0.0000e+00\n",
      "Epoch 178/200\n",
      "15/15 [==============================] - 0s 3ms/step - loss: 1.1451 - accuracy: 0.0000e+00\n",
      "Epoch 179/200\n",
      "15/15 [==============================] - 0s 3ms/step - loss: 1.0950 - accuracy: 0.0000e+00\n",
      "Epoch 180/200\n",
      "15/15 [==============================] - 0s 2ms/step - loss: 1.0993 - accuracy: 0.0000e+00\n",
      "Epoch 181/200\n",
      "15/15 [==============================] - 0s 3ms/step - loss: 1.1023 - accuracy: 0.0000e+00\n",
      "Epoch 182/200\n",
      "15/15 [==============================] - 0s 3ms/step - loss: 1.0975 - accuracy: 0.0000e+00\n",
      "Epoch 183/200\n",
      "15/15 [==============================] - 0s 3ms/step - loss: 1.0992 - accuracy: 0.0000e+00\n",
      "Epoch 184/200\n",
      "15/15 [==============================] - 0s 3ms/step - loss: 1.0940 - accuracy: 0.0000e+00\n",
      "Epoch 185/200\n",
      "15/15 [==============================] - 0s 2ms/step - loss: 1.0999 - accuracy: 0.0000e+00\n",
      "Epoch 186/200\n",
      "15/15 [==============================] - 0s 3ms/step - loss: 1.1018 - accuracy: 0.0000e+00\n",
      "Epoch 187/200\n",
      "15/15 [==============================] - 0s 3ms/step - loss: 1.0978 - accuracy: 0.0000e+00\n",
      "Epoch 188/200\n",
      "15/15 [==============================] - 0s 4ms/step - loss: 1.0889 - accuracy: 0.0000e+00\n",
      "Epoch 189/200\n",
      "15/15 [==============================] - 0s 3ms/step - loss: 1.0806 - accuracy: 0.0000e+00\n",
      "Epoch 190/200\n",
      "15/15 [==============================] - 0s 3ms/step - loss: 1.1033 - accuracy: 0.0000e+00\n",
      "Epoch 191/200\n",
      "15/15 [==============================] - 0s 2ms/step - loss: 1.2780 - accuracy: 0.0000e+00\n",
      "Epoch 192/200\n",
      "15/15 [==============================] - 0s 4ms/step - loss: 1.2339 - accuracy: 0.0000e+00\n",
      "Epoch 193/200\n",
      "15/15 [==============================] - 0s 2ms/step - loss: 1.1010 - accuracy: 0.0000e+00\n",
      "Epoch 194/200\n",
      "15/15 [==============================] - 0s 3ms/step - loss: 1.1029 - accuracy: 0.0000e+00\n",
      "Epoch 195/200\n",
      "15/15 [==============================] - 0s 2ms/step - loss: 1.1988 - accuracy: 0.0000e+00\n",
      "Epoch 196/200\n",
      "15/15 [==============================] - 0s 3ms/step - loss: 1.0986 - accuracy: 0.0000e+00\n",
      "Epoch 197/200\n",
      "15/15 [==============================] - 0s 4ms/step - loss: 1.0995 - accuracy: 0.0000e+00\n",
      "Epoch 198/200\n",
      "15/15 [==============================] - 0s 3ms/step - loss: 1.0955 - accuracy: 0.0000e+00\n",
      "Epoch 199/200\n",
      "15/15 [==============================] - 0s 3ms/step - loss: 1.1006 - accuracy: 0.0000e+00\n",
      "Epoch 200/200\n",
      "15/15 [==============================] - 0s 3ms/step - loss: 1.0972 - accuracy: 0.0000e+00\n"
     ]
    }
   ],
   "source": [
    "hist = model.fit(X_train, Y_train, epochs=EPOCH, batch_size=BATCH_SIZE)"
   ]
  },
  {
   "cell_type": "code",
   "execution_count": null,
   "metadata": {},
   "outputs": [],
   "source": []
  },
  {
   "cell_type": "code",
   "execution_count": null,
   "metadata": {},
   "outputs": [],
   "source": []
  }
 ],
 "metadata": {
  "interpreter": {
   "hash": "c4b82a688ac9d51af22df73ecb32f8c357eaf29ead4bdad3176f9fe46fa95080"
  },
  "kernelspec": {
   "display_name": "Python 3.8.3 64-bit ('base': conda)",
   "name": "python3"
  },
  "language_info": {
   "codemirror_mode": {
    "name": "ipython",
    "version": 3
   },
   "file_extension": ".py",
   "mimetype": "text/x-python",
   "name": "python",
   "nbconvert_exporter": "python",
   "pygments_lexer": "ipython3",
   "version": "3.8.3"
  }
 },
 "nbformat": 4,
 "nbformat_minor": 4
}