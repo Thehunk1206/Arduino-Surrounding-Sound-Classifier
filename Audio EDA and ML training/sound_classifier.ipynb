{
 "cells": [
  {
   "cell_type": "markdown",
   "metadata": {},
   "source": [
    "# FFT Audio Data EDA"
   ]
  },
  {
   "cell_type": "markdown",
   "metadata": {},
   "source": [
    "## Python note book to do the following\n",
    "* Read Audio FFT(Fast Fourier transformed) transformed data from CVS.\n",
    "* Drop unwanted Column.\n",
    "* Each instance of audio FFT data is in String format, Convert it to numpy array.\n",
    "* Create OneHotEncoded Target variable.\n",
    "* Split the Data for training, testing and Validating model."
   ]
  },
  {
   "cell_type": "code",
   "execution_count": 83,
   "metadata": {},
   "outputs": [],
   "source": [
    "import pandas as pd\n",
    "import numpy as np\n",
    "import matplotlib.pyplot as plt\n",
    "from sklearn.model_selection import train_test_split\n",
    "from sklearn.preprocessing import OneHotEncoder\n",
    "\n",
    "import os"
   ]
  },
  {
   "cell_type": "markdown",
   "metadata": {},
   "source": [
    "### Read the data from CSV"
   ]
  },
  {
   "cell_type": "code",
   "execution_count": 84,
   "metadata": {},
   "outputs": [],
   "source": [
    "df = pd.read_csv(\"Dataset/surrounding_audio_dataset_FFT.csv\")"
   ]
  },
  {
   "cell_type": "markdown",
   "metadata": {},
   "source": [
    "### Drop Unwanted Data"
   ]
  },
  {
   "cell_type": "code",
   "execution_count": 85,
   "metadata": {},
   "outputs": [
    {
     "data": {
      "text/plain": [
       "Index(['Unnamed: 0', 'audio_spectrum_vec', 'target'], dtype='object')"
      ]
     },
     "execution_count": 85,
     "metadata": {},
     "output_type": "execute_result"
    }
   ],
   "source": [
    "df.columns"
   ]
  },
  {
   "cell_type": "code",
   "execution_count": 86,
   "metadata": {},
   "outputs": [],
   "source": [
    "df = df.drop([\"Unnamed: 0\"], axis=1)"
   ]
  },
  {
   "cell_type": "code",
   "execution_count": 87,
   "metadata": {},
   "outputs": [
    {
     "data": {
      "text/html": [
       "<div>\n",
       "<style scoped>\n",
       "    .dataframe tbody tr th:only-of-type {\n",
       "        vertical-align: middle;\n",
       "    }\n",
       "\n",
       "    .dataframe tbody tr th {\n",
       "        vertical-align: top;\n",
       "    }\n",
       "\n",
       "    .dataframe thead th {\n",
       "        text-align: right;\n",
       "    }\n",
       "</style>\n",
       "<table border=\"1\" class=\"dataframe\">\n",
       "  <thead>\n",
       "    <tr style=\"text-align: right;\">\n",
       "      <th></th>\n",
       "      <th>audio_spectrum_vec</th>\n",
       "      <th>target</th>\n",
       "    </tr>\n",
       "  </thead>\n",
       "  <tbody>\n",
       "    <tr>\n",
       "      <th>0</th>\n",
       "      <td>2622.95, 2240.01, 2147.05, 3862.66, 2162.50, 2...</td>\n",
       "      <td>FANS_ON</td>\n",
       "    </tr>\n",
       "    <tr>\n",
       "      <th>1</th>\n",
       "      <td>1005.18, 1711.41, 2957.96, 3726.38, 3499.52, 3...</td>\n",
       "      <td>FANS_ON</td>\n",
       "    </tr>\n",
       "    <tr>\n",
       "      <th>2</th>\n",
       "      <td>5097.55, 6840.28, 6229.43, 5413.84, 3086.14, 1...</td>\n",
       "      <td>FANS_ON</td>\n",
       "    </tr>\n",
       "    <tr>\n",
       "      <th>3</th>\n",
       "      <td>5051.88, 5329.28, 6198.93, 5951.65, 6787.53, 8...</td>\n",
       "      <td>FANS_ON</td>\n",
       "    </tr>\n",
       "    <tr>\n",
       "      <th>4</th>\n",
       "      <td>1492.61, 1623.57, 1693.71, 2177.69, 2955.78, 3...</td>\n",
       "      <td>FANS_ON</td>\n",
       "    </tr>\n",
       "  </tbody>\n",
       "</table>\n",
       "</div>"
      ],
      "text/plain": [
       "                                  audio_spectrum_vec   target\n",
       "0  2622.95, 2240.01, 2147.05, 3862.66, 2162.50, 2...  FANS_ON\n",
       "1  1005.18, 1711.41, 2957.96, 3726.38, 3499.52, 3...  FANS_ON\n",
       "2  5097.55, 6840.28, 6229.43, 5413.84, 3086.14, 1...  FANS_ON\n",
       "3  5051.88, 5329.28, 6198.93, 5951.65, 6787.53, 8...  FANS_ON\n",
       "4  1492.61, 1623.57, 1693.71, 2177.69, 2955.78, 3...  FANS_ON"
      ]
     },
     "execution_count": 87,
     "metadata": {},
     "output_type": "execute_result"
    }
   ],
   "source": [
    "df.head()"
   ]
  },
  {
   "cell_type": "code",
   "execution_count": 88,
   "metadata": {},
   "outputs": [
    {
     "data": {
      "text/plain": [
       "array(['FANS_ON', 'WHISTLE', 'SILENT_ROOM', 'GLASS_BREAKING'],\n",
       "      dtype=object)"
      ]
     },
     "execution_count": 88,
     "metadata": {},
     "output_type": "execute_result"
    }
   ],
   "source": [
    "df[\"target\"].unique()"
   ]
  },
  {
   "cell_type": "markdown",
   "metadata": {},
   "source": [
    "### Create Two var, one holding Audio FFT vec data and other Target variable"
   ]
  },
  {
   "cell_type": "code",
   "execution_count": 89,
   "metadata": {},
   "outputs": [],
   "source": [
    "feature_x = df['audio_spectrum_vec'].copy()\n",
    "target_y = df[\"target\"].copy()"
   ]
  },
  {
   "cell_type": "code",
   "execution_count": 90,
   "metadata": {},
   "outputs": [
    {
     "data": {
      "text/plain": [
       "count         600\n",
       "unique          4\n",
       "top       WHISTLE\n",
       "freq          150\n",
       "Name: target, dtype: object"
      ]
     },
     "execution_count": 90,
     "metadata": {},
     "output_type": "execute_result"
    }
   ],
   "source": [
    "target_y.describe()"
   ]
  },
  {
   "cell_type": "code",
   "execution_count": 91,
   "metadata": {},
   "outputs": [
    {
     "data": {
      "text/plain": [
       "<matplotlib.axes._subplots.AxesSubplot at 0x7f06b8146100>"
      ]
     },
     "execution_count": 91,
     "metadata": {},
     "output_type": "execute_result"
    },
    {
     "data": {
      "image/png": "[encoded data removed]",
      "text/plain": [
       "<Figure size 432x288 with 1 Axes>"
      ]
     },
     "metadata": {
      "needs_background": "light"
     },
     "output_type": "display_data"
    }
   ],
   "source": [
    "target_y.hist()"
   ]
  },
  {
   "cell_type": "code",
   "execution_count": 92,
   "metadata": {},
   "outputs": [],
   "source": [
    "dataset = []\n",
    "\n",
    "for f in feature_x:\n",
    "    str_data_list = f.split(\",\")\n",
    "    str_data_np = np.array([str_data_list])\n",
    "    data_np = str_data_np.astype(np.float)\n",
    "    dataset.append(data_np)\n",
    "    \n",
    "dataset_np = np.array(dataset)"
   ]
  },
  {
   "cell_type": "code",
   "execution_count": 93,
   "metadata": {},
   "outputs": [
    {
     "data": {
      "text/plain": [
       "(600, 1, 248)"
      ]
     },
     "execution_count": 93,
     "metadata": {},
     "output_type": "execute_result"
    }
   ],
   "source": [
    "dataset_np.shape"
   ]
  },
  {
   "cell_type": "markdown",
   "metadata": {},
   "source": [
    "### OneHot encoding target variable"
   ]
  },
  {
   "cell_type": "code",
   "execution_count": 94,
   "metadata": {},
   "outputs": [],
   "source": [
    "oh_enc = OneHotEncoder(sparse=False)"
   ]
  },
  {
   "cell_type": "code",
   "execution_count": 95,
   "metadata": {},
   "outputs": [],
   "source": [
    "target_y = target_y.to_numpy()"
   ]
  },
  {
   "cell_type": "code",
   "execution_count": 96,
   "metadata": {},
   "outputs": [],
   "source": [
    "target_y = target_y.reshape(-1,1)"
   ]
  },
  {
   "cell_type": "code",
   "execution_count": 97,
   "metadata": {},
   "outputs": [],
   "source": [
    "target_encoded = oh_enc.fit_transform(target_y)"
   ]
  },
  {
   "cell_type": "code",
   "execution_count": 98,
   "metadata": {},
   "outputs": [
    {
     "data": {
      "text/plain": [
       "(600, 4)"
      ]
     },
     "execution_count": 98,
     "metadata": {},
     "output_type": "execute_result"
    }
   ],
   "source": [
    "target_encoded.shape"
   ]
  },
  {
   "cell_type": "markdown",
   "metadata": {},
   "source": [
    "### Ploting Frequency Spectrum"
   ]
  },
  {
   "cell_type": "code",
   "execution_count": 116,
   "metadata": {},
   "outputs": [
    {
     "data": {
      "image/png": "[encoded data removed]",
      "text/plain": [
       "<Figure size 2160x1440 with 10 Axes>"
      ]
     },
     "metadata": {
      "needs_background": "light"
     },
     "output_type": "display_data"
    }
   ],
   "source": [
    "def plot_fft_audio_spectrum():\n",
    "    fig = plt.figure(figsize=(30, 20))\n",
    "    fig.subplots_adjust(hspace=0.3, wspace=0.2)\n",
    "    for i in range(10):\n",
    "        randvar = np.random.randint(0,target_encoded.shape[0])\n",
    "        plt.subplot(5, 2, i+1)\n",
    "        plt.title(df[\"target\"][randvar])\n",
    "        plt.plot(dataset_np[randvar].reshape(-1, 1))\n",
    "\n",
    "\n",
    "plot_fft_audio_spectrum()\n"
   ]
  },
  {
   "cell_type": "code",
   "execution_count": 100,
   "metadata": {},
   "outputs": [],
   "source": [
    "X_train, X_test, y_train, y_test = train_test_split(dataset_np,target_encoded,test_size=0.2,train_size=0.8,random_state=20,shuffle = True)"
   ]
  },
  {
   "cell_type": "code",
   "execution_count": 101,
   "metadata": {},
   "outputs": [
    {
     "name": "stdout",
     "output_type": "stream",
     "text": [
      "(480, 1, 248) (120, 1, 248) (480, 4) (120, 4)\n"
     ]
    }
   ],
   "source": [
    "print(X_train.shape,\n",
    "X_test.shape,\n",
    "y_train.shape,\n",
    "y_test.shape\n",
    ")"
   ]
  },
  {
   "cell_type": "code",
   "execution_count": 102,
   "metadata": {},
   "outputs": [
    {
     "data": {
      "text/plain": [
       "array([[1., 0., 0., 0.],\n",
       "       [0., 0., 0., 1.],\n",
       "       [0., 0., 0., 1.],\n",
       "       ...,\n",
       "       [0., 0., 0., 1.],\n",
       "       [0., 1., 0., 0.],\n",
       "       [0., 0., 1., 0.]])"
      ]
     },
     "execution_count": 102,
     "metadata": {},
     "output_type": "execute_result"
    }
   ],
   "source": [
    "y_train"
   ]
  },
  {
   "cell_type": "markdown",
   "metadata": {},
   "source": [
    "### Viausalizing Data in Lower dimension using PCA"
   ]
  },
  {
   "cell_type": "code",
   "execution_count": 103,
   "metadata": {},
   "outputs": [],
   "source": [
    "import plotly.express as px\n",
    "from sklearn.decomposition import PCA\n"
   ]
  },
  {
   "cell_type": "code",
   "execution_count": 112,
   "metadata": {},
   "outputs": [],
   "source": [
    "pca = PCA(n_components=10)"
   ]
  },
  {
   "cell_type": "code",
   "execution_count": 109,
   "metadata": {},
   "outputs": [
    {
     "data": {
      "text/plain": [
       "(600, 248)"
      ]
     },
     "execution_count": 109,
     "metadata": {},
     "output_type": "execute_result"
    }
   ],
   "source": [
    "squeeqed_data = np.squeeze(dataset_np)\n",
    "squeeqed_data.shape"
   ]
  },
  {
   "cell_type": "code",
   "execution_count": 113,
   "metadata": {},
   "outputs": [],
   "source": [
    "components = pca.fit_transform(squeeqed_data)\n",
    "total_var = pca.explained_variance_ratio_.sum() * 100"
   ]
  },
  {
   "cell_type": "code",
   "execution_count": 118,
   "metadata": {},
   "outputs": [
    {
     "data": {
      "application/vnd.plotly.v1+json": {
       "config": {
        "plotlyServerURL": "https://plot.ly"
       },
       "data": [
        {
         "hovertemplate": "color=FANS_ON<br>PC 1=%{x}<br>PC 2=%{y}<br>PC 3=%{z}<extra></extra>",
         "legendgroup": "FANS_ON",
         "marker": {
          "color": "#636efa",
          "symbol": "circle"
         },
         "mode": "markers",
         "name": "FANS_ON",
         "scene": "scene",
         "showlegend": true,
         "type": "scatter3d",
         "x": [
          -12223.570484426598,
          -13486.214487563951,
          -11398.336708203013,
          5297.095388310058,
          -10279.127752846582,
          -10243.736059918307,
          -9054.509850627226,
          -9253.481357163546,
          66715.69876854986,
          -5161.183516469419,
          -16345.988079806491,
          -20265.23100254266,
          -19039.702061371223,
          5640.278616618416,
          93455.3794637337,
          -18694.312538295093,
          -19790.69846204717,
          -14911.656261231921,
          -11412.739177938076,
          97275.68877425464,
          -20269.512247826027,
          -20183.128864645692,
          69169.2464567503,
          59685.299076275034,
          -17757.715103142695,
          -16097.649743313319,
          -21927.496000176317,
          52979.812135965905,
          84163.88087406507,
          -18320.272694508287,
          -19348.735942289866,
          -18471.381449625118,
          83246.00849687014,
          -13992.603129750485,
          51116.35541344688,
          -18072.90733623015,
          -18456.46742381829,
          -19014.718114536594,
          -15949.615631715407,
          -18115.936041476987,
          -18495.356858068917,
          6318.544584074233,
          -18374.329614649996,
          -17945.213844090555,
          -16201.570457446116,
          -12969.119563830307,
          -14219.191219513985,
          -9374.513363543614,
          -7842.28404409762,
          -6800.194009244541,
          -13190.88897169977,
          -5520.183557726811,
          -7995.87874844486,
          1508.8697663595283,
          -891.6901267712075,
          -11755.829493732403,
          -10864.876775876995,
          -12543.35830103425,
          -11019.846001462192,
          -15903.799306538702,
          -11805.269979080993,
          -1218.4984861842222,
          7769.92858588713,
          6965.715539260738,
          -12652.562945844946,
          -15686.071558031343,
          -6834.584351838264,
          -13730.923374622967,
          -15703.953109009475,
          -14534.293030140148,
          -15715.310978779,
          -12360.670621802528,
          -12497.763442341484,
          -15664.772854071838,
          -13911.754639711207,
          -15781.915576950449,
          -14744.419346141947,
          -13826.088017684837,
          -8133.37778223887,
          -10717.147426908552,
          -12672.167014857414,
          -8404.236300963852,
          -12274.100870301623,
          -10053.923581400988,
          -14995.085923023704,
          -10959.908229158726,
          -17050.465433304358,
          -13622.30318855572,
          -16190.473200071881,
          -18141.135620451827,
          -16388.567239688924,
          -14516.296632476378,
          -14133.758686496116,
          -9321.485344004108,
          -11891.997728182561,
          -10987.297320829492,
          69085.53005196614,
          -2619.036028104359,
          -10783.613336362472,
          -4836.76694721453,
          -15198.65186559993,
          -16197.491446526074,
          -13714.388220255729,
          -6820.106115350845,
          7711.343961419243,
          15379.805765609155,
          -3521.2659335251956,
          -13322.428926635928,
          -15205.598760520144,
          -9694.193161212173,
          -15256.885413926464,
          -16877.992237720788,
          -15453.872122903802,
          30876.176575622874,
          -13617.609745722348,
          -13657.632080664609,
          -11334.446147916638,
          -10907.288997295636,
          -13100.440920351912,
          -7679.762092269424,
          -15857.774894985187,
          -19801.591197977606,
          -16077.197065230337,
          52131.09099130519,
          -8602.01254259451,
          -14103.030288741316,
          -17148.59346498403,
          -13458.434604896089,
          -12078.140895143379,
          -15209.381707585726,
          -15682.081416127336,
          -11967.252446688804,
          -15951.325084132332,
          -12490.738391669234,
          -11500.014175965307,
          -11544.712717654538,
          -16373.619683781808,
          -15068.225637935158,
          -14855.782444055249,
          -12510.56075658969,
          -14573.037317476425,
          -14819.754636199654,
          -15739.69839327667,
          -18421.219548416524,
          -16422.062979395774,
          -15507.211400851404,
          -16261.932904558082,
          -9048.577060367435,
          -14032.525882880445,
          -12304.415967592315
         ],
         "y": [
          4256.819754757467,
          4365.675589181021,
          6152.281913628898,
          16027.802737947643,
          4763.627369640064,
          7788.084499273699,
          6700.345260904888,
          6984.236989252937,
          62567.59915519263,
          8974.339285794264,
          2136.1967418398904,
          482.6959566591701,
          1121.8644794578447,
          20171.43667451521,
          76699.17380191557,
          1346.3493249472592,
          885.800023237139,
          5594.40097644277,
          7436.794495458277,
          88189.049693308,
          -388.8707769548458,
          437.1195487627603,
          72744.76923316033,
          55602.47273144399,
          1821.0005077096891,
          729.0992558362275,
          -806.4929999602975,
          50418.57157539652,
          54268.61238275054,
          1496.8745569190542,
          179.85536360298443,
          1296.2586632479167,
          48007.75656931696,
          6310.983440254606,
          40980.058147392214,
          -402.88931413499165,
          941.9452171325745,
          -14.444741717665606,
          3499.005226559447,
          1425.6587782019078,
          1602.7792892872064,
          20466.81395228295,
          1027.0792166820427,
          -252.7493728074808,
          881.0400021153641,
          1551.5661430075236,
          3097.9707208028817,
          5305.475023983238,
          5669.397912149254,
          6764.475707485581,
          4032.376724301265,
          7034.505568303831,
          3885.741909943019,
          10429.347303698036,
          15287.165460870454,
          2474.3565260104706,
          6220.221230332533,
          4002.6484973770034,
          4850.270965767076,
          3054.1485056545475,
          7910.519310601154,
          11843.754658956672,
          16564.216786940193,
          15672.795242927934,
          3501.76997321684,
          3818.3410757616334,
          4039.630304454733,
          4927.484655183063,
          2635.6488044387884,
          3216.9600254830457,
          2612.7378833232788,
          6790.777973003614,
          7053.2366462134,
          2266.3443857912484,
          6507.261637520247,
          3254.3883157692608,
          4041.1511640663975,
          4362.2398113307045,
          11389.852769725563,
          7402.1957783026,
          4438.079927745237,
          7705.07007282192,
          6351.104854747688,
          7396.207043455353,
          4106.969252206835,
          7710.254292645719,
          1401.0297057991213,
          5198.512137245914,
          4351.467724623072,
          2621.709139001928,
          3788.5988614202106,
          3713.7921195953454,
          3063.5818173951725,
          4713.950557472137,
          7576.72944102891,
          6008.3674276868205,
          66355.02390090798,
          11576.461777974255,
          4243.305935276672,
          4001.591558885593,
          3683.5263588553275,
          2779.8563791418014,
          3123.5556569528853,
          4943.832672052036,
          16846.899805498397,
          24841.857575832713,
          9445.519147068197,
          4454.426418473226,
          2578.1976751737643,
          6122.334270780471,
          4357.351988215106,
          1560.8257931554417,
          2365.0671364466525,
          38180.885907772055,
          3810.4557709858173,
          4185.214677511279,
          4740.868668860769,
          531.0590334899177,
          3666.013893557916,
          5720.101344627426,
          3343.423112691682,
          388.53957220608874,
          732.4626972127987,
          28285.82520225881,
          9293.619351906322,
          3414.5536233662383,
          1209.4974318814093,
          4505.353560045452,
          3679.128845450231,
          3491.1227573605283,
          2830.0889880632863,
          3861.9330816368733,
          4090.4444848823623,
          6129.42054594369,
          5924.008690266184,
          5218.602248398496,
          3828.729705810893,
          2874.7853678024508,
          2710.8462097037527,
          3814.724543513218,
          3400.052936907666,
          4134.380341820239,
          4599.496293135523,
          1252.0129485309399,
          2700.5055696664526,
          1489.538960400197,
          4100.460751218243,
          6729.851132831073,
          1736.7578436402293,
          4646.869630502766
         ],
         "z": [
          -78.30490642823298,
          -256.51959996604086,
          -1452.5952021185092,
          -3105.1106332133904,
          675.1066661379984,
          -1267.811297103336,
          -991.4973991122245,
          -35.15844854947154,
          -20789.828396044886,
          -557.2884907985103,
          -652.225327585923,
          -1157.7578760737817,
          -906.4738900523998,
          -7921.806444029896,
          -28330.347436627046,
          -792.4780047357931,
          13.25505319115825,
          -1817.7365329158517,
          -2189.3359778353906,
          -31567.45556348683,
          -438.3612007651528,
          -437.3332443309503,
          -24223.944912954878,
          -15370.777460638186,
          -756.050077089489,
          392.1416004052657,
          -33.30708749811347,
          -14230.55371908529,
          -3439.1662820705187,
          -100.33338881441477,
          211.49368283064354,
          -1222.6266342227198,
          -10082.435132170462,
          -3328.5738613610542,
          -4982.18568034647,
          1500.7084461147047,
          -120.68498919379839,
          -1525.6321752989882,
          -477.69355806345646,
          -1173.3746708037347,
          -259.41967461772464,
          -7032.542454806563,
          -787.7636297443474,
          -87.56324782079838,
          1520.5922814067592,
          825.4018653349198,
          -999.3040192345818,
          -1547.1851651459642,
          -220.02836965674163,
          -1315.5629230739705,
          179.41579484160124,
          83.98536767537604,
          239.12035984214015,
          -100.57128457587565,
          -4656.236521908582,
          752.3724011621927,
          -1384.1505221100158,
          822.4852404226987,
          -650.8193457338143,
          -553.6794416080195,
          -2584.1725783875218,
          -4027.954052522914,
          -4112.541954198191,
          -2626.8300633863178,
          800.8914781197312,
          -664.559411058582,
          -3414.5564333504935,
          -204.0967686732782,
          303.13351363596723,
          436.46371777062683,
          24.75702069681797,
          -1401.6072639808538,
          -2270.936529278108,
          -759.823040502188,
          -1333.4755591698597,
          -909.8140127178651,
          -97.19382127750362,
          73.0351277053249,
          -3355.6799282404518,
          -2499.2784357653236,
          -591.9157028802148,
          -476.10728463705095,
          -1199.7829018517605,
          -1585.40596056615,
          -722.4232257681191,
          -2952.523615371342,
          160.51131165222392,
          -1456.4407643385505,
          -1895.0144949022301,
          -15.141532110269157,
          -381.3429947818614,
          -515.4168802327637,
          1502.6071164577922,
          -727.6455380664519,
          -1510.4126483130938,
          -2070.5850162925135,
          -22501.2537907023,
          -3279.880088249488,
          -622.9478756625577,
          955.3150091247313,
          -684.2007004892339,
          -937.3248072089345,
          -1243.3751140030126,
          -177.33880810141895,
          -6691.449278320192,
          -7324.4787579543345,
          -868.955467084906,
          -259.0816473286515,
          -381.61856629470856,
          -1654.0373283302408,
          -1307.769131408757,
          211.35505731850736,
          484.33248452375534,
          -14539.001999577747,
          -485.76168531260055,
          -166.64770613501423,
          270.9260021785722,
          2400.163159574564,
          230.01594508180816,
          -1451.8185518331618,
          278.51532592151517,
          -503.0403020101671,
          749.0847378192377,
          -11486.224942029658,
          -3546.290016466772,
          212.84260290987652,
          -870.2937174567053,
          -273.6576926596337,
          1537.9114518328406,
          -1134.6759860219747,
          -1098.8376693795612,
          2230.4622594615375,
          -707.5553802842214,
          -937.9212782413338,
          -1016.5325920241488,
          -807.0601444739332,
          -1131.4789434892,
          -1082.4194088186757,
          -848.9525250455042,
          -1279.2597818591717,
          -15.909255377786957,
          -708.537399858742,
          -1672.7319699151808,
          -447.46902305714167,
          662.92680868547,
          -368.56774972164277,
          -1145.2472827202412,
          -2382.103041528197,
          -291.7913727721785,
          -615.1911569512877
         ]
        },
        {
         "hovertemplate": "color=WHISTLE<br>PC 1=%{x}<br>PC 2=%{y}<br>PC 3=%{z}<extra></extra>",
         "legendgroup": "WHISTLE",
         "marker": {
          "color": "#EF553B",
          "symbol": "circle"
         },
         "mode": "markers",
         "name": "WHISTLE",
         "scene": "scene",
         "showlegend": true,
         "type": "scatter3d",
         "x": [
          -19613.784568788735,
          35357.17779753006,
          38000.79908613338,
          72907.60177963339,
          13236.719733299171,
          137822.66530269335,
          133804.26496112676,
          2573.739715898937,
          137660.73434111758,
          22829.388119165655,
          145433.7649774257,
          2915.2299419924675,
          58254.32962995956,
          28303.011757835964,
          -1138.5449026579545,
          104239.01395336543,
          49884.89820141195,
          16648.697905400746,
          140317.67217273428,
          68757.05118562926,
          100062.91523515318,
          441.98666757573096,
          62365.11144786053,
          45812.71098107513,
          -7417.8148953755335,
          3572.733067142447,
          -384.2718019289392,
          7820.935927972825,
          -16679.16656110552,
          25650.59970909491,
          -2755.5763723553027,
          -9459.058105610018,
          193.26307028672863,
          4976.213807845875,
          18999.959111146327,
          -7044.6428278463945,
          -5966.448721641353,
          7354.748904722765,
          38004.20657457057,
          -16182.551458575135,
          -19669.39332649588,
          326402.9418945706,
          -15295.154904342078,
          -20177.36836279689,
          43430.3976515385,
          -4156.817316543027,
          -6208.137764738201,
          10894.516704095777,
          8749.313803017289,
          31636.873788837376,
          37691.376287390936,
          72444.6940375981,
          -18702.038900626223,
          -17594.130456085837,
          -19703.728956410912,
          26875.986454240643,
          -7186.761226023646,
          9003.908845737658,
          12318.266343420917,
          -19083.65690662291,
          -16941.40430918196,
          40566.900052308665,
          20865.99520760642,
          19912.864564474206,
          -12855.01486989564,
          45313.58413247386,
          28346.34465732676,
          74409.26944269336,
          -15928.815431104418,
          -20391.985772984557,
          117139.6840198529,
          102555.62974891682,
          -14744.827016871131,
          33698.712389676104,
          3185.0927075768736,
          95901.31098418428,
          9586.759837286154,
          39896.24936964385,
          41585.68992119916,
          -12140.038209039683,
          -18899.620569518793,
          -17270.285942213122,
          34223.85515067721,
          25494.357569310352,
          -7354.879358961681,
          30436.38204357292,
          45693.4034797067,
          22435.991098586142,
          11793.945255037255,
          -12725.10464047361,
          -7004.4146908982175,
          1460.1860777361276,
          -1543.6257033574484,
          -15676.315958610583,
          57561.17206334986,
          -3094.62888831066,
          -16896.255424480743,
          61449.72114023452,
          14948.576585340948,
          -4386.151174557542,
          1990.7049045985127,
          -12489.407733722534,
          35439.02273071704,
          -7969.5788003943535,
          86373.05413153901,
          -3333.238963582798,
          -19187.781945330997,
          -7925.619188359842,
          14599.478613348456,
          -10046.199970258498,
          38497.48032453821,
          36482.321146947674,
          62043.9770674376,
          48192.00318753561,
          12601.474677014703,
          31028.202457894353,
          -3411.745430084931,
          70786.03881284574,
          -13428.0409284657,
          -20334.475539218405,
          1214.8745713507224,
          52148.45477919994,
          -17173.91904018976,
          -20256.479692747856,
          32096.95255742177,
          24476.27381142555,
          -20329.578951595082,
          1244.600220194663,
          -17857.30242338116,
          39880.54622816941,
          38738.899628230014,
          -19166.222338395786,
          95141.23657188693,
          -2254.768042235712,
          -19966.574866361058,
          -19878.068446176396,
          4838.9001525601925,
          24492.237583918984,
          23357.06481669536,
          -11186.832367271994,
          15745.526151962182,
          44739.4778198069,
          -15360.185050654454,
          20378.312137490015,
          25239.556313163393,
          35596.44649101357,
          -15452.421508484444,
          48435.45860077085,
          31497.197962017377,
          24235.95044429323
         ],
         "y": [
          1182.72110656108,
          12041.916501244297,
          -1745.2652353966587,
          37596.65879634263,
          3116.567595240009,
          -33295.92545620214,
          28910.489075250098,
          6703.257880909679,
          95749.48372330458,
          3202.9077726333385,
          74339.02351392926,
          3904.289338437521,
          32799.31206490452,
          -8889.300763938023,
          -1138.2547938822165,
          6360.465796018992,
          7784.596940469888,
          2374.0670807187003,
          107587.08495131643,
          -56856.32114251614,
          -69564.42402355585,
          5068.755070744049,
          20970.755446734074,
          5533.785207785243,
          221.77340757693713,
          -15268.726544118748,
          855.1411815976244,
          4605.079848821348,
          1134.1523011853303,
          14977.848198907912,
          4738.540810159477,
          104.34977642038822,
          -35.46533179554958,
          -14299.095873246943,
          -25282.980994466965,
          -6769.641478642264,
          -9631.350693864877,
          -23008.82047525823,
          -39854.412621944284,
          -246.4383419116593,
          1226.1176193406977,
          60842.266308199425,
          -491.0224499003991,
          -915.4158641835459,
          15877.844148238799,
          -432.28366728933304,
          2534.3451338674313,
          10812.07721495617,
          1087.854212552598,
          9719.785466770398,
          15208.1104711263,
          47671.28326030276,
          2055.781382471108,
          1536.1615821328116,
          351.6834668812189,
          -313.8311528963581,
          646.2803277569047,
          -8070.528848924871,
          -19644.58997624853,
          1477.3893453606402,
          1390.2690695345807,
          20704.984096003624,
          -19744.302354954867,
          -14164.978541923838,
          -4463.467241422365,
          -16734.991712505383,
          -27148.1579549561,
          -3673.4070391512755,
          473.57367961865964,
          -376.09451777653595,
          -38183.71919759594,
          -75054.24192706915,
          674.5390088732383,
          -9266.606796507796,
          15680.950303834696,
          33835.06545302207,
          73.96542248507245,
          22308.446474440625,
          13026.720330114997,
          -4863.239961319531,
          1473.530484831437,
          -324.81364219033105,
          -303.6224452210449,
          -2368.110654230158,
          -9231.431974539084,
          -28433.64020551382,
          -40956.384300434234,
          17632.206306269,
          -3235.613137200018,
          911.4366191678519,
          -3449.547351976015,
          5287.696397409541,
          2732.0968355854484,
          -810.4137081373559,
          6921.204662413504,
          4956.320786155932,
          -815.0633752826859,
          31866.250676112442,
          19848.890440996518,
          -202.952040827581,
          10005.0759581741,
          52.72487683579322,
          -46055.080536035115,
          -429.1711025479363,
          25871.72993036868,
          -874.5561408034002,
          785.5403544284956,
          -8188.420289630129,
          -22447.9173755991,
          537.3026405626265,
          21043.705723168972,
          31154.910193082505,
          -55708.152999228994,
          30784.444259928972,
          -4615.1724178971135,
          12760.259088872444,
          -240.80201321057987,
          9398.733528083409,
          3733.3901652658556,
          -153.4126637092457,
          -9747.395151042867,
          -41356.031701814754,
          1720.6993329693225,
          376.9636591726342,
          -7153.432134719678,
          -20130.66940587563,
          24.44721402571064,
          -7167.072172294942,
          1787.539809008959,
          -41083.45995982892,
          -39699.57056586213,
          1568.1019877877834,
          -32465.99784822446,
          -10151.045029802226,
          -99.59024541098,
          87.56695036049679,
          -13490.768624940447,
          -1310.863326199753,
          -19342.982133919453,
          -2233.0414743406423,
          -26858.95466435188,
          -25697.18785489972,
          -973.2048259228372,
          -11231.826046238604,
          -12467.02600031343,
          1662.641376010467,
          -1314.5878028379668,
          -40030.46568562415,
          7441.230887556322,
          2823.6964984638007
         ],
         "z": [
          -734.0956772800304,
          28594.43128714982,
          -13580.516210813581,
          -4504.657177342839,
          15275.878470272624,
          -38360.549895423945,
          41922.11785144324,
          4301.804669852112,
          -14039.150737700349,
          20543.607658715217,
          37650.512653538884,
          9972.053066085986,
          36282.026468834774,
          -1911.4334131843605,
          9095.661252862006,
          9533.310948233304,
          28120.91207526153,
          13805.553440042422,
          -17135.439170154157,
          -24444.95282443766,
          -36934.18835044651,
          7454.745023295219,
          3607.3836922013797,
          14613.996833641702,
          2701.365174781851,
          -6297.650443424889,
          4327.854483593366,
          5346.05476607485,
          1758.3156181885242,
          9353.90264967494,
          13438.388259925798,
          1897.080586342158,
          8314.642515966503,
          -6573.391746926439,
          -5975.125532845867,
          -1039.8449423259883,
          -3463.898782487037,
          -12845.316281340052,
          -19315.593771871838,
          -659.6770350891528,
          -1323.8789041610873,
          -79907.68741832791,
          -2481.038977688196,
          -428.7504320857454,
          7955.200531842433,
          -3000.255957888994,
          3498.7887098488263,
          8355.689106969832,
          14194.7081324305,
          16076.935222849697,
          26649.302112887337,
          26047.241062148154,
          -1177.0954902946007,
          -1046.5812805053783,
          -572.8875929965619,
          9076.73811373471,
          5336.392240265546,
          2526.3045692336455,
          -12150.50079025041,
          -1327.7263127911863,
          370.03549264043903,
          18786.261667216906,
          -7701.931984085225,
          -12249.484453013813,
          -1370.5324158977178,
          16438.802808993845,
          -1832.4781427251994,
          8819.077752964366,
          1102.4823201872919,
          -162.9405554972445,
          82045.28961315964,
          -2157.038859653149,
          -749.4996094946852,
          18455.069420181353,
          -4660.780771294214,
          24842.691121520143,
          13058.443210556223,
          14429.63067790654,
          9424.876433745061,
          -3032.7518888335508,
          -1351.8281498832318,
          -1252.7943736731338,
          21191.635568057638,
          18449.54608358677,
          -4937.139772053295,
          -14409.202651354319,
          -29109.031030215432,
          -2122.0424874322657,
          7751.375992176591,
          1982.9095792777705,
          11025.685180307833,
          8082.892603738211,
          3268.778017520429,
          161.0459898310099,
          18576.4042877904,
          5623.497078714203,
          152.34048437380824,
          25460.47806951612,
          -1875.3527448794755,
          -6143.2051985469,
          2144.064839580722,
          6196.109394903823,
          -24164.511976929887,
          5727.144600497432,
          26855.753677203065,
          11511.938518029034,
          261.04929175501195,
          -4686.984906616481,
          -10689.903538507759,
          2830.389159744443,
          10702.376633386206,
          13992.50154958476,
          -34725.27176907083,
          7930.344763508723,
          22185.945292107488,
          19209.120539470063,
          -960.4615308804204,
          56095.061396698475,
          2104.8380570477725,
          -663.6198796876988,
          -5589.123602916621,
          14090.540201365091,
          -889.4639592785104,
          -481.05140369911584,
          22088.50757553833,
          -2558.488428651509,
          -889.3623043283827,
          3290.3563290217203,
          7.717105966858388,
          -25753.15241329267,
          -25946.266104056267,
          -918.1005701010747,
          30651.95950570966,
          4716.9360999942155,
          -489.0471220245642,
          -235.72699734567195,
          593.8070664266284,
          24218.287012520934,
          7952.102832497631,
          -1379.1495268310262,
          -16454.690648468862,
          16585.70277157594,
          -1387.009961516563,
          -2896.785628418069,
          -944.9538480910255,
          1295.4845374810225,
          -1069.9759391492473,
          -30291.912096636494,
          17079.535306713693,
          11777.798083359725
         ]
        },
        {
         "hovertemplate": "color=SILENT_ROOM<br>PC 1=%{x}<br>PC 2=%{y}<br>PC 3=%{z}<extra></extra>",
         "legendgroup": "SILENT_ROOM",
         "marker": {
          "color": "#00cc96",
          "symbol": "circle"
         },
         "mode": "markers",
         "name": "SILENT_ROOM",
         "scene": "scene",
         "showlegend": true,
         "type": "scatter3d",
         "x": [
          -21436.817050687147,
          -24559.49247235062,
          -24537.585929084784,
          -20842.52790017633,
          -22077.15600480529,
          -24420.61627642927,
          -23358.949322598226,
          -23756.14022112707,
          -24882.74135369463,
          -24802.17208574247,
          -23124.509878807912,
          -20819.52577907193,
          -22551.0210725254,
          -23176.50704303746,
          -24982.414365782428,
          -24409.602055287207,
          -23807.34067833572,
          -23347.313396743295,
          -22277.160041404506,
          -23397.81917199766,
          -24363.948572560552,
          -24293.184829841488,
          -24883.471419018326,
          -24059.817388320764,
          -25185.559179223117,
          -24739.227516531213,
          -24273.45387274298,
          -23969.95140991391,
          -22663.95777685502,
          -24950.67160864481,
          -23471.806271167738,
          -24767.24022987699,
          -24479.576558719094,
          -24523.455797178623,
          -22758.056366405224,
          -21559.94719963442,
          -22273.0801992566,
          -24508.454626520663,
          -23535.79573827712,
          -24349.350923136848,
          -24750.37286441773,
          -24983.834617100143,
          -23012.07924144826,
          -24332.513420037976,
          -22245.649957870464,
          -24523.225684700465,
          -24954.670927582454,
          -25028.535445916266,
          -24742.754612358676,
          -24524.41963727485,
          -20650.325644863344,
          -24504.14881251231,
          -24464.684711288905,
          -24133.252481835956,
          -25051.862992704373,
          -22786.02609560133,
          -24274.070678570686,
          -24403.585110719625,
          -22702.008357400693,
          -24884.100020430928,
          -24563.53954728192,
          -24711.98876657833,
          -22100.959161664618,
          -23944.849362160312,
          -24766.201458467724,
          -24019.268129107597,
          -23011.51902349443,
          -24799.84828663436,
          -23920.135364256104,
          -23947.42018049063,
          -22307.935690702525,
          -22700.82317681796,
          -24522.12287454231,
          -24681.503109004407,
          -24209.970124473093,
          -23338.585660918998,
          -23888.589215148957,
          -24511.765076040694,
          -25274.838208456338,
          -23593.632325082745,
          -25000.99574808037,
          -25036.41273413467,
          -24247.090017524453,
          -24939.395181032094,
          -23576.041042848894,
          -24294.99751565664,
          -23528.84989235165,
          -24799.312860640126,
          -24110.095237005196,
          -24425.407015314075,
          -24880.513311008872,
          -23228.91251780487,
          -25004.142185685017,
          -24740.738631616845,
          -23425.877970608588,
          -24101.568423358905,
          -20457.574776357524,
          -23908.144737542727,
          -22668.36011225026,
          -21733.493903289815,
          -23800.38890747902,
          -21568.68621936955,
          -22612.7284228086,
          -24168.28467524746,
          -24423.3084043807,
          -24298.82025564167,
          -24075.479321851915,
          -25029.76692472943,
          -24300.330410508108,
          -24974.534703317273,
          -25166.12292240723,
          -24660.096602136404,
          -24753.488095755856,
          -25116.066945141178,
          -25075.86993318222,
          -24260.662176533984,
          -24928.08019408,
          -25022.693995957914,
          -24545.349967325164,
          -24497.119470856745,
          -24927.74594620172,
          -24988.888690350097,
          -24903.924129107003,
          -25065.65922898011,
          -24644.124382964197,
          -24494.985071576775,
          -24342.90130416508,
          -24754.815551990992,
          -23821.32208633957,
          -24492.059107621408,
          -24664.48931050171,
          -24646.90511263158,
          -24376.96372815954,
          -24707.449410153196,
          -24906.119332550512,
          -24514.085235709368,
          -24694.206459757315,
          -24630.841622539523,
          -24457.080352823326,
          -25182.665718160668,
          -24102.268366568565,
          -25044.360703466547,
          -24903.470599466487,
          -24774.681825862495,
          -24847.431960246253,
          -24475.329711210987,
          -18195.336307759124,
          -24204.919219368356,
          -24065.899387554357,
          -23806.638522072288
         ],
         "y": [
          764.889839384246,
          -600.8080898366857,
          -569.7535941432664,
          1869.3844553457118,
          1274.7397788562578,
          -510.13138172660894,
          281.52181159111433,
          24.149279060960367,
          -790.3320566942394,
          -740.903422425231,
          301.74199291756923,
          2117.5482379797745,
          880.648544607046,
          518.7834859605624,
          -808.8158790194489,
          -266.3204551179504,
          -86.43557561456619,
          402.49832550682356,
          833.7345983736703,
          394.8920710584526,
          -388.6763078572529,
          -328.1928506488532,
          -787.9274851158464,
          -236.52254796873035,
          -864.8018796341235,
          -700.9584700147306,
          -257.43160366508414,
          -38.03730840882911,
          477.2531562238771,
          -887.9019538099053,
          177.74210255672745,
          -758.1878502633009,
          -337.3297371300001,
          -438.7525826148831,
          401.55140984977567,
          1353.8960437915755,
          908.4031077280811,
          -424.3235855877109,
          33.36848014142941,
          -469.9496307800367,
          -627.7512765418658,
          -769.6154001373136,
          459.36684851444744,
          -377.0457452129048,
          525.7543750502689,
          -719.5541056040568,
          -882.1032871219667,
          -779.3208007421965,
          -699.9148100970592,
          -536.322094286998,
          2026.1160214833444,
          -474.3190655631324,
          -637.1806894339239,
          -354.3645831475567,
          -840.512126986147,
          1131.193146101676,
          -431.48220807484023,
          -483.11227610835607,
          149.56218757477788,
          -869.2379633926188,
          -758.3602276968068,
          -684.8118379952906,
          1447.2846804027117,
          -501.5411604247718,
          -614.3046168200884,
          -210.35661438421837,
          380.7717613118484,
          -683.0795433695093,
          36.79803370866851,
          -280.856618740504,
          686.4887570678583,
          142.59958562098078,
          -627.7892514278642,
          -676.0366643204676,
          -601.1531619893898,
          -16.79509920174177,
          -275.090861172222,
          -487.4955593134666,
          -979.7823660790174,
          -5.16260439083824,
          -839.7766911501544,
          -866.1053234120307,
          -474.3199426905837,
          -789.5243918118659,
          157.93903158587156,
          -343.2744040838809,
          9.093417032080264,
          -808.4213214676779,
          -132.6025550369006,
          -539.3420497609134,
          -824.1794620421264,
          182.21936840386965,
          -775.2183209829983,
          -622.9031609073372,
          153.44766928380673,
          -158.58147392943,
          2412.9453557110646,
          -171.09963906516458,
          341.7162877643158,
          1053.038352558136,
          121.65138028447906,
          1361.815583315919,
          956.2714215504183,
          -360.7035405217751,
          -498.216735669433,
          -221.93165883325125,
          -367.55684809531397,
          -834.0180569481953,
          -348.93344696572876,
          -809.3530380660955,
          -881.0585575937151,
          -638.8988471711339,
          -674.1174288809094,
          -873.7453838684905,
          -935.3821448583096,
          -380.9621159074357,
          -900.5381174668746,
          -833.0888677832937,
          -638.640232402674,
          -444.67006891893817,
          -637.1868506111189,
          -944.8946623273006,
          -767.904765337699,
          -819.1508837785923,
          -601.2867127600543,
          -409.61109174299077,
          -229.41395354964607,
          -788.5349875461711,
          -102.47509550895178,
          -379.1427442499243,
          -624.7892035530571,
          -574.004992984869,
          -402.2495256437909,
          -632.3614625356333,
          -783.1850337937894,
          -486.453812128353,
          -833.7486941740334,
          -659.2852017224368,
          -554.8428633719728,
          -1001.7136530346725,
          -100.93006152530118,
          -871.9628672711392,
          -822.7089984120398,
          -740.5975596364109,
          -692.5476336095458,
          -488.83592034984207,
          2233.497794806456,
          -176.38094740965977,
          -112.19563938964266,
          -284.5464405456113
         ],
         "z": [
          -585.0591211831742,
          -538.6062237384841,
          -657.8133473102372,
          -1355.5178458737523,
          -1377.260897698777,
          -659.1674400150764,
          -853.0137302955129,
          -915.7894127013153,
          -521.2018913331882,
          -533.9018376552485,
          -661.9710309906712,
          -1307.6089150900864,
          -1143.7057745261473,
          -1191.5230631911186,
          -492.51672897027515,
          -822.0091272893012,
          -682.8621196655546,
          -1041.5876197295427,
          -752.9093093488091,
          -895.0211227765695,
          -634.8068387101741,
          -755.4895853893443,
          -517.2049387391277,
          -737.9830127562669,
          -522.2767640737628,
          -530.6047384921911,
          -727.2604860794441,
          -785.6374011367636,
          -783.2629119380089,
          -406.95406188677634,
          -489.58986357926483,
          -435.4963785349075,
          -646.1540971303318,
          -664.6288008471366,
          -715.1847089099849,
          -1094.3797018237074,
          -1036.3270017987575,
          -672.2110288357992,
          -730.6170573983909,
          -645.7472335845273,
          -577.6169191197274,
          -562.722125715902,
          -703.8475920660993,
          -667.329492154378,
          -1026.083616568615,
          -426.2802341237059,
          -455.60903681221595,
          -546.8783925616532,
          -522.0348638143865,
          -584.7226574768772,
          -1304.5206644747348,
          -622.0598724092569,
          -526.2323708337672,
          -528.1310923403126,
          -508.8152152796404,
          -1502.6015602184884,
          -596.330199768359,
          -634.7451842100639,
          -728.5380671911005,
          -396.591360209859,
          -560.7420504392364,
          -489.53001517311964,
          -1446.977429400763,
          -356.3736026395876,
          -618.2985417003432,
          -581.6284406176594,
          -854.0837400601336,
          -585.7402649757372,
          -778.0822293035882,
          -580.7953703264553,
          -760.2050125650175,
          -613.4930431386169,
          -544.7512036679788,
          -518.8403068584744,
          -697.0613155044231,
          -414.98387896371474,
          -602.1647433596767,
          -616.9435004964673,
          -514.7514386739996,
          -724.2214321605829,
          -499.7244935958522,
          -483.8034845972142,
          -620.5457305395399,
          -507.8850528687904,
          -828.0889951800664,
          -668.5788482236671,
          -666.0037833807467,
          -587.1553569114438,
          -688.6695328807185,
          -600.4384084192737,
          -455.11084924308585,
          -931.9679360868776,
          -570.6855829963395,
          -583.1490180148136,
          -749.7868971433461,
          -721.7109037766656,
          -1612.8472602912714,
          -631.0773681703721,
          -527.3948200295083,
          -1111.9798422876622,
          -896.6977286841031,
          -1217.6979530108983,
          -503.95626603737537,
          -637.9582035841744,
          -596.487711508847,
          -703.2293852772505,
          -553.9130417123806,
          -479.86831148886915,
          -641.5783252754087,
          -466.76476279871747,
          -539.3635449459937,
          -532.2278243334702,
          -595.4993914539617,
          -467.8482933111369,
          -487.900743490159,
          -605.5749033239147,
          -479.6732815796107,
          -535.4135928461961,
          -555.1693107427246,
          -622.2720510113915,
          -638.7332827523642,
          -486.5024824496796,
          -465.9879516923455,
          -549.3529834503952,
          -584.2238507180422,
          -638.9545801235034,
          -763.8699202550753,
          -481.7063976548321,
          -698.2557697766847,
          -647.5085109825515,
          -502.6306064344955,
          -522.4153078957216,
          -589.3748768713872,
          -530.4995574388327,
          -460.8434951503628,
          -611.797683400087,
          -437.8393672174034,
          -510.7421375984468,
          -526.4170322816585,
          -439.36673033371864,
          -776.4435226137264,
          -524.5356538143881,
          -495.7623528901842,
          -573.2360792382734,
          -596.4035851306651,
          -554.0082474230102,
          -608.8223144857833,
          -746.159272049544,
          -659.0050150231857,
          -438.5785655159581
         ]
        },
        {
         "hovertemplate": "color=GLASS_BREAKING<br>PC 1=%{x}<br>PC 2=%{y}<br>PC 3=%{z}<extra></extra>",
         "legendgroup": "GLASS_BREAKING",
         "marker": {
          "color": "#ab63fa",
          "symbol": "circle"
         },
         "mode": "markers",
         "name": "GLASS_BREAKING",
         "scene": "scene",
         "showlegend": true,
         "type": "scatter3d",
         "x": [
          -18801.496421274205,
          133525.71147201755,
          58719.40973572166,
          -17994.310123018633,
          58305.59878747598,
          104506.8851524618,
          58711.924303544176,
          43735.646559982284,
          2009.64675654727,
          -5083.522908723351,
          -2100.636638059533,
          -13219.80441644565,
          -12885.65550483012,
          -14157.55099793899,
          3263.5954105785886,
          -21526.947922530755,
          54165.109463523506,
          69028.96614238535,
          -339.28535874560447,
          18864.69284737919,
          -20524.91767261093,
          131891.15580198166,
          83.58098377929183,
          149794.46583376452,
          52382.75987507185,
          -6023.3557108320365,
          -15796.083506942216,
          17933.329107817408,
          -10088.26070242538,
          -12563.20703539765,
          -16854.627565144623,
          63173.88147326563,
          -17292.81302018914,
          110576.77894058358,
          -19579.95318314849,
          150931.4336771206,
          64269.29774495154,
          -20864.557160684122,
          5640.963967736676,
          54935.68445961734,
          106033.62028014941,
          105786.68121647472,
          81135.8970354298,
          77520.6205340812,
          89394.14238326384,
          12704.823374717358,
          4871.863503853865,
          -12556.423162951241,
          -21421.567950664095,
          -19922.000826834308,
          28368.967141821275,
          -19553.11065085013,
          -6492.160842738266,
          18501.07321427123,
          -17022.434799897324,
          48490.026288711255,
          -6235.928451546411,
          32779.57101805096,
          17767.056078737125,
          -4627.1460052247485,
          -21111.738914813566,
          6883.01023106343,
          -17975.372186810368,
          -17460.10972782841,
          -18249.822710360957,
          86744.51696051199,
          -18856.659535307288,
          -9835.399031697316,
          -19322.859524619522,
          -740.4107755340067,
          -4648.231537887466,
          -18128.120040057373,
          -5930.995380910213,
          -17977.59811132096,
          -13882.828185386097,
          -11442.444817230727,
          -13455.621954097867,
          -11347.402994843462,
          -10198.17357341544,
          -11742.888870596804,
          -7804.63134375854,
          -14921.66363862487,
          -19690.67077163542,
          -23637.851042921597,
          -3384.764989158118,
          -21011.609235023345,
          -11878.95834849599,
          -6488.552047611577,
          -21063.96122693645,
          -7186.00268960734,
          -18236.82641003695,
          -13618.34258520523,
          -15668.142000997183,
          -17116.80865554386,
          -21403.947142665933,
          -20482.104981414017,
          -22382.503695102885,
          -14583.072916766221,
          -21911.484993683192,
          22625.124296855,
          -20863.493866084806,
          -5795.139761265588,
          -24095.78756972545,
          4631.554701522509,
          3737.593039584337,
          -23578.432931100808,
          14726.62056849214,
          -14603.060463962722,
          -1421.3274210278678,
          -6734.9036769109225,
          -7386.241184386936,
          -12474.44136656894,
          6441.754476738155,
          -9080.854380627949,
          -3313.2284789303894,
          -6875.62377803965,
          -22383.88926432644,
          -21867.846416186847,
          21331.701216360816,
          -14991.431362108704,
          810.1284372939078,
          17247.342959315116,
          -3344.1586427041207,
          14903.490730094403,
          -5051.098727511609,
          2566.3130802350865,
          -19125.40273248452,
          8882.103190984832,
          -17429.23760809739,
          -17549.259315941348,
          -11516.091129531944,
          -8506.962880776726,
          -10044.08650619163,
          42854.70803314596,
          -6178.638528400162,
          -554.7629953126822,
          -16456.20929854004,
          20593.44034193832,
          4398.467244985535,
          -16227.169024531368,
          3472.8893023351857,
          -613.5001068855521,
          12386.855404340786,
          12673.404215046101,
          -4983.450813138045,
          -13743.841836292382,
          -4063.474312563391,
          8080.035833972622,
          -1818.888174452722,
          1075.7538284869754
         ],
         "y": [
          1497.6415546302142,
          -35972.25026588139,
          -13887.160652290107,
          3508.1517171777978,
          -13639.072990618655,
          -59782.736710235156,
          -9182.947871898876,
          -19338.73744045724,
          -6382.088601080631,
          -6123.434556504136,
          -2258.446896989397,
          -1095.9500687984041,
          -792.6340297467689,
          256.69875849879264,
          -9817.399468823607,
          903.4944921491449,
          -29254.253378097113,
          -37693.14949048886,
          -13289.431897035734,
          -20822.880033028167,
          506.3124197472788,
          -89089.4854112008,
          -10121.639028478232,
          -93054.26833538347,
          -24130.11209393502,
          -8725.848062925188,
          2917.3225464373277,
          -21137.44505473489,
          7550.1836522088415,
          2696.3314905410716,
          2426.1528788173327,
          -34187.66753490483,
          3081.5448637590766,
          -31470.125741432406,
          1764.986472696128,
          -25882.25105637197,
          -14347.260617157628,
          938.1740180202892,
          -66.86047552012955,
          -20499.3170630738,
          -52212.584005614495,
          -40460.84249581946,
          -22690.957600545516,
          -40770.10828422815,
          -19065.98111597658,
          -3845.9320043645607,
          -7241.493709335223,
          -3441.043069995981,
          1007.2068996854309,
          1940.4018969698936,
          -18558.714069532245,
          2049.917856539007,
          -4307.831855092379,
          -6095.024427887119,
          1891.8027306130875,
          -32427.31059905751,
          -10708.730233273593,
          -21053.760459190205,
          -11738.298427734055,
          -9489.173915594542,
          1376.2890359010335,
          -17934.671977417962,
          1994.9875162612977,
          -1171.229998007628,
          2991.7207529385914,
          -31115.62189858443,
          1832.5647946467616,
          -3367.7949056418206,
          1515.99638798126,
          545.9946032298964,
          952.864830057111,
          3138.5830458999653,
          -3709.6246832645825,
          -1002.099368341199,
          -3693.684118116773,
          -2899.104703585036,
          -2702.3380867835945,
          -1366.9584424427221,
          -2499.5879457605256,
          4012.4716672641225,
          -8114.9156819333975,
          -4643.377170692645,
          581.7412214350593,
          -217.75710265614538,
          -7984.313806906339,
          -176.7889561917004,
          -6785.224682228741,
          -6365.214801495767,
          65.20267526477083,
          -7536.621373776597,
          -4565.676833151507,
          -1955.014063044648,
          163.25085867099207,
          -1463.2725848045557,
          1041.2692025165013,
          -1220.6510316521058,
          -978.7293974717281,
          -1565.6373405210663,
          -870.3584516346075,
          -9280.037853394653,
          -1786.2335064363378,
          -1220.6044136772803,
          -386.5857386375392,
          -2872.0130065370145,
          -1352.1575073656052,
          -60.690546678669875,
          -6577.179981146943,
          -3056.403482652318,
          -10798.676916460572,
          -5498.864411808911,
          -1676.6026693269894,
          -2686.20114804051,
          -824.6370040364627,
          -1219.9090117224764,
          -5868.517702110247,
          -7383.798152737406,
          677.5938823034198,
          -672.9552274619308,
          -14744.606428804891,
          -378.8987109799463,
          -5925.751564247675,
          -12712.832057440306,
          -7608.778749998415,
          -14069.149867841745,
          -8276.382083014716,
          4421.86714500827,
          1969.639339947431,
          2852.8569044242345,
          477.1088735610413,
          2244.77700764432,
          5219.282013906398,
          -4274.43476839579,
          -2685.272579795279,
          -8341.173521569259,
          -1571.7204774314746,
          -3803.2675446406547,
          2990.5633744955053,
          -3337.407604803438,
          -3187.708644960923,
          4460.235201173194,
          -8776.819502746454,
          -2761.6652813677447,
          -10130.644181599277,
          -8341.187567480309,
          336.3029650202869,
          407.9687460705808,
          -4376.091751144888,
          2382.5322868466815,
          -4591.108535943741,
          -5830.024731586891
         ],
         "z": [
          -527.7236051292749,
          -11815.058988179526,
          8875.01293956536,
          -1478.562385459547,
          12519.286166074398,
          -20196.447938272424,
          9412.056410338135,
          1974.839935960002,
          2365.7109955182354,
          -2731.038199236411,
          3688.4981008268105,
          -1294.725352252271,
          386.5004988917041,
          -844.1775467017787,
          -2980.5649308508946,
          -723.0185952432448,
          -6689.7173843461505,
          -23340.639755374046,
          -7623.8990640811635,
          -1043.174852013716,
          -921.3722036040264,
          85900.40493150409,
          -9215.610239352909,
          -38070.17277745608,
          -13461.23543033038,
          -6236.037172528105,
          -135.00997897059833,
          -3829.103416257618,
          -2584.1955223978525,
          -1637.5377912002489,
          17.962426861576745,
          -27369.033026236993,
          -591.2629890210316,
          17143.27138703518,
          -524.471508736462,
          15785.139882385516,
          -2409.8448202490076,
          159.91183738817762,
          1421.3938659187147,
          11895.337339327592,
          9922.337222783031,
          13189.47602568918,
          -8850.075865486888,
          -7288.836870558901,
          1703.2996115503076,
          1004.3962875489103,
          5791.366486667299,
          2407.1067915251347,
          -575.8703675694147,
          -1090.7483522568784,
          5207.346924977422,
          -1132.325411429792,
          -4830.285147535509,
          -3604.6515923625193,
          -692.2339241732419,
          -5613.227433294347,
          -8403.606264935534,
          -5828.5809956370595,
          -1121.5100475311308,
          -4662.051970775461,
          -1480.67487754732,
          -5532.559331349268,
          -1549.9148982425388,
          -1257.3475285332054,
          -1505.4350712514645,
          -3476.3704566702363,
          -1184.1901752069168,
          -1319.1275445543279,
          -249.99560307035262,
          -1455.0368935697168,
          54.49232673112527,
          -1230.0489521457318,
          1038.7599276883361,
          -2014.1759088869978,
          -451.2870962833199,
          -3121.6585203090362,
          186.06387567653366,
          -1657.6974188609079,
          1204.3610574405313,
          -2562.519323393053,
          3397.8528626856382,
          156.53446479601604,
          -462.6604160901144,
          -731.4921305677512,
          -941.6648957446031,
          -1547.626807400766,
          -3876.799021501721,
          -5235.513871557038,
          -1068.3616520494218,
          815.904978437028,
          -2521.4412308062165,
          451.5743566166219,
          -176.23989933563834,
          -946.1887802908778,
          -930.7595997046262,
          -1430.4849501175224,
          -596.6430323468338,
          -3077.2460879658543,
          -1166.687943997355,
          1665.8678956605434,
          -1982.3759140701786,
          -291.81513857698667,
          -774.4832678047611,
          5791.449092873903,
          9241.374815811983,
          -762.2608839723011,
          -953.3823056110976,
          -3492.83695347927,
          -4339.7182426600575,
          -3221.17869333563,
          -1134.172086893143,
          -1423.4676747240053,
          285.88615291699733,
          550.0170001761758,
          1100.0983282710781,
          876.7917723444152,
          -865.0461334566997,
          -1384.0882459596723,
          914.3908342384218,
          -3496.950530126741,
          -5611.256392189669,
          3751.4727840903734,
          -2064.2887533414446,
          833.3717133602566,
          -2897.120086826515,
          2330.9509282858758,
          -1007.0054898601938,
          1680.4522270039965,
          99.70435265928595,
          -766.8416251410479,
          -2280.167015523622,
          -2699.434940870049,
          -1971.4255123931862,
          -5770.01942833019,
          -3021.494705212211,
          2864.4680986063368,
          -796.5220595349529,
          4511.915297675731,
          3550.1196722377586,
          -1515.545938040794,
          -898.7949526638124,
          -549.2255250497878,
          -6414.820532393488,
          -427.9150713234965,
          2346.2984969670897,
          -1931.583399855937,
          3096.4216831492013,
          3851.270416603155,
          4182.161989107512,
          1066.985948913947
         ]
        }
       ],
       "layout": {
        "legend": {
         "title": {
          "text": "color"
         },
         "tracegroupgap": 0
        },
        "scene": {
         "domain": {
          "x": [
           0,
           1
          ],
          "y": [
           0,
           1
          ]
         },
         "xaxis": {
          "title": {
           "text": "PC 1"
          }
         },
         "yaxis": {
          "title": {
           "text": "PC 2"
          }
         },
         "zaxis": {
          "title": {
           "text": "PC 3"
          }
         }
        },
        "template": {
         "data": {
          "bar": [
           {
            "error_x": {
             "color": "#2a3f5f"
            },
            "error_y": {
             "color": "#2a3f5f"
            },
            "marker": {
             "line": {
              "color": "#E5ECF6",
              "width": 0.5
             },
             "pattern": {
              "fillmode": "overlay",
              "size": 10,
              "solidity": 0.2
             }
            },
            "type": "bar"
           }
          ],
          "barpolar": [
           {
            "marker": {
             "line": {
              "color": "#E5ECF6",
              "width": 0.5
             },
             "pattern": {
              "fillmode": "overlay",
              "size": 10,
              "solidity": 0.2
             }
            },
            "type": "barpolar"
           }
          ],
          "carpet": [
           {
            "aaxis": {
             "endlinecolor": "#2a3f5f",
             "gridcolor": "white",
             "linecolor": "white",
             "minorgridcolor": "white",
             "startlinecolor": "#2a3f5f"
            },
            "baxis": {
             "endlinecolor": "#2a3f5f",
             "gridcolor": "white",
             "linecolor": "white",
             "minorgridcolor": "white",
             "startlinecolor": "#2a3f5f"
            },
            "type": "carpet"
           }
          ],
          "choropleth": [
           {
            "colorbar": {
             "outlinewidth": 0,
             "ticks": ""
            },
            "type": "choropleth"
           }
          ],
          "contour": [
           {
            "colorbar": {
             "outlinewidth": 0,
             "ticks": ""
            },
            "colorscale": [
             [
              0,
              "#0d0887"
             ],
             [
              0.1111111111111111,
              "#46039f"
             ],
             [
              0.2222222222222222,
              "#7201a8"
             ],
             [
              0.3333333333333333,
              "#9c179e"
             ],
             [
              0.4444444444444444,
              "#bd3786"
             ],
             [
              0.5555555555555556,
              "#d8576b"
             ],
             [
              0.6666666666666666,
              "#ed7953"
             ],
             [
              0.7777777777777778,
              "#fb9f3a"
             ],
             [
              0.8888888888888888,
              "#fdca26"
             ],
             [
              1,
              "#f0f921"
             ]
            ],
            "type": "contour"
           }
          ],
          "contourcarpet": [
           {
            "colorbar": {
             "outlinewidth": 0,
             "ticks": ""
            },
            "type": "contourcarpet"
           }
          ],
          "heatmap": [
           {
            "colorbar": {
             "outlinewidth": 0,
             "ticks": ""
            },
            "colorscale": [
             [
              0,
              "#0d0887"
             ],
             [
              0.1111111111111111,
              "#46039f"
             ],
             [
              0.2222222222222222,
              "#7201a8"
             ],
             [
              0.3333333333333333,
              "#9c179e"
             ],
             [
              0.4444444444444444,
              "#bd3786"
             ],
             [
              0.5555555555555556,
              "#d8576b"
             ],
             [
              0.6666666666666666,
              "#ed7953"
             ],
             [
              0.7777777777777778,
              "#fb9f3a"
             ],
             [
              0.8888888888888888,
              "#fdca26"
             ],
             [
              1,
              "#f0f921"
             ]
            ],
            "type": "heatmap"
           }
          ],
          "heatmapgl": [
           {
            "colorbar": {
             "outlinewidth": 0,
             "ticks": ""
            },
            "colorscale": [
             [
              0,
              "#0d0887"
             ],
             [
              0.1111111111111111,
              "#46039f"
             ],
             [
              0.2222222222222222,
              "#7201a8"
             ],
             [
              0.3333333333333333,
              "#9c179e"
             ],
             [
              0.4444444444444444,
              "#bd3786"
             ],
             [
              0.5555555555555556,
              "#d8576b"
             ],
             [
              0.6666666666666666,
              "#ed7953"
             ],
             [
              0.7777777777777778,
              "#fb9f3a"
             ],
             [
              0.8888888888888888,
              "#fdca26"
             ],
             [
              1,
              "#f0f921"
             ]
            ],
            "type": "heatmapgl"
           }
          ],
          "histogram": [
           {
            "marker": {
             "pattern": {
              "fillmode": "overlay",
              "size": 10,
              "solidity": 0.2
             }
            },
            "type": "histogram"
           }
          ],
          "histogram2d": [
           {
            "colorbar": {
             "outlinewidth": 0,
             "ticks": ""
            },
            "colorscale": [
             [
              0,
              "#0d0887"
             ],
             [
              0.1111111111111111,
              "#46039f"
             ],
             [
              0.2222222222222222,
              "#7201a8"
             ],
             [
              0.3333333333333333,
              "#9c179e"
             ],
             [
              0.4444444444444444,
              "#bd3786"
             ],
             [
              0.5555555555555556,
              "#d8576b"
             ],
             [
              0.6666666666666666,
              "#ed7953"
             ],
             [
              0.7777777777777778,
              "#fb9f3a"
             ],
             [
              0.8888888888888888,
              "#fdca26"
             ],
             [
              1,
              "#f0f921"
             ]
            ],
            "type": "histogram2d"
           }
          ],
          "histogram2dcontour": [
           {
            "colorbar": {
             "outlinewidth": 0,
             "ticks": ""
            },
            "colorscale": [
             [
              0,
              "#0d0887"
             ],
             [
              0.1111111111111111,
              "#46039f"
             ],
             [
              0.2222222222222222,
              "#7201a8"
             ],
             [
              0.3333333333333333,
              "#9c179e"
             ],
             [
              0.4444444444444444,
              "#bd3786"
             ],
             [
              0.5555555555555556,
              "#d8576b"
             ],
             [
              0.6666666666666666,
              "#ed7953"
             ],
             [
              0.7777777777777778,
              "#fb9f3a"
             ],
             [
              0.8888888888888888,
              "#fdca26"
             ],
             [
              1,
              "#f0f921"
             ]
            ],
            "type": "histogram2dcontour"
           }
          ],
          "mesh3d": [
           {
            "colorbar": {
             "outlinewidth": 0,
             "ticks": ""
            },
            "type": "mesh3d"
           }
          ],
          "parcoords": [
           {
            "line": {
             "colorbar": {
              "outlinewidth": 0,
              "ticks": ""
             }
            },
            "type": "parcoords"
           }
          ],
          "pie": [
           {
            "automargin": true,
            "type": "pie"
           }
          ],
          "scatter": [
           {
            "marker": {
             "colorbar": {
              "outlinewidth": 0,
              "ticks": ""
             }
            },
            "type": "scatter"
           }
          ],
          "scatter3d": [
           {
            "line": {
             "colorbar": {
              "outlinewidth": 0,
              "ticks": ""
             }
            },
            "marker": {
             "colorbar": {
              "outlinewidth": 0,
              "ticks": ""
             }
            },
            "type": "scatter3d"
           }
          ],
          "scattercarpet": [
           {
            "marker": {
             "colorbar": {
              "outlinewidth": 0,
              "ticks": ""
             }
            },
            "type": "scattercarpet"
           }
          ],
          "scattergeo": [
           {
            "marker": {
             "colorbar": {
              "outlinewidth": 0,
              "ticks": ""
             }
            },
            "type": "scattergeo"
           }
          ],
          "scattergl": [
           {
            "marker": {
             "colorbar": {
              "outlinewidth": 0,
              "ticks": ""
             }
            },
            "type": "scattergl"
           }
          ],
          "scattermapbox": [
           {
            "marker": {
             "colorbar": {
              "outlinewidth": 0,
              "ticks": ""
             }
            },
            "type": "scattermapbox"
           }
          ],
          "scatterpolar": [
           {
            "marker": {
             "colorbar": {
              "outlinewidth": 0,
              "ticks": ""
             }
            },
            "type": "scatterpolar"
           }
          ],
          "scatterpolargl": [
           {
            "marker": {
             "colorbar": {
              "outlinewidth": 0,
              "ticks": ""
             }
            },
            "type": "scatterpolargl"
           }
          ],
          "scatterternary": [
           {
            "marker": {
             "colorbar": {
              "outlinewidth": 0,
              "ticks": ""
             }
            },
            "type": "scatterternary"
           }
          ],
          "surface": [
           {
            "colorbar": {
             "outlinewidth": 0,
             "ticks": ""
            },
            "colorscale": [
             [
              0,
              "#0d0887"
             ],
             [
              0.1111111111111111,
              "#46039f"
             ],
             [
              0.2222222222222222,
              "#7201a8"
             ],
             [
              0.3333333333333333,
              "#9c179e"
             ],
             [
              0.4444444444444444,
              "#bd3786"
             ],
             [
              0.5555555555555556,
              "#d8576b"
             ],
             [
              0.6666666666666666,
              "#ed7953"
             ],
             [
              0.7777777777777778,
              "#fb9f3a"
             ],
             [
              0.8888888888888888,
              "#fdca26"
             ],
             [
              1,
              "#f0f921"
             ]
            ],
            "type": "surface"
           }
          ],
          "table": [
           {
            "cells": {
             "fill": {
              "color": "#EBF0F8"
             },
             "line": {
              "color": "white"
             }
            },
            "header": {
             "fill": {
              "color": "#C8D4E3"
             },
             "line": {
              "color": "white"
             }
            },
            "type": "table"
           }
          ]
         },
         "layout": {
          "annotationdefaults": {
           "arrowcolor": "#2a3f5f",
           "arrowhead": 0,
           "arrowwidth": 1
          },
          "autotypenumbers": "strict",
          "coloraxis": {
           "colorbar": {
            "outlinewidth": 0,
            "ticks": ""
           }
          },
          "colorscale": {
           "diverging": [
            [
             0,
             "#8e0152"
            ],
            [
             0.1,
             "#c51b7d"
            ],
            [
             0.2,
             "#de77ae"
            ],
            [
             0.3,
             "#f1b6da"
            ],
            [
             0.4,
             "#fde0ef"
            ],
            [
             0.5,
             "#f7f7f7"
            ],
            [
             0.6,
             "#e6f5d0"
            ],
            [
             0.7,
             "#b8e186"
            ],
            [
             0.8,
             "#7fbc41"
            ],
            [
             0.9,
             "#4d9221"
            ],
            [
             1,
             "#276419"
            ]
           ],
           "sequential": [
            [
             0,
             "#0d0887"
            ],
            [
             0.1111111111111111,
             "#46039f"
            ],
            [
             0.2222222222222222,
             "#7201a8"
            ],
            [
             0.3333333333333333,
             "#9c179e"
            ],
            [
             0.4444444444444444,
             "#bd3786"
            ],
            [
             0.5555555555555556,
             "#d8576b"
            ],
            [
             0.6666666666666666,
             "#ed7953"
            ],
            [
             0.7777777777777778,
             "#fb9f3a"
            ],
            [
             0.8888888888888888,
             "#fdca26"
            ],
            [
             1,
             "#f0f921"
            ]
           ],
           "sequentialminus": [
            [
             0,
             "#0d0887"
            ],
            [
             0.1111111111111111,
             "#46039f"
            ],
            [
             0.2222222222222222,
             "#7201a8"
            ],
            [
             0.3333333333333333,
             "#9c179e"
            ],
            [
             0.4444444444444444,
             "#bd3786"
            ],
            [
             0.5555555555555556,
             "#d8576b"
            ],
            [
             0.6666666666666666,
             "#ed7953"
            ],
            [
             0.7777777777777778,
             "#fb9f3a"
            ],
            [
             0.8888888888888888,
             "#fdca26"
            ],
            [
             1,
             "#f0f921"
            ]
           ]
          },
          "colorway": [
           "#636efa",
           "#EF553B",
           "#00cc96",
           "#ab63fa",
           "#FFA15A",
           "#19d3f3",
           "#FF6692",
           "#B6E880",
           "#FF97FF",
           "#FECB52"
          ],
          "font": {
           "color": "#2a3f5f"
          },
          "geo": {
           "bgcolor": "white",
           "lakecolor": "white",
           "landcolor": "#E5ECF6",
           "showlakes": true,
           "showland": true,
           "subunitcolor": "white"
          },
          "hoverlabel": {
           "align": "left"
          },
          "hovermode": "closest",
          "mapbox": {
           "style": "light"
          },
          "paper_bgcolor": "white",
          "plot_bgcolor": "#E5ECF6",
          "polar": {
           "angularaxis": {
            "gridcolor": "white",
            "linecolor": "white",
            "ticks": ""
           },
           "bgcolor": "#E5ECF6",
           "radialaxis": {
            "gridcolor": "white",
            "linecolor": "white",
            "ticks": ""
           }
          },
          "scene": {
           "xaxis": {
            "backgroundcolor": "#E5ECF6",
            "gridcolor": "white",
            "gridwidth": 2,
            "linecolor": "white",
            "showbackground": true,
            "ticks": "",
            "zerolinecolor": "white"
           },
           "yaxis": {
            "backgroundcolor": "#E5ECF6",
            "gridcolor": "white",
            "gridwidth": 2,
            "linecolor": "white",
            "showbackground": true,
            "ticks": "",
            "zerolinecolor": "white"
           },
           "zaxis": {
            "backgroundcolor": "#E5ECF6",
            "gridcolor": "white",
            "gridwidth": 2,
            "linecolor": "white",
            "showbackground": true,
            "ticks": "",
            "zerolinecolor": "white"
           }
          },
          "shapedefaults": {
           "line": {
            "color": "#2a3f5f"
           }
          },
          "ternary": {
           "aaxis": {
            "gridcolor": "white",
            "linecolor": "white",
            "ticks": ""
           },
           "baxis": {
            "gridcolor": "white",
            "linecolor": "white",
            "ticks": ""
           },
           "bgcolor": "#E5ECF6",
           "caxis": {
            "gridcolor": "white",
            "linecolor": "white",
            "ticks": ""
           }
          },
          "title": {
           "x": 0.05
          },
          "xaxis": {
           "automargin": true,
           "gridcolor": "white",
           "linecolor": "white",
           "ticks": "",
           "title": {
            "standoff": 15
           },
           "zerolinecolor": "white",
           "zerolinewidth": 2
          },
          "yaxis": {
           "automargin": true,
           "gridcolor": "white",
           "linecolor": "white",
           "ticks": "",
           "title": {
            "standoff": 15
           },
           "zerolinecolor": "white",
           "zerolinewidth": 2
          }
         }
        },
        "title": {
         "text": "Total Explained Variance: 85.74%"
        }
       }
      }
     },
     "metadata": {},
     "output_type": "display_data"
    }
   ],
   "source": [
    "fig = px.scatter_3d(\n",
    "    components, x=0, y=1, z=2, color=df['target'],\n",
    "    title=f'Total Explained Variance: {total_var:.2f}%',\n",
    "    labels={'0': 'PC 1', '1': 'PC 2', '2': 'PC 3'}\n",
    ")\n",
    "fig.show()\n",
    "\n",
    "# fig = px.scatter(\n",
    "#     components, x=0, y=1, color=df['target'],\n",
    "#     title=f'Total Explained Variance: {total_var:.2f}%',\n",
    "#     labels={'0': 'PC 1', '1': 'PC 2'}\n",
    "# )\n",
    "# fig.show()"
   ]
  },
  {
   "cell_type": "markdown",
   "metadata": {},
   "source": [
    "# DL model Creating, Training, and Converting to C arrays"
   ]
  }
 ],
 "metadata": {
  "interpreter": {
   "hash": "c4b82a688ac9d51af22df73ecb32f8c357eaf29ead4bdad3176f9fe46fa95080"
  },
  "kernelspec": {
   "display_name": "Python 3.8.3 64-bit ('base': conda)",
   "name": "python3"
  },
  "language_info": {
   "codemirror_mode": {
    "name": "ipython",
    "version": 3
   },
   "file_extension": ".py",
   "mimetype": "text/x-python",
   "name": "python",
   "nbconvert_exporter": "python",
   "pygments_lexer": "ipython3",
   "version": "3.8.3"
  }
 },
 "nbformat": 4,
 "nbformat_minor": 4
}