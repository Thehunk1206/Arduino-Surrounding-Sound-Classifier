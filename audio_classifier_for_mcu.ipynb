{
  "nbformat": 4,
  "nbformat_minor": 0,
  "metadata": {
    "colab": {
      "name": "Audio_classifier_for_mcu.ipynb",
      "provenance": [],
      "collapsed_sections": [],
      "mount_file_id": "1bciwPfFSMrgPTMhE13fxMocrkjrnRHaF",
      "authorship_tag": "ABX9TyNlrn+TGMi4C/dpqLC+3rYF",
      "include_colab_link": true
    },
    "kernelspec": {
      "name": "python3",
      "display_name": "Python 3"
    },
    "language_info": {
      "name": "python"
    }
  },
  "cells": [
    {
      "cell_type": "markdown",
      "metadata": {
        "id": "view-in-github",
        "colab_type": "text"
      },
      "source": [
        "<a href=\"https://colab.research.google.com/github/Thehunk1206/Arduino-Surrounding-Sound-Classifier/blob/master/audio_classifier_for_mcu.ipynb\" target=\"_parent\"><img src=\"https://colab.research.google.com/assets/colab-badge.svg\" alt=\"Open In Colab\"/></a>"
      ]
    },
    {
      "cell_type": "markdown",
      "metadata": {
        "id": "VCMlih5VZW8P"
      },
      "source": [
        "# Audio Classifier for Micro Controller Unit (here: Arduino Nano BLE Sense)"
      ]
    },
    {
      "cell_type": "code",
      "metadata": {
        "colab": {
          "base_uri": "https://localhost:8080/"
        },
        "id": "8wGgLGdwMf79",
        "outputId": "918b030d-39ff-4aa9-9318-9edadaf508f5"
      },
      "source": [
        "%cd drive/MyDrive/audio_classifier_mcu/"
      ],
      "execution_count": 1,
      "outputs": [
        {
          "output_type": "stream",
          "text": [
            "/content/drive/MyDrive/audio_classifier_mcu\n"
          ],
          "name": "stdout"
        }
      ]
    },
    {
      "cell_type": "code",
      "metadata": {
        "colab": {
          "base_uri": "https://localhost:8080/"
        },
        "id": "3hENZjmibBmx",
        "outputId": "5f34a70c-e40c-47d9-b0c6-dfc38c05123c"
      },
      "source": [
        "!nvidia-smi"
      ],
      "execution_count": 2,
      "outputs": [
        {
          "output_type": "stream",
          "text": [
            "NVIDIA-SMI has failed because it couldn't communicate with the NVIDIA driver. Make sure that the latest NVIDIA driver is installed and running.\n",
            "\n"
          ],
          "name": "stdout"
        }
      ]
    },
    {
      "cell_type": "markdown",
      "metadata": {
        "id": "huASGn3R_Hbs"
      },
      "source": [
        "## Importing stuff"
      ]
    },
    {
      "cell_type": "code",
      "metadata": {
        "id": "RyRHohD5bBkL"
      },
      "source": [
        "import os\n",
        "import glob\n",
        "\n",
        "\n",
        "import matplotlib.pyplot as plt\n",
        "import numpy as np\n",
        "import seaborn as sns\n",
        "from tqdm import tqdm\n",
        "\n",
        "import tensorflow as tf\n",
        "from tensorflow.keras import layers\n",
        "from tensorflow.keras import models\n",
        "\n",
        "\n",
        "tf.config.run_functions_eagerly(True)\n",
        "tf.data.experimental.enable_debug_mode()\n",
        "# seed = 102\n",
        "# tf.random.set_seed(seed)\n",
        "# np.random.seed(seed)"
      ],
      "execution_count": 34,
      "outputs": []
    },
    {
      "cell_type": "markdown",
      "metadata": {
        "id": "fOWSK4l_p1d3"
      },
      "source": [
        "## Some Constants"
      ]
    },
    {
      "cell_type": "code",
      "metadata": {
        "id": "-LCA6qjmp6WB"
      },
      "source": [
        "# Audio related\n",
        "SAMPLE_RATE = 16000\n",
        "FRAME_SIZE_MS = 30 \n",
        "FRAME_STRIDE_MS = 20\n",
        "\n",
        "FRAME_SIZE = int(SAMPLE_RATE*(FRAME_SIZE_MS/1000))\n",
        "FRAME_STRIDE = int(SAMPLE_RATE*(FRAME_STRIDE_MS/1000))\n",
        "TAKE_MEAN_AT_INTERVAL = 6\n",
        "\n",
        "#ML related\n",
        "DATA_DIR = 'Dataset/'\n",
        "BATCH_SIZE = 32\n",
        "LR = 2e-3\n",
        "EPOCHS = 50\n",
        "KERAS_MODEL = 'audio_classifier_float.h5'\n",
        "FLOAT_TFLITE_MODEL = 'float_tflite_model.tflite'\n",
        "INTONLY_QUANT_TFLITE_MODEL = 'intonly_quant_tflite_model.tflite'"
      ],
      "execution_count": 14,
      "outputs": []
    },
    {
      "cell_type": "markdown",
      "metadata": {
        "id": "FcTjEpoob2I0"
      },
      "source": [
        "## Splitting Dataset Files"
      ]
    },
    {
      "cell_type": "code",
      "metadata": {
        "id": "ZjQRaH4Gb1l0",
        "colab": {
          "base_uri": "https://localhost:8080/"
        },
        "outputId": "9ae26d45-eca0-4aa7-b5e9-85911524d89f"
      },
      "source": [
        "LABELS = np.array(os.listdir(DATA_DIR))\n",
        "LABEL_IDS = [i for i in range(len(LABELS))]\n",
        "LABEL_ONE_HOT = tf.one_hot(LABEL_IDS, len(LABELS), axis=-1)\n",
        "\n",
        "def audio_datasets_path(data_dir: str, train_split: float = 0.7, val_split: float= 0.1, test_split:float = 0.2):\n",
        "    all_audio_filenames = glob.glob(data_dir+\"/*/*\")\n",
        "    all_audio_filenames = tf.random.shuffle(all_audio_filenames)\n",
        "\n",
        "    train = all_audio_filenames[0:int(len(all_audio_filenames)*train_split)]\n",
        "    val = all_audio_filenames[len(train):len(train)+int(len(all_audio_filenames)*val_split)]\n",
        "    test = all_audio_filenames[-int(len(all_audio_filenames)*test_split):]\n",
        "\n",
        "    return train, val, test\n",
        "\n",
        "LABELS"
      ],
      "execution_count": 4,
      "outputs": [
        {
          "output_type": "execute_result",
          "data": {
            "text/plain": [
              "array(['BACKGROUND', 'FAN', 'WHISTLE'], dtype='<U10')"
            ]
          },
          "metadata": {
            "tags": []
          },
          "execution_count": 4
        }
      ]
    },
    {
      "cell_type": "code",
      "metadata": {
        "id": "XZzYdSK7Doc1"
      },
      "source": [
        "train_audio_files, val_audio_files, test_audio_files = audio_datasets_path(DATA_DIR)"
      ],
      "execution_count": 5,
      "outputs": []
    },
    {
      "cell_type": "markdown",
      "metadata": {
        "id": "m2iMrlDMogF2"
      },
      "source": [
        "## Reading Raw Audio and Label"
      ]
    },
    {
      "cell_type": "code",
      "metadata": {
        "id": "kzM2W_Hzo7ol"
      },
      "source": [
        "def get_label(audio_file_path: str):\n",
        "    string_parts = tf.strings.split(audio_file_path, os.path.sep)\n",
        "    return string_parts[-2]\n",
        "\n",
        "\n",
        "def get_waveform_from_audio_file(audio_file:str):\n",
        "    '''\n",
        "    The audio is of 16-bit PCM i.e values ranging from -32768 to 32767\n",
        "    tf.audio.decode_wav normalizes the data between [-1.0,1.0]\n",
        "    '''\n",
        "    audio_binary = tf.io.read_file(audio_file)\n",
        "    audio_raw, _ = tf.audio.decode_wav(audio_binary,desired_channels=1)\n",
        "    return tf.squeeze(audio_raw, axis=-1)\n",
        "\n",
        "\n",
        "def get_waveform_and_label(audio_file:str):\n",
        "    label = get_label(audio_file)\n",
        "    waveform = get_waveform_from_audio_file(audio_file)\n",
        "\n",
        "    return waveform, label\n"
      ],
      "execution_count": 6,
      "outputs": []
    },
    {
      "cell_type": "markdown",
      "metadata": {
        "id": "BdX39umT0H3f"
      },
      "source": [
        "## Creating Spectogram from Raw Audio"
      ]
    },
    {
      "cell_type": "code",
      "metadata": {
        "id": "cDri74Sr0OcJ"
      },
      "source": [
        "def get_spectrogram_from_raw_audio(waveform: tf.Tensor, frame_size:int = 256, frame_stride:int=128):\n",
        "    '''\n",
        "    Zero padding tha waveform to sampling Rate in case some file have less than 1600 values\n",
        "    '''\n",
        "    zero_padding = tf.zeros([SAMPLE_RATE] - tf.shape(waveform), dtype=tf.float32)\n",
        "    waveform = tf.cast(waveform, tf.float32)\n",
        "    equal_length_of_waveform = tf.concat([waveform, zero_padding], 0)\n",
        "    spectrogram = tf.signal.stft(\n",
        "        equal_length_of_waveform, frame_length=frame_size, frame_step=frame_stride)\n",
        "\n",
        "    spectrogram = tf.abs(spectrogram)\n",
        "\n",
        "    return spectrogram\n",
        "\n",
        "\n",
        "def get_spectrogram_and_label(waveform: tf.Tensor, label: str):\n",
        "    '''\n",
        "    Get both spectrogram and corresponding label_id\n",
        "    '''\n",
        "    spectrogram = get_spectrogram_from_raw_audio(waveform,frame_size=FRAME_SIZE, frame_stride=FRAME_STRIDE)\n",
        "    # spectrogram = tf.py_function(get_averaged_column_spectrtogram, [spectrogram], [tf.float32])\n",
        "    spectrogram = tf.expand_dims(spectrogram, -1)\n",
        "    spectrogram = tf.nn.pool(\n",
        "        input=tf.expand_dims(spectrogram, axis=1),\n",
        "        window_shape = [1,TAKE_MEAN_AT_INTERVAL],\n",
        "        strides = [1,TAKE_MEAN_AT_INTERVAL],\n",
        "        pooling_type='AVG',\n",
        "        padding='VALID'\n",
        "    )\n",
        "    spectrogram = tf.squeeze(spectrogram)\n",
        "    spectrogram = tf.expand_dims(spectrogram, -1)\n",
        "    label_id = tf.argmax(label == LABELS)\n",
        "    label = LABEL_ONE_HOT[label_id]\n",
        "\n",
        "    return spectrogram, label"
      ],
      "execution_count": 7,
      "outputs": []
    },
    {
      "cell_type": "markdown",
      "metadata": {
        "id": "pl_5Xl5XL0mQ"
      },
      "source": [
        "## Creating Data Pipeline using tf.data"
      ]
    },
    {
      "cell_type": "code",
      "metadata": {
        "id": "uRqA96BJL0Be"
      },
      "source": [
        "def preprocess_data(audio_files: tf.Tensor):\n",
        "    audio_files_ds = tf.data.Dataset.from_tensor_slices(audio_files)\n",
        "    output_waveform_ds = audio_files_ds.map(\n",
        "        get_waveform_and_label, num_parallel_calls=tf.data.AUTOTUNE\n",
        "    )\n",
        "    output_spectrogram_ds = output_waveform_ds.map(\n",
        "        get_spectrogram_and_label, num_parallel_calls = tf.data.AUTOTUNE\n",
        "    )\n",
        "    output_spectrogram_ds.shuffle(buffer_size=300)\n",
        "    output_spectrogram_ds.cache().prefetch(tf.data.AUTOTUNE)\n",
        "\n",
        "    return output_spectrogram_ds\n",
        "\n",
        "train_ds = preprocess_data(train_audio_files)\n",
        "val_ds = preprocess_data(val_audio_files)\n",
        "test_ds = preprocess_data(test_audio_files)"
      ],
      "execution_count": 8,
      "outputs": []
    },
    {
      "cell_type": "code",
      "metadata": {
        "colab": {
          "base_uri": "https://localhost:8080/"
        },
        "id": "-OPD4M0xHyNu",
        "outputId": "36e9edb7-533a-409f-f61a-d478b57df737"
      },
      "source": [
        "for spectrogram,label in train_ds.take(1):\n",
        "    print(spectrogram.shape)"
      ],
      "execution_count": 9,
      "outputs": [
        {
          "output_type": "stream",
          "text": [
            "(49, 42, 1)\n"
          ],
          "name": "stdout"
        }
      ]
    },
    {
      "cell_type": "markdown",
      "metadata": {
        "id": "Lm_gODBN-6v3"
      },
      "source": [
        "## Plotting Spectrograms with label"
      ]
    },
    {
      "cell_type": "code",
      "metadata": {
        "id": "LqD4d-xyUYaG",
        "colab": {
          "base_uri": "https://localhost:8080/",
          "height": 1000
        },
        "outputId": "85a3f13c-97b7-49fe-a6e8-a207161d7811"
      },
      "source": [
        "def plot_spectrogram(spectrogram, ax):\n",
        "  # Convert to frequencies to log scale and transpose so that the time is\n",
        "  # represented in the x-axis (columns).\n",
        "  log_spec = np.log(spectrogram.T)\n",
        "  height = log_spec.shape[0]\n",
        "  width = log_spec.shape[1]\n",
        "  X = np.linspace(0, np.size(spectrogram), num=width, dtype=int)\n",
        "  Y = range(height)\n",
        "  ax.pcolormesh(X, Y, log_spec)\n",
        "\n",
        "rows = 3\n",
        "cols = 3\n",
        "n = rows*cols\n",
        "fig, axes = plt.subplots(rows, cols, figsize=(20, 20))\n",
        "for i, (spectrogram, label) in enumerate(train_ds.take(n)):\n",
        "  r = i // cols\n",
        "  c = i % cols\n",
        "  ax = axes[r][c]\n",
        "  plot_spectrogram(np.squeeze(spectrogram.numpy()), ax)\n",
        "  ax.set_title(LABELS[tf.argmax(label)])\n",
        "#   ax.axis('off')\n",
        "\n",
        "plt.show()"
      ],
      "execution_count": 10,
      "outputs": [
        {
          "output_type": "display_data",
          "data": {
            "image/png": "[encoded data removed]",
            "text/plain": [
              "<Figure size 1440x1440 with 9 Axes>"
            ]
          },
          "metadata": {
            "tags": [],
            "needs_background": "light"
          }
        }
      ]
    },
    {
      "cell_type": "markdown",
      "metadata": {
        "id": "7cq3SgMHFYCV"
      },
      "source": [
        "## Model creating and training\n",
        " "
      ]
    },
    {
      "cell_type": "markdown",
      "metadata": {
        "id": "z05_4B4lIT9P"
      },
      "source": [
        "### Keras Model "
      ]
    },
    {
      "cell_type": "code",
      "metadata": {
        "id": "5AIH6N_RKmeT"
      },
      "source": [
        "train_ds = train_ds.batch(BATCH_SIZE)\n",
        "val_ds = val_ds.batch(BATCH_SIZE)\n",
        "test_ds = test_ds.batch(BATCH_SIZE)"
      ],
      "execution_count": null,
      "outputs": []
    },
    {
      "cell_type": "code",
      "metadata": {
        "colab": {
          "base_uri": "https://localhost:8080/"
        },
        "id": "XfXGW7OaMJFM",
        "outputId": "cb6fdb50-773d-46d9-86c7-432a2fc0f69f"
      },
      "source": [
        "# Get inputshape of spectrogram\n",
        "for spectrogram,_ in train_ds.take(1):\n",
        "    spectrogram_shape = spectrogram.shape\n",
        "print(f'Input shape:{spectrogram.shape}')\n",
        "num_of_labels = len(LABELS)"
      ],
      "execution_count": null,
      "outputs": [
        {
          "output_type": "stream",
          "text": [
            "Input shape:(32, 49, 42, 1)\n"
          ],
          "name": "stdout"
        }
      ]
    },
    {
      "cell_type": "code",
      "metadata": {
        "colab": {
          "base_uri": "https://localhost:8080/"
        },
        "id": "zg4_xKvVxGfH",
        "outputId": "ce1eb7b8-b19b-4558-ffc4-95deb9104991"
      },
      "source": [
        "# Create a simple CNN \n",
        "model = models.Sequential()\n",
        "model.add(layers.InputLayer(input_shape=(spectrogram_shape[1],spectrogram_shape[2],1)))\n",
        "model.add(layers.Conv2D(8, kernel_size=3, activation='relu', kernel_constraint=tf.keras.constraints.MaxNorm(1), padding='same'))\n",
        "model.add(layers.MaxPooling2D(pool_size=2, strides=2, padding='same'))\n",
        "model.add(layers.Dropout(0.5))\n",
        "model.add(layers.Conv2D(16, kernel_size=3, activation='relu', kernel_constraint=tf.keras.constraints.MaxNorm(1), padding='same'))\n",
        "model.add(layers.MaxPooling2D(pool_size=2, strides=2, padding='same'))\n",
        "model.add(layers.Dropout(0.5))\n",
        "model.add(layers.Flatten())\n",
        "model.add(layers.Dense(num_of_labels, activation='softmax', name='y_pred'))\n",
        "\n",
        "model.summary()"
      ],
      "execution_count": null,
      "outputs": [
        {
          "output_type": "stream",
          "text": [
            "Model: \"sequential_1\"\n",
            "_________________________________________________________________\n",
            "Layer (type)                 Output Shape              Param #   \n",
            "=================================================================\n",
            "conv2d_2 (Conv2D)            (None, 49, 42, 8)         80        \n",
            "_________________________________________________________________\n",
            "max_pooling2d_2 (MaxPooling2 (None, 25, 21, 8)         0         \n",
            "_________________________________________________________________\n",
            "dropout_2 (Dropout)          (None, 25, 21, 8)         0         \n",
            "_________________________________________________________________\n",
            "conv2d_3 (Conv2D)            (None, 25, 21, 16)        1168      \n",
            "_________________________________________________________________\n",
            "max_pooling2d_3 (MaxPooling2 (None, 13, 11, 16)        0         \n",
            "_________________________________________________________________\n",
            "dropout_3 (Dropout)          (None, 13, 11, 16)        0         \n",
            "_________________________________________________________________\n",
            "flatten_1 (Flatten)          (None, 2288)              0         \n",
            "_________________________________________________________________\n",
            "y_pred (Dense)               (None, 3)                 6867      \n",
            "=================================================================\n",
            "Total params: 8,115\n",
            "Trainable params: 8,115\n",
            "Non-trainable params: 0\n",
            "_________________________________________________________________\n"
          ],
          "name": "stdout"
        }
      ]
    },
    {
      "cell_type": "markdown",
      "metadata": {
        "id": "zUFcnii3IZti"
      },
      "source": [
        "### Model compiling and Training"
      ]
    },
    {
      "cell_type": "code",
      "metadata": {
        "id": "EclodQ60Fzqf"
      },
      "source": [
        "opt = tf.keras.optimizers.Adam(learning_rate=LR, beta_1=0.9, beta_2=0.999)\n",
        "model.compile(\n",
        "    optimizer=opt,\n",
        "    loss=tf.keras.losses.categorical_crossentropy,\n",
        "    metrics = ['accuracy'],\n",
        ")\n",
        "\n",
        "model_checkpoint_callback = tf.keras.callbacks.ModelCheckpoint(\n",
        "    filepath=KERAS_MODEL,\n",
        "    monitor='val_accuracy',\n",
        "    mode='max',\n",
        "    save_best_only=True)"
      ],
      "execution_count": null,
      "outputs": []
    },
    {
      "cell_type": "code",
      "metadata": {
        "colab": {
          "base_uri": "https://localhost:8080/"
        },
        "id": "UywvP2xyloco",
        "outputId": "3715e11d-dd46-46c1-828a-048ab5341c0e"
      },
      "source": [
        "history = model.fit(train_ds, epochs=EPOCHS, validation_data=val_ds,callbacks=model_checkpoint_callback)"
      ],
      "execution_count": null,
      "outputs": [
        {
          "output_type": "stream",
          "text": [
            "Epoch 1/50\n",
            "58/58 [==============================] - 1075s 19s/step - loss: 0.4922 - accuracy: 0.8018 - val_loss: 0.1752 - val_accuracy: 0.9470\n",
            "Epoch 2/50\n",
            "58/58 [==============================] - 32s 559ms/step - loss: 0.2516 - accuracy: 0.9174 - val_loss: 0.1451 - val_accuracy: 0.9583\n",
            "Epoch 3/50\n",
            "58/58 [==============================] - 33s 562ms/step - loss: 0.2268 - accuracy: 0.9222 - val_loss: 0.1241 - val_accuracy: 0.9697\n",
            "Epoch 4/50\n",
            "58/58 [==============================] - 32s 551ms/step - loss: 0.1944 - accuracy: 0.9352 - val_loss: 0.0891 - val_accuracy: 0.9773\n",
            "Epoch 5/50\n",
            "58/58 [==============================] - 32s 555ms/step - loss: 0.1662 - accuracy: 0.9476 - val_loss: 0.0801 - val_accuracy: 0.9735\n",
            "Epoch 6/50\n",
            "58/58 [==============================] - 32s 552ms/step - loss: 0.1610 - accuracy: 0.9487 - val_loss: 0.0833 - val_accuracy: 0.9735\n",
            "Epoch 7/50\n",
            "58/58 [==============================] - 32s 555ms/step - loss: 0.1512 - accuracy: 0.9519 - val_loss: 0.0655 - val_accuracy: 0.9773\n",
            "Epoch 8/50\n",
            "58/58 [==============================] - 32s 556ms/step - loss: 0.1501 - accuracy: 0.9546 - val_loss: 0.0684 - val_accuracy: 0.9735\n",
            "Epoch 9/50\n",
            "58/58 [==============================] - 32s 561ms/step - loss: 0.1476 - accuracy: 0.9536 - val_loss: 0.0776 - val_accuracy: 0.9735\n",
            "Epoch 10/50\n",
            "58/58 [==============================] - 34s 586ms/step - loss: 0.1500 - accuracy: 0.9579 - val_loss: 0.0720 - val_accuracy: 0.9697\n",
            "Epoch 11/50\n",
            "58/58 [==============================] - 34s 592ms/step - loss: 0.1349 - accuracy: 0.9590 - val_loss: 0.0672 - val_accuracy: 0.9773\n",
            "Epoch 12/50\n",
            "58/58 [==============================] - 34s 580ms/step - loss: 0.1117 - accuracy: 0.9671 - val_loss: 0.0746 - val_accuracy: 0.9697\n",
            "Epoch 13/50\n",
            "58/58 [==============================] - 33s 575ms/step - loss: 0.1140 - accuracy: 0.9665 - val_loss: 0.0595 - val_accuracy: 0.9811\n",
            "Epoch 14/50\n",
            "58/58 [==============================] - 34s 583ms/step - loss: 0.1010 - accuracy: 0.9633 - val_loss: 0.0465 - val_accuracy: 0.9924\n",
            "Epoch 15/50\n",
            "58/58 [==============================] - 34s 580ms/step - loss: 0.1020 - accuracy: 0.9681 - val_loss: 0.0665 - val_accuracy: 0.9697\n",
            "Epoch 16/50\n",
            "58/58 [==============================] - 33s 569ms/step - loss: 0.1008 - accuracy: 0.9644 - val_loss: 0.0462 - val_accuracy: 0.9811\n",
            "Epoch 17/50\n",
            "58/58 [==============================] - 33s 563ms/step - loss: 0.0904 - accuracy: 0.9725 - val_loss: 0.0583 - val_accuracy: 0.9848\n",
            "Epoch 18/50\n",
            "58/58 [==============================] - 33s 564ms/step - loss: 0.1067 - accuracy: 0.9676 - val_loss: 0.0621 - val_accuracy: 0.9735\n",
            "Epoch 19/50\n",
            "58/58 [==============================] - 33s 571ms/step - loss: 0.0833 - accuracy: 0.9730 - val_loss: 0.0873 - val_accuracy: 0.9659\n",
            "Epoch 20/50\n",
            "58/58 [==============================] - 33s 563ms/step - loss: 0.0911 - accuracy: 0.9692 - val_loss: 0.0307 - val_accuracy: 0.9962\n",
            "Epoch 21/50\n",
            "58/58 [==============================] - 33s 567ms/step - loss: 0.0891 - accuracy: 0.9708 - val_loss: 0.0741 - val_accuracy: 0.9773\n",
            "Epoch 22/50\n",
            "58/58 [==============================] - 33s 569ms/step - loss: 0.0879 - accuracy: 0.9703 - val_loss: 0.0812 - val_accuracy: 0.9811\n",
            "Epoch 23/50\n",
            "58/58 [==============================] - 35s 600ms/step - loss: 0.1065 - accuracy: 0.9660 - val_loss: 0.0687 - val_accuracy: 0.9735\n",
            "Epoch 24/50\n",
            "58/58 [==============================] - 34s 588ms/step - loss: 0.0894 - accuracy: 0.9719 - val_loss: 0.0377 - val_accuracy: 0.9962\n",
            "Epoch 25/50\n",
            "58/58 [==============================] - 33s 572ms/step - loss: 0.0764 - accuracy: 0.9746 - val_loss: 0.0525 - val_accuracy: 0.9811\n",
            "Epoch 26/50\n",
            "58/58 [==============================] - 33s 567ms/step - loss: 0.0953 - accuracy: 0.9730 - val_loss: 0.0813 - val_accuracy: 0.9735\n",
            "Epoch 27/50\n",
            "58/58 [==============================] - 33s 569ms/step - loss: 0.0867 - accuracy: 0.9735 - val_loss: 0.0972 - val_accuracy: 0.9735\n",
            "Epoch 28/50\n",
            "58/58 [==============================] - 34s 582ms/step - loss: 0.0857 - accuracy: 0.9730 - val_loss: 0.0533 - val_accuracy: 0.9811\n",
            "Epoch 29/50\n",
            "58/58 [==============================] - 34s 593ms/step - loss: 0.0726 - accuracy: 0.9746 - val_loss: 0.0461 - val_accuracy: 0.9886\n",
            "Epoch 30/50\n",
            "58/58 [==============================] - 34s 582ms/step - loss: 0.0850 - accuracy: 0.9735 - val_loss: 0.0408 - val_accuracy: 0.9886\n",
            "Epoch 31/50\n",
            "58/58 [==============================] - 32s 561ms/step - loss: 0.0796 - accuracy: 0.9735 - val_loss: 0.0266 - val_accuracy: 0.9924\n",
            "Epoch 32/50\n",
            "58/58 [==============================] - 33s 571ms/step - loss: 0.0733 - accuracy: 0.9789 - val_loss: 0.0828 - val_accuracy: 0.9773\n",
            "Epoch 33/50\n",
            "58/58 [==============================] - 33s 578ms/step - loss: 0.0688 - accuracy: 0.9779 - val_loss: 0.0533 - val_accuracy: 0.9886\n",
            "Epoch 34/50\n",
            "58/58 [==============================] - 33s 575ms/step - loss: 0.0788 - accuracy: 0.9779 - val_loss: 0.0568 - val_accuracy: 0.9848\n",
            "Epoch 35/50\n",
            "58/58 [==============================] - 33s 575ms/step - loss: 0.0770 - accuracy: 0.9773 - val_loss: 0.0509 - val_accuracy: 0.9848\n",
            "Epoch 36/50\n",
            "58/58 [==============================] - 34s 589ms/step - loss: 0.0636 - accuracy: 0.9768 - val_loss: 0.0492 - val_accuracy: 0.9848\n",
            "Epoch 37/50\n",
            "58/58 [==============================] - 34s 581ms/step - loss: 0.0824 - accuracy: 0.9735 - val_loss: 0.0602 - val_accuracy: 0.9848\n",
            "Epoch 38/50\n",
            "58/58 [==============================] - 34s 588ms/step - loss: 0.0850 - accuracy: 0.9730 - val_loss: 0.0351 - val_accuracy: 0.9886\n",
            "Epoch 39/50\n",
            "58/58 [==============================] - 33s 579ms/step - loss: 0.0819 - accuracy: 0.9789 - val_loss: 0.0359 - val_accuracy: 0.9848\n",
            "Epoch 40/50\n",
            "58/58 [==============================] - 33s 576ms/step - loss: 0.0575 - accuracy: 0.9806 - val_loss: 0.0288 - val_accuracy: 0.9886\n",
            "Epoch 41/50\n",
            "58/58 [==============================] - 34s 593ms/step - loss: 0.0815 - accuracy: 0.9768 - val_loss: 0.0679 - val_accuracy: 0.9811\n",
            "Epoch 42/50\n",
            "58/58 [==============================] - 33s 576ms/step - loss: 0.0704 - accuracy: 0.9757 - val_loss: 0.0325 - val_accuracy: 0.9962\n",
            "Epoch 43/50\n",
            "58/58 [==============================] - 33s 568ms/step - loss: 0.0650 - accuracy: 0.9816 - val_loss: 0.0353 - val_accuracy: 0.9811\n",
            "Epoch 44/50\n",
            "58/58 [==============================] - 33s 567ms/step - loss: 0.0641 - accuracy: 0.9795 - val_loss: 0.0262 - val_accuracy: 0.9962\n",
            "Epoch 45/50\n",
            "58/58 [==============================] - 33s 569ms/step - loss: 0.0567 - accuracy: 0.9822 - val_loss: 0.0558 - val_accuracy: 0.9848\n",
            "Epoch 46/50\n",
            "58/58 [==============================] - 33s 568ms/step - loss: 0.0579 - accuracy: 0.9800 - val_loss: 0.0380 - val_accuracy: 0.9924\n",
            "Epoch 47/50\n",
            "58/58 [==============================] - 33s 575ms/step - loss: 0.0582 - accuracy: 0.9816 - val_loss: 0.0669 - val_accuracy: 0.9848\n",
            "Epoch 48/50\n",
            "58/58 [==============================] - 33s 570ms/step - loss: 0.0607 - accuracy: 0.9816 - val_loss: 0.0265 - val_accuracy: 0.9962\n",
            "Epoch 49/50\n",
            "58/58 [==============================] - 32s 562ms/step - loss: 0.0608 - accuracy: 0.9784 - val_loss: 0.0357 - val_accuracy: 0.9924\n",
            "Epoch 50/50\n",
            "58/58 [==============================] - 33s 572ms/step - loss: 0.0592 - accuracy: 0.9806 - val_loss: 0.0190 - val_accuracy: 0.9962\n"
          ],
          "name": "stdout"
        }
      ]
    },
    {
      "cell_type": "markdown",
      "metadata": {
        "id": "ROdirkvVGbv6"
      },
      "source": [
        "### Plotting loss and accuracy over epochs"
      ]
    },
    {
      "cell_type": "code",
      "metadata": {
        "colab": {
          "base_uri": "https://localhost:8080/",
          "height": 264
        },
        "id": "MgehfM9CGWI1",
        "outputId": "80ac5e1a-c5c4-47cb-933c-4e6c88c3f9c2"
      },
      "source": [
        "metrics = history.history\n",
        "plt.plot(history.epoch, metrics['loss'], metrics['val_loss'])\n",
        "plt.legend(['loss', 'val_loss'])\n",
        "plt.show()"
      ],
      "execution_count": null,
      "outputs": [
        {
          "output_type": "display_data",
          "data": {
            "image/png": "[encoded data removed]",
            "text/plain": [
              "<Figure size 432x288 with 1 Axes>"
            ]
          },
          "metadata": {
            "tags": [],
            "needs_background": "light"
          }
        }
      ]
    },
    {
      "cell_type": "code",
      "metadata": {
        "colab": {
          "base_uri": "https://localhost:8080/",
          "height": 264
        },
        "id": "Cpy2QRa6Gkow",
        "outputId": "7ecb0006-3e8f-4b30-afa8-32b3242cb6a2"
      },
      "source": [
        "metrics = history.history\n",
        "plt.plot(history.epoch, metrics['accuracy'], metrics['val_accuracy'])\n",
        "plt.legend(['accuracy', 'val_accuracy'])\n",
        "plt.show()"
      ],
      "execution_count": null,
      "outputs": [
        {
          "output_type": "display_data",
          "data": {
            "image/png": "[encoded data removed]",
            "text/plain": [
              "<Figure size 432x288 with 1 Axes>"
            ]
          },
          "metadata": {
            "tags": [],
            "needs_background": "light"
          }
        }
      ]
    },
    {
      "cell_type": "markdown",
      "metadata": {
        "id": "c5plv8OgG0SK"
      },
      "source": [
        "## Model Testing"
      ]
    },
    {
      "cell_type": "code",
      "metadata": {
        "id": "gJBhmllgLI-t"
      },
      "source": [
        "model = models.load_model(KERAS_MODEL)"
      ],
      "execution_count": 15,
      "outputs": []
    },
    {
      "cell_type": "code",
      "metadata": {
        "colab": {
          "base_uri": "https://localhost:8080/"
        },
        "id": "nRQWOQZ8GzyZ",
        "outputId": "32979d65-e580-46d4-9504-e36acb0026b7"
      },
      "source": [
        "test_ds = test_ds.batch(1)\n",
        "model_test_score = model.evaluate(test_ds)"
      ],
      "execution_count": 19,
      "outputs": [
        {
          "output_type": "stream",
          "text": [
            "529/529 [==============================] - 286s 541ms/step - loss: 0.0557 - accuracy: 0.9811\n"
          ],
          "name": "stdout"
        }
      ]
    },
    {
      "cell_type": "markdown",
      "metadata": {
        "id": "qQVRdVtmn7i5"
      },
      "source": [
        "## Quantization of Model"
      ]
    },
    {
      "cell_type": "markdown",
      "metadata": {
        "id": "r2WElRXsqVvk"
      },
      "source": [
        "### Converting keras h5 model to tflite float model\n"
      ]
    },
    {
      "cell_type": "code",
      "metadata": {
        "colab": {
          "base_uri": "https://localhost:8080/"
        },
        "id": "6nNuW30_r1qS",
        "outputId": "427605f0-15e4-42e6-b880-53c6e782cf8f"
      },
      "source": [
        "model = models.load_model(KERAS_MODEL)\n",
        "\n",
        "converter_for_float = tf.lite.TFLiteConverter.from_keras_model(model)\n",
        "tflite_float_model = converter_for_float.convert()\n",
        "size_of_float_model = open(FLOAT_TFLITE_MODEL, 'wb').write(tflite_float_model)\n",
        "print(f'Total size of {FLOAT_TFLITE_MODEL} is {size_of_float_model}')"
      ],
      "execution_count": 21,
      "outputs": [
        {
          "output_type": "stream",
          "text": [
            "INFO:tensorflow:Assets written to: /tmp/tmp40vqu14x/assets\n",
            "Total size of float_tflite_model.tflite is 35300\n"
          ],
          "name": "stdout"
        }
      ]
    },
    {
      "cell_type": "code",
      "metadata": {
        "colab": {
          "base_uri": "https://localhost:8080/"
        },
        "id": "qXZ_mHSXzJPA",
        "outputId": "2a32cc8a-a462-43d4-ce61-17858da314ea"
      },
      "source": [
        "float_interpreter = tf.lite.Interpreter(model_content=tflite_float_model)\n",
        "input_type = float_interpreter.get_input_details()[0]['dtype']\n",
        "print('input: ', input_type)\n",
        "output_type = float_interpreter.get_output_details()[0]['dtype']\n",
        "print('output: ', output_type)"
      ],
      "execution_count": 22,
      "outputs": [
        {
          "output_type": "stream",
          "text": [
            "input:  <class 'numpy.float32'>\n",
            "output:  <class 'numpy.float32'>\n"
          ],
          "name": "stdout"
        }
      ]
    },
    {
      "cell_type": "markdown",
      "metadata": {
        "id": "6FzStXKuuS9z"
      },
      "source": [
        "### Converting keras h5 model to tflite Integer-only quantized model for Microcontroller unit\n",
        "> 1. Create a representative dataset to calibarate variable data.\n",
        "> 2. Set the dtype of input and output of model to tf.int8"
      ]
    },
    {
      "cell_type": "code",
      "metadata": {
        "id": "oXLpJaQpoAi0"
      },
      "source": [
        "def representative_data_gen():\n",
        "    for input_spec,_ in train_ds.batch(1).take(300):\n",
        "        yield [input_spec] "
      ],
      "execution_count": 23,
      "outputs": []
    },
    {
      "cell_type": "code",
      "metadata": {
        "colab": {
          "base_uri": "https://localhost:8080/"
        },
        "id": "Xef_jKfEwWWN",
        "outputId": "ed3f2f40-6a84-41e2-a06d-c2613ff11717"
      },
      "source": [
        "converter_int_model = tf.lite.TFLiteConverter.from_keras_model(model)\n",
        "converter_int_model.optimizations = [tf.lite.Optimize.DEFAULT]\n",
        "converter_int_model.representative_dataset = representative_data_gen\n",
        "# Ensure that if any ops can't be quantized, the converter throws an error\n",
        "converter_int_model.target_spec.supported_ops = [tf.lite.OpsSet.TFLITE_BUILTINS_INT8]\n",
        "converter_int_model.inference_input_type = tf.uint8\n",
        "converter_int_model.inference_output_type = tf.uint8\n",
        "\n",
        "tflite_model_intonly_quant = converter_int_model.convert()\n",
        "size_of_intonly_model = open(INTONLY_QUANT_TFLITE_MODEL, 'wb').write(tflite_model_intonly_quant)\n",
        "print(f'Total size of {INTONLY_QUANT_TFLITE_MODEL} is {size_of_intonly_model}')"
      ],
      "execution_count": 25,
      "outputs": [
        {
          "output_type": "stream",
          "text": [
            "INFO:tensorflow:Assets written to: /tmp/tmpvjg5t9zf/assets\n"
          ],
          "name": "stdout"
        },
        {
          "output_type": "stream",
          "text": [
            "INFO:tensorflow:Assets written to: /tmp/tmpvjg5t9zf/assets\n",
            "WARNING:absl:For model inputs containing unsupported operations which cannot be quantized, the `inference_input_type` attribute will default to the original type.\n"
          ],
          "name": "stderr"
        },
        {
          "output_type": "stream",
          "text": [
            "Total size of intonly_quant_tflite_model.tflite is 12392\n"
          ],
          "name": "stdout"
        }
      ]
    },
    {
      "cell_type": "code",
      "metadata": {
        "colab": {
          "base_uri": "https://localhost:8080/"
        },
        "id": "iB0pk3jBx2hL",
        "outputId": "035bf109-4374-4a71-f8ff-0bc63e6c9bab"
      },
      "source": [
        "interpreter = tf.lite.Interpreter(model_content=tflite_model_intonly_quant)\n",
        "input_type = interpreter.get_input_details()[0]['dtype']\n",
        "print('input: ', input_type)\n",
        "output_type = interpreter.get_output_details()[0]['dtype']\n",
        "print('output: ', output_type)"
      ],
      "execution_count": 26,
      "outputs": [
        {
          "output_type": "stream",
          "text": [
            "input:  <class 'numpy.uint8'>\n",
            "output:  <class 'numpy.uint8'>\n"
          ],
          "name": "stdout"
        }
      ]
    },
    {
      "cell_type": "markdown",
      "metadata": {
        "id": "KfE7KOzuBlbC"
      },
      "source": [
        "### Testing tflite intonly quantized model"
      ]
    },
    {
      "cell_type": "code",
      "metadata": {
        "colab": {
          "base_uri": "https://localhost:8080/"
        },
        "id": "wY-V6nQfBlHx",
        "outputId": "269d8c2d-7445-4d1e-ee77-e78e6504e415"
      },
      "source": [
        "# Initialize the interpreter\n",
        "interpreter = tf.lite.Interpreter(model_path=INTONLY_QUANT_TFLITE_MODEL)\n",
        "interpreter.allocate_tensors()\n",
        "\n",
        "input_details = interpreter.get_input_details()[0]\n",
        "output_details = interpreter.get_output_details()[0]\n",
        "\n",
        "correct_predictions = 0\n",
        "i = 0\n",
        "for i,(spec,label) in tqdm(enumerate(test_ds.batch(1))):\n",
        "    if input_details['dtype'] == np.uint8:\n",
        "      input_scale, input_zero_point = input_details[\"quantization\"]\n",
        "      spec = spec.numpy()\n",
        "      spec = spec / input_scale + input_zero_point\n",
        "    spec = spec.astype(input_details[\"dtype\"])\n",
        "    interpreter.set_tensor(input_details[\"index\"], spec)\n",
        "    interpreter.invoke()\n",
        "    output = interpreter.get_tensor(output_details[\"index\"])[0]\n",
        "    top_prediction = output.argmax()\n",
        "    correct_predictions += (top_prediction == np.argmax(label.numpy()[0]))\n",
        "print('\\nInt-only Quant model accuracy is %f%% (Number of test samples=%d)' % ((correct_predictions * 100) / i+1, i+1))"
      ],
      "execution_count": 39,
      "outputs": [
        {
          "output_type": "stream",
          "text": [
            "529it [00:10, 52.04it/s]"
          ],
          "name": "stderr"
        },
        {
          "output_type": "stream",
          "text": [
            "\n",
            "Int-only Quant model accuracy is 97.022727% (Number of test samples=529)\n"
          ],
          "name": "stdout"
        },
        {
          "output_type": "stream",
          "text": [
            "\n"
          ],
          "name": "stderr"
        }
      ]
    }
  ]
}