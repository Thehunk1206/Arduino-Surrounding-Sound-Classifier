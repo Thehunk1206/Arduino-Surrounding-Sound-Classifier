{
  "nbformat": 4,
  "nbformat_minor": 0,
  "metadata": {
    "colab": {
      "name": "audio_classifier_for_mcu.ipynb",
      "provenance": [],
      "collapsed_sections": [],
      "mount_file_id": "1bciwPfFSMrgPTMhE13fxMocrkjrnRHaF",
      "authorship_tag": "ABX9TyP09ncq7g5rnWOo6Fe5uW66",
      "include_colab_link": true
    },
    "kernelspec": {
      "name": "python3",
      "display_name": "Python 3"
    },
    "language_info": {
      "name": "python"
    }
  },
  "cells": [
    {
      "cell_type": "markdown",
      "metadata": {
        "id": "view-in-github",
        "colab_type": "text"
      },
      "source": [
        "<a href=\"https://colab.research.google.com/github/Thehunk1206/Arduino-Surrounding-Sound-Classifier/blob/master/audio_classifier_for_mcu.ipynb\" target=\"_parent\"><img src=\"https://colab.research.google.com/assets/colab-badge.svg\" alt=\"Open In Colab\"/></a>"
      ]
    },
    {
      "cell_type": "markdown",
      "metadata": {
        "id": "VCMlih5VZW8P"
      },
      "source": [
        "# Audio Classifier for Micro Controller Unit (here: Arduino Nano BLE Sense)"
      ]
    },
    {
      "cell_type": "code",
      "metadata": {
        "colab": {
          "base_uri": "https://localhost:8080/"
        },
        "id": "8wGgLGdwMf79",
        "outputId": "a00a5690-3b94-47f7-9e97-1bbac9e6d2fc"
      },
      "source": [
        "%cd drive/MyDrive/audio_classifier_mcu/"
      ],
      "execution_count": 1,
      "outputs": [
        {
          "output_type": "stream",
          "name": "stdout",
          "text": [
            "/content/drive/MyDrive/audio_classifier_mcu\n"
          ]
        }
      ]
    },
    {
      "cell_type": "code",
      "metadata": {
        "id": "3hENZjmibBmx"
      },
      "source": [
        "!nvidia-smi"
      ],
      "execution_count": null,
      "outputs": []
    },
    {
      "cell_type": "markdown",
      "metadata": {
        "id": "huASGn3R_Hbs"
      },
      "source": [
        "## Importing stuff"
      ]
    },
    {
      "cell_type": "code",
      "metadata": {
        "id": "RyRHohD5bBkL"
      },
      "source": [
        "import os\n",
        "import glob\n",
        "\n",
        "\n",
        "import matplotlib.pyplot as plt\n",
        "import numpy as np\n",
        "import seaborn as sns\n",
        "from tqdm import tqdm\n",
        "\n",
        "import tensorflow as tf\n",
        "from tensorflow.keras import layers\n",
        "from tensorflow.keras.metrics import Precision, Recall\n",
        "from tensorflow.keras import models\n",
        "\n",
        "\n",
        "tf.config.run_functions_eagerly(True)\n",
        "tf.data.experimental.enable_debug_mode()\n",
        "seed = 6\n",
        "tf.random.set_seed(seed)\n",
        "# np.random.seed(seed)"
      ],
      "execution_count": 3,
      "outputs": []
    },
    {
      "cell_type": "markdown",
      "metadata": {
        "id": "fOWSK4l_p1d3"
      },
      "source": [
        "## Some Constants"
      ]
    },
    {
      "cell_type": "code",
      "metadata": {
        "id": "-LCA6qjmp6WB"
      },
      "source": [
        "# Audio related\n",
        "SAMPLE_RATE = 16000\n",
        "FRAME_SIZE_MS = 30 \n",
        "FRAME_STRIDE_MS = 20\n",
        "\n",
        "FRAME_SIZE = int(SAMPLE_RATE*(FRAME_SIZE_MS/1000))\n",
        "FRAME_STRIDE = int(SAMPLE_RATE*(FRAME_STRIDE_MS/1000)) \n",
        "TAKE_MEAN_AT_INTERVAL = 6\n",
        "FREQ_BIN = 49 # Specific only for this project\n",
        "AVERAGED_FRAME_LENGTH = 42 #Specific only for this project\n",
        "\n",
        "\n",
        "#ML related\n",
        "DATA_DIR = 'Dataset/'\n",
        "BATCH_SIZE = 32\n",
        "LR = 2e-3\n",
        "EPOCHS = 20\n",
        "KERAS_MODEL = 'audio_classifier_float.h5'\n",
        "FLOAT_TFLITE_MODEL = 'float_tflite_model.tflite'\n",
        "INTONLY_QUANT_TFLITE_MODEL = 'intonly_quant_tflite_model.tflite'"
      ],
      "execution_count": 4,
      "outputs": []
    },
    {
      "cell_type": "markdown",
      "metadata": {
        "id": "FcTjEpoob2I0"
      },
      "source": [
        "## Splitting Dataset Files"
      ]
    },
    {
      "cell_type": "code",
      "metadata": {
        "id": "ZjQRaH4Gb1l0",
        "colab": {
          "base_uri": "https://localhost:8080/"
        },
        "outputId": "82c65e90-82fc-43ca-96dc-633224a29f2c"
      },
      "source": [
        "LABELS = np.array(os.listdir(DATA_DIR))\n",
        "LABEL_IDS = [i for i in range(len(LABELS))]\n",
        "LABEL_ONE_HOT = tf.one_hot(LABEL_IDS, len(LABELS), axis=-1)\n",
        "\n",
        "def audio_datasets_path(data_dir: str, train_split: float = 0.7, val_split: float= 0.1, test_split:float = 0.2):\n",
        "    all_audio_filenames = glob.glob(data_dir+\"/*/*\")\n",
        "    all_audio_filenames = tf.random.shuffle(all_audio_filenames)\n",
        "\n",
        "    train = all_audio_filenames[0:int(len(all_audio_filenames)*train_split)]\n",
        "    val = all_audio_filenames[len(train):len(train)+int(len(all_audio_filenames)*val_split)]\n",
        "    test = all_audio_filenames[-int(len(all_audio_filenames)*test_split):]\n",
        "\n",
        "    return train, val, test\n",
        "\n",
        "LABELS"
      ],
      "execution_count": 5,
      "outputs": [
        {
          "output_type": "execute_result",
          "data": {
            "text/plain": [
              "array(['FAN', 'BACKGROUND', 'GLASS_BREAK', 'PEOPLE_PRESENCE'],\n",
              "      dtype='<U15')"
            ]
          },
          "metadata": {},
          "execution_count": 5
        }
      ]
    },
    {
      "cell_type": "code",
      "metadata": {
        "id": "XZzYdSK7Doc1",
        "colab": {
          "base_uri": "https://localhost:8080/"
        },
        "outputId": "e5014415-a21a-440b-fe01-150ccb6866e3"
      },
      "source": [
        "train_audio_files, val_audio_files, test_audio_files = audio_datasets_path(DATA_DIR)\n",
        "print(f'Train set       : {len(train_audio_files)}')\n",
        "print(f'Validation set  : {len(val_audio_files)}')\n",
        "print(f'Test set        : {len(test_audio_files)}')\n"
      ],
      "execution_count": 6,
      "outputs": [
        {
          "output_type": "stream",
          "name": "stdout",
          "text": [
            "Train set       : 2495\n",
            "Validation set  : 356\n",
            "Test set        : 713\n"
          ]
        }
      ]
    },
    {
      "cell_type": "markdown",
      "metadata": {
        "id": "m2iMrlDMogF2"
      },
      "source": [
        "## Reading Raw Audio and Label"
      ]
    },
    {
      "cell_type": "code",
      "metadata": {
        "id": "kzM2W_Hzo7ol"
      },
      "source": [
        "def get_label(audio_file_path: str):\n",
        "    string_parts = tf.strings.split(audio_file_path, os.path.sep)\n",
        "    return string_parts[-2]\n",
        "\n",
        "\n",
        "def get_waveform_from_audio_file(audio_file:str):\n",
        "    '''\n",
        "    The audio is of 16-bit PCM i.e values ranging from -32768 to 32767\n",
        "    tf.audio.decode_wav normalizes the data between [-1.0,1.0]\n",
        "    '''\n",
        "    audio_binary = tf.io.read_file(audio_file)\n",
        "    audio_raw, _ = tf.audio.decode_wav(audio_binary,desired_channels=1)\n",
        "    return tf.squeeze(audio_raw, axis=-1)\n",
        "\n",
        "\n",
        "def get_waveform_and_label(audio_file:str):\n",
        "    label = get_label(audio_file)\n",
        "    waveform = get_waveform_from_audio_file(audio_file)\n",
        "\n",
        "    return waveform, label\n"
      ],
      "execution_count": 7,
      "outputs": []
    },
    {
      "cell_type": "markdown",
      "metadata": {
        "id": "BdX39umT0H3f"
      },
      "source": [
        "## Creating Spectogram from Raw Audio"
      ]
    },
    {
      "cell_type": "code",
      "metadata": {
        "id": "cDri74Sr0OcJ"
      },
      "source": [
        "def get_spectrogram_from_raw_audio(waveform: tf.Tensor, frame_size:int = 256, frame_stride:int=128):\n",
        "    '''\n",
        "    Zero padding tha waveform to sampling Rate in case some file have less than 1600 values\n",
        "    '''\n",
        "    if [SAMPLE_RATE] - tf.shape(waveform) >= 0:\n",
        "        zero_padding = tf.zeros([SAMPLE_RATE] - tf.shape(waveform), dtype=tf.float32)\n",
        "        waveform = tf.cast(waveform, tf.float32)\n",
        "        equal_length_of_waveform = tf.concat([waveform, zero_padding], 0)\n",
        "    else:\n",
        "        waveform = tf.cast(waveform, tf.float32)\n",
        "        equal_length_of_waveform = waveform[:SAMPLE_RATE]\n",
        "    spectrogram = tf.signal.stft(\n",
        "        equal_length_of_waveform, frame_length=frame_size, frame_step=frame_stride)\n",
        "\n",
        "    spectrogram = tf.abs(spectrogram)\n",
        "\n",
        "    return spectrogram\n",
        "\n",
        "\n",
        "def get_spectrogram_and_label(waveform: tf.Tensor, label: str):\n",
        "    '''\n",
        "    Get both spectrogram and corresponding label_id\n",
        "    '''\n",
        "    spectrogram = get_spectrogram_from_raw_audio(waveform,frame_size=FRAME_SIZE, frame_stride=FRAME_STRIDE)\n",
        "    spectrogram = tf.expand_dims(spectrogram, -1)\n",
        "    spectrogram = tf.nn.pool(\n",
        "        input=tf.expand_dims(spectrogram, axis=1),\n",
        "        window_shape = [1,TAKE_MEAN_AT_INTERVAL],\n",
        "        strides = [1,TAKE_MEAN_AT_INTERVAL],\n",
        "        pooling_type='AVG',\n",
        "        padding='VALID'\n",
        "    )\n",
        "    spectrogram = tf.squeeze(spectrogram)\n",
        "    spectrogram = tf.expand_dims(spectrogram, -1)\n",
        "    # Flatten the spectrogram\n",
        "    spectrogram = tf.reshape(spectrogram, [-1])\n",
        "    label_id = tf.argmax(label == LABELS)\n",
        "    label = LABEL_ONE_HOT[label_id]\n",
        "\n",
        "    return spectrogram, label"
      ],
      "execution_count": 9,
      "outputs": []
    },
    {
      "cell_type": "markdown",
      "metadata": {
        "id": "pl_5Xl5XL0mQ"
      },
      "source": [
        "## Creating Data Pipeline using tf.data"
      ]
    },
    {
      "cell_type": "code",
      "metadata": {
        "id": "uRqA96BJL0Be"
      },
      "source": [
        "def preprocess_data(audio_files: tf.Tensor):\n",
        "    audio_files_ds = tf.data.Dataset.from_tensor_slices(audio_files)\n",
        "    output_waveform_ds = audio_files_ds.map(\n",
        "        get_waveform_and_label, num_parallel_calls=tf.data.AUTOTUNE\n",
        "    )\n",
        "    output_spectrogram_ds = output_waveform_ds.map(\n",
        "        get_spectrogram_and_label, num_parallel_calls = tf.data.AUTOTUNE\n",
        "    )\n",
        "    output_spectrogram_ds.shuffle(buffer_size=300)\n",
        "    output_spectrogram_ds.cache().prefetch(tf.data.AUTOTUNE)\n",
        "\n",
        "    output_spectrogram_ds\n",
        "\n",
        "    return output_spectrogram_ds\n",
        "\n",
        "train_ds = preprocess_data(train_audio_files)\n",
        "val_ds = preprocess_data(val_audio_files)\n",
        "test_ds = preprocess_data(test_audio_files)"
      ],
      "execution_count": 10,
      "outputs": []
    },
    {
      "cell_type": "code",
      "metadata": {
        "colab": {
          "base_uri": "https://localhost:8080/"
        },
        "id": "-OPD4M0xHyNu",
        "outputId": "c4448af0-b3e9-49dc-ef41-6da9e473438f"
      },
      "source": [
        "for spectrogram,label in train_ds.take(1):\n",
        "    # reshape_to = spectrogram.shape[0]*spectrogram.shape[1]\n",
        "    # spectrogram = spectrogram.numpy().flatten().reshape(1,reshape_to)\n",
        "    print(spectrogram.shape)"
      ],
      "execution_count": 9,
      "outputs": [
        {
          "output_type": "stream",
          "name": "stdout",
          "text": [
            "(2058,)\n"
          ]
        }
      ]
    },
    {
      "cell_type": "markdown",
      "metadata": {
        "id": "Lm_gODBN-6v3"
      },
      "source": [
        "## Plotting Spectrograms with label"
      ]
    },
    {
      "cell_type": "code",
      "metadata": {
        "id": "LqD4d-xyUYaG",
        "colab": {
          "base_uri": "https://localhost:8080/",
          "height": 1000
        },
        "outputId": "23b37a46-0d77-422d-c908-49c8d8e8b1eb"
      },
      "source": [
        "def plot_spectrogram(spectrogram, ax):\n",
        "  # Convert to frequencies to log scale and transpose so that the time is\n",
        "  # represented in the x-axis (columns).\n",
        "  log_spec = np.log(spectrogram.T)\n",
        "  height = log_spec.shape[0]\n",
        "  width = log_spec.shape[1]\n",
        "  X = np.linspace(0, np.size(spectrogram), num=width, dtype=int)\n",
        "  Y = range(height)\n",
        "  ax.pcolormesh(X, Y, log_spec)\n",
        "\n",
        "rows = 3\n",
        "cols = 3\n",
        "n = rows*cols\n",
        "fig, axes = plt.subplots(rows, cols, figsize=(20, 20))\n",
        "for i, (spectrogram, label) in enumerate(train_ds.take(n)):\n",
        "  r = i // cols\n",
        "  c = i % cols\n",
        "  ax = axes[r][c]\n",
        "  spectrogram = np.reshape(spectrogram.numpy(),(FREQ_BIN,AVERAGED_FRAME_LENGTH))\n",
        "  plot_spectrogram(spectrogram, ax)\n",
        "  ax.set_title(LABELS[tf.argmax(label)])\n",
        "#   ax.axis('off')\n",
        "\n",
        "plt.show()"
      ],
      "execution_count": 10,
      "outputs": [
        {
          "output_type": "display_data",
          "data": {
            "image/png": "[encoded data removed]",
            "text/plain": [
              "<Figure size 1440x1440 with 9 Axes>"
            ]
          },
          "metadata": {
            "needs_background": "light"
          }
        }
      ]
    },
    {
      "cell_type": "markdown",
      "metadata": {
        "id": "7cq3SgMHFYCV"
      },
      "source": [
        "## Model creating and training\n",
        " "
      ]
    },
    {
      "cell_type": "markdown",
      "metadata": {
        "id": "z05_4B4lIT9P"
      },
      "source": [
        "### Keras Model "
      ]
    },
    {
      "cell_type": "code",
      "metadata": {
        "id": "5AIH6N_RKmeT"
      },
      "source": [
        "train_ds = train_ds.batch(BATCH_SIZE)\n",
        "val_ds = val_ds.batch(BATCH_SIZE)"
      ],
      "execution_count": 11,
      "outputs": []
    },
    {
      "cell_type": "code",
      "metadata": {
        "colab": {
          "base_uri": "https://localhost:8080/"
        },
        "id": "XfXGW7OaMJFM",
        "outputId": "24293aec-0223-4c4a-ae18-d505bcf7f58b"
      },
      "source": [
        "# Get inputshape of spectrogram\n",
        "for spectrogram,_ in train_ds.take(1):\n",
        "    spectrogram_shape = spectrogram.shape\n",
        "print(f'Input shape:{spectrogram_shape}')\n",
        "num_of_labels = len(LABELS)"
      ],
      "execution_count": 12,
      "outputs": [
        {
          "output_type": "stream",
          "name": "stdout",
          "text": [
            "Input shape:(32, 2058)\n"
          ]
        }
      ]
    },
    {
      "cell_type": "code",
      "metadata": {
        "colab": {
          "base_uri": "https://localhost:8080/"
        },
        "id": "zg4_xKvVxGfH",
        "outputId": "c75794e3-5459-4d0d-d9fd-51259f606c16"
      },
      "source": [
        "# Create a simple CNN \n",
        "model = models.Sequential()\n",
        "model.add(layers.Reshape((FREQ_BIN,AVERAGED_FRAME_LENGTH,1),input_shape=(spectrogram_shape[1],)))\n",
        "model.add(layers.Conv2D(8, kernel_size=3, activation='relu', padding='same', kernel_constraint=tf.keras.constraints.MaxNorm(1)))\n",
        "model.add(layers.MaxPooling2D(pool_size=2, strides=2, padding='same'))\n",
        "model.add(layers.Dropout(0.5))\n",
        "model.add(layers.Conv2D(16, kernel_size=3, activation='relu', padding='same', kernel_constraint=tf.keras.constraints.MaxNorm(1)))\n",
        "model.add(layers.MaxPooling2D(pool_size=2, strides=2, padding='same'))\n",
        "model.add(layers.Dropout(0.5))\n",
        "model.add(layers.Conv2D(32, kernel_size=3, activation='relu', padding='same', kernel_constraint=tf.keras.constraints.MaxNorm(1)))\n",
        "model.add(layers.MaxPooling2D(pool_size=2, strides=2, padding='same'))\n",
        "model.add(layers.Dropout(0.5))\n",
        "model.add(layers.Flatten())\n",
        "model.add(layers.Dense(num_of_labels, activation='softmax', name='y_pred'))\n",
        "\n",
        "model.summary()"
      ],
      "execution_count": 13,
      "outputs": [
        {
          "output_type": "stream",
          "name": "stdout",
          "text": [
            "Model: \"sequential\"\n",
            "_________________________________________________________________\n",
            "Layer (type)                 Output Shape              Param #   \n",
            "=================================================================\n",
            "reshape (Reshape)            (None, 49, 42, 1)         0         \n",
            "_________________________________________________________________\n",
            "conv2d (Conv2D)              (None, 49, 42, 8)         80        \n",
            "_________________________________________________________________\n",
            "max_pooling2d (MaxPooling2D) (None, 25, 21, 8)         0         \n",
            "_________________________________________________________________\n",
            "dropout (Dropout)            (None, 25, 21, 8)         0         \n",
            "_________________________________________________________________\n",
            "conv2d_1 (Conv2D)            (None, 25, 21, 16)        1168      \n",
            "_________________________________________________________________\n",
            "max_pooling2d_1 (MaxPooling2 (None, 13, 11, 16)        0         \n",
            "_________________________________________________________________\n",
            "dropout_1 (Dropout)          (None, 13, 11, 16)        0         \n",
            "_________________________________________________________________\n",
            "conv2d_2 (Conv2D)            (None, 13, 11, 32)        4640      \n",
            "_________________________________________________________________\n",
            "max_pooling2d_2 (MaxPooling2 (None, 7, 6, 32)          0         \n",
            "_________________________________________________________________\n",
            "dropout_2 (Dropout)          (None, 7, 6, 32)          0         \n",
            "_________________________________________________________________\n",
            "flatten (Flatten)            (None, 1344)              0         \n",
            "_________________________________________________________________\n",
            "y_pred (Dense)               (None, 4)                 5380      \n",
            "=================================================================\n",
            "Total params: 11,268\n",
            "Trainable params: 11,268\n",
            "Non-trainable params: 0\n",
            "_________________________________________________________________\n"
          ]
        }
      ]
    },
    {
      "cell_type": "markdown",
      "metadata": {
        "id": "zUFcnii3IZti"
      },
      "source": [
        "### Model compiling and Training"
      ]
    },
    {
      "cell_type": "code",
      "metadata": {
        "id": "EclodQ60Fzqf"
      },
      "source": [
        "opt = tf.keras.optimizers.Adam(learning_rate=LR, beta_1=0.9, beta_2=0.999)\n",
        "model.compile(\n",
        "    optimizer=opt,\n",
        "    loss=tf.keras.losses.categorical_crossentropy,\n",
        "    metrics = ['accuracy', Precision(), Recall()],\n",
        ")\n",
        "\n",
        "model_checkpoint_callback = tf.keras.callbacks.ModelCheckpoint(\n",
        "    filepath=KERAS_MODEL,\n",
        "    monitor='val_accuracy',\n",
        "    mode='max',\n",
        "    save_best_only=True)"
      ],
      "execution_count": 14,
      "outputs": []
    },
    {
      "cell_type": "code",
      "metadata": {
        "colab": {
          "base_uri": "https://localhost:8080/"
        },
        "id": "UywvP2xyloco",
        "outputId": "fb96b2d2-f7be-4c44-b983-a91fd3edb214"
      },
      "source": [
        "history = model.fit(train_ds, epochs=EPOCHS, validation_data=val_ds,callbacks=model_checkpoint_callback)"
      ],
      "execution_count": 15,
      "outputs": [
        {
          "output_type": "stream",
          "name": "stdout",
          "text": [
            "Epoch 1/20\n",
            "78/78 [==============================] - 938s 12s/step - loss: 0.5006 - accuracy: 0.8152 - precision: 0.9152 - recall: 0.7054 - val_loss: 0.1811 - val_accuracy: 0.9438 - val_precision: 0.9758 - val_recall: 0.9045\n",
            "Epoch 2/20\n",
            "78/78 [==============================] - 49s 636ms/step - loss: 0.1786 - accuracy: 0.9475 - precision: 0.9564 - recall: 0.9407 - val_loss: 0.1888 - val_accuracy: 0.9298 - val_precision: 0.9424 - val_recall: 0.9185\n",
            "Epoch 3/20\n",
            "78/78 [==============================] - 52s 671ms/step - loss: 0.1386 - accuracy: 0.9507 - precision: 0.9589 - recall: 0.9455 - val_loss: 0.2263 - val_accuracy: 0.9045 - val_precision: 0.9244 - val_recall: 0.8933\n",
            "Epoch 4/20\n",
            "78/78 [==============================] - 53s 681ms/step - loss: 0.1387 - accuracy: 0.9607 - precision: 0.9659 - recall: 0.9543 - val_loss: 0.1744 - val_accuracy: 0.9270 - val_precision: 0.9506 - val_recall: 0.9185\n",
            "Epoch 5/20\n",
            "78/78 [==============================] - 53s 677ms/step - loss: 0.1167 - accuracy: 0.9663 - precision: 0.9712 - recall: 0.9611 - val_loss: 0.1939 - val_accuracy: 0.9410 - val_precision: 0.9477 - val_recall: 0.9157\n",
            "Epoch 6/20\n",
            "78/78 [==============================] - 49s 633ms/step - loss: 0.1002 - accuracy: 0.9679 - precision: 0.9725 - recall: 0.9635 - val_loss: 0.1403 - val_accuracy: 0.9607 - val_precision: 0.9660 - val_recall: 0.9579\n",
            "Epoch 7/20\n",
            "78/78 [==============================] - 48s 621ms/step - loss: 0.0967 - accuracy: 0.9703 - precision: 0.9719 - recall: 0.9687 - val_loss: 0.1764 - val_accuracy: 0.9494 - val_precision: 0.9575 - val_recall: 0.9494\n",
            "Epoch 8/20\n",
            "78/78 [==============================] - 50s 638ms/step - loss: 0.1012 - accuracy: 0.9695 - precision: 0.9707 - recall: 0.9683 - val_loss: 0.1401 - val_accuracy: 0.9551 - val_precision: 0.9600 - val_recall: 0.9438\n",
            "Epoch 9/20\n",
            "78/78 [==============================] - 49s 628ms/step - loss: 0.0877 - accuracy: 0.9711 - precision: 0.9715 - recall: 0.9703 - val_loss: 0.1276 - val_accuracy: 0.9494 - val_precision: 0.9493 - val_recall: 0.9466\n",
            "Epoch 10/20\n",
            "78/78 [==============================] - 50s 648ms/step - loss: 0.0918 - accuracy: 0.9679 - precision: 0.9683 - recall: 0.9671 - val_loss: 0.1035 - val_accuracy: 0.9635 - val_precision: 0.9661 - val_recall: 0.9607\n",
            "Epoch 11/20\n",
            "78/78 [==============================] - 49s 631ms/step - loss: 0.0745 - accuracy: 0.9723 - precision: 0.9731 - recall: 0.9719 - val_loss: 0.0816 - val_accuracy: 0.9747 - val_precision: 0.9747 - val_recall: 0.9747\n",
            "Epoch 12/20\n",
            "78/78 [==============================] - 47s 606ms/step - loss: 0.0570 - accuracy: 0.9808 - precision: 0.9811 - recall: 0.9796 - val_loss: 0.0803 - val_accuracy: 0.9860 - val_precision: 0.9860 - val_recall: 0.9860\n",
            "Epoch 13/20\n",
            "78/78 [==============================] - 52s 671ms/step - loss: 0.0588 - accuracy: 0.9808 - precision: 0.9815 - recall: 0.9808 - val_loss: 0.0672 - val_accuracy: 0.9747 - val_precision: 0.9775 - val_recall: 0.9747\n",
            "Epoch 14/20\n",
            "78/78 [==============================] - 53s 683ms/step - loss: 0.0392 - accuracy: 0.9888 - precision: 0.9888 - recall: 0.9884 - val_loss: 0.0345 - val_accuracy: 0.9944 - val_precision: 0.9972 - val_recall: 0.9944\n",
            "Epoch 15/20\n",
            "78/78 [==============================] - 54s 688ms/step - loss: 0.0513 - accuracy: 0.9840 - precision: 0.9840 - recall: 0.9832 - val_loss: 0.1153 - val_accuracy: 0.9663 - val_precision: 0.9662 - val_recall: 0.9635\n",
            "Epoch 16/20\n",
            "78/78 [==============================] - 55s 703ms/step - loss: 0.0395 - accuracy: 0.9872 - precision: 0.9872 - recall: 0.9868 - val_loss: 0.0334 - val_accuracy: 0.9944 - val_precision: 0.9944 - val_recall: 0.9944\n",
            "Epoch 17/20\n",
            "78/78 [==============================] - 53s 675ms/step - loss: 0.0234 - accuracy: 0.9948 - precision: 0.9952 - recall: 0.9936 - val_loss: 0.0344 - val_accuracy: 0.9972 - val_precision: 0.9972 - val_recall: 0.9972\n",
            "Epoch 18/20\n",
            "78/78 [==============================] - 52s 663ms/step - loss: 0.0325 - accuracy: 0.9944 - precision: 0.9944 - recall: 0.9940 - val_loss: 0.0305 - val_accuracy: 0.9972 - val_precision: 0.9972 - val_recall: 0.9972\n",
            "Epoch 19/20\n",
            "78/78 [==============================] - 50s 647ms/step - loss: 0.0397 - accuracy: 0.9916 - precision: 0.9916 - recall: 0.9912 - val_loss: 0.0642 - val_accuracy: 0.9803 - val_precision: 0.9803 - val_recall: 0.9803\n",
            "Epoch 20/20\n",
            "78/78 [==============================] - 52s 662ms/step - loss: 0.0212 - accuracy: 0.9944 - precision: 0.9948 - recall: 0.9944 - val_loss: 0.0334 - val_accuracy: 0.9972 - val_precision: 0.9972 - val_recall: 0.9972\n"
          ]
        }
      ]
    },
    {
      "cell_type": "markdown",
      "metadata": {
        "id": "ROdirkvVGbv6"
      },
      "source": [
        "### Plotting loss and accuracy over epochs"
      ]
    },
    {
      "cell_type": "code",
      "metadata": {
        "colab": {
          "base_uri": "https://localhost:8080/",
          "height": 278
        },
        "id": "MgehfM9CGWI1",
        "outputId": "e3de354a-3e08-4430-d6f6-cb3e60429413"
      },
      "source": [
        "metrics = history.history\n",
        "plt.plot(history.epoch, metrics['loss'], metrics['val_loss'])\n",
        "plt.xlabel('Epoch')\n",
        "plt.ylabel('loss')\n",
        "plt.legend(['loss', 'val_loss'])\n",
        "plt.show()"
      ],
      "execution_count": 21,
      "outputs": [
        {
          "output_type": "display_data",
          "data": {
            "image/png": "[encoded data removed]",
            "text/plain": [
              "<Figure size 432x288 with 1 Axes>"
            ]
          },
          "metadata": {
            "needs_background": "light"
          }
        }
      ]
    },
    {
      "cell_type": "code",
      "metadata": {
        "colab": {
          "base_uri": "https://localhost:8080/",
          "height": 278
        },
        "id": "Cpy2QRa6Gkow",
        "outputId": "6bf784a1-a768-4a1c-a1f1-83a939c4ce79"
      },
      "source": [
        "metrics = history.history\n",
        "plt.plot(history.epoch, metrics['accuracy'], metrics['val_accuracy'])\n",
        "plt.xlabel('Epoch')\n",
        "plt.ylabel('accuracy')\n",
        "plt.legend(['accuracy', 'val_accuracy'])\n",
        "plt.show()"
      ],
      "execution_count": 22,
      "outputs": [
        {
          "output_type": "display_data",
          "data": {
            "image/png": "[encoded data removed]",
            "text/plain": [
              "<Figure size 432x288 with 1 Axes>"
            ]
          },
          "metadata": {
            "needs_background": "light"
          }
        }
      ]
    },
    {
      "cell_type": "markdown",
      "metadata": {
        "id": "c5plv8OgG0SK"
      },
      "source": [
        "## Model Testing"
      ]
    },
    {
      "cell_type": "code",
      "metadata": {
        "id": "gJBhmllgLI-t"
      },
      "source": [
        "model = models.load_model(KERAS_MODEL)"
      ],
      "execution_count": 10,
      "outputs": []
    },
    {
      "cell_type": "code",
      "metadata": {
        "colab": {
          "base_uri": "https://localhost:8080/"
        },
        "id": "oycN6YjAkOAX",
        "outputId": "3108c5f8-3bc5-45be-e67b-39aec7942d06"
      },
      "source": [
        "for spec,_ in test_ds.take(1):\n",
        "    print(spec.shape)"
      ],
      "execution_count": 11,
      "outputs": [
        {
          "output_type": "stream",
          "name": "stdout",
          "text": [
            "(2058,)\n"
          ]
        }
      ]
    },
    {
      "cell_type": "code",
      "metadata": {
        "colab": {
          "base_uri": "https://localhost:8080/"
        },
        "id": "nRQWOQZ8GzyZ",
        "outputId": "61b67ad8-97b2-41bb-fbb5-b87f4ad5dffc"
      },
      "source": [
        "test_ds = test_ds.batch(1)\n",
        "model_test_score = model.evaluate(test_ds)"
      ],
      "execution_count": 12,
      "outputs": [
        {
          "output_type": "stream",
          "name": "stdout",
          "text": [
            "713/713 [==============================] - 206s 290ms/step - loss: 0.0314 - accuracy: 0.9972 - precision: 0.9972 - recall: 0.9958\n"
          ]
        }
      ]
    },
    {
      "cell_type": "code",
      "metadata": {
        "colab": {
          "base_uri": "https://localhost:8080/"
        },
        "id": "8SUEUfFXax2L",
        "outputId": "78388ea5-afa2-4492-b4b1-bd3a64539598"
      },
      "source": [
        "print(f'=========Final Test result============\\n',\n",
        "      f'Accuracy    : {round(model_test_score[1] *100, 1)}%\\n',\n",
        "      f'Precision   : {round(model_test_score[2] , 3)}\\n',\n",
        "      f'Recall      : {round(model_test_score[3] , 3)}\\n')"
      ],
      "execution_count": 21,
      "outputs": [
        {
          "output_type": "stream",
          "name": "stdout",
          "text": [
            "=========Final Test result============\n",
            " Accuracy    : 99.7%\n",
            " Precision   : 0.997\n",
            " Recall      : 0.996\n",
            "\n"
          ]
        }
      ]
    },
    {
      "cell_type": "markdown",
      "metadata": {
        "id": "qQVRdVtmn7i5"
      },
      "source": [
        "## Quantization of Model"
      ]
    },
    {
      "cell_type": "markdown",
      "metadata": {
        "id": "r2WElRXsqVvk"
      },
      "source": [
        "### Converting keras h5 model to tflite float model\n"
      ]
    },
    {
      "cell_type": "code",
      "metadata": {
        "colab": {
          "base_uri": "https://localhost:8080/"
        },
        "id": "6nNuW30_r1qS",
        "outputId": "eef04bd7-420b-4932-bd60-272a87386b7e"
      },
      "source": [
        "model = models.load_model(KERAS_MODEL)\n",
        "\n",
        "converter_for_float = tf.lite.TFLiteConverter.from_keras_model(model)\n",
        "tflite_float_model = converter_for_float.convert()\n",
        "size_of_float_model = open(FLOAT_TFLITE_MODEL, 'wb').write(tflite_float_model)\n",
        "print(f'Total size of {FLOAT_TFLITE_MODEL} is {size_of_float_model} Bytes')"
      ],
      "execution_count": 11,
      "outputs": [
        {
          "output_type": "stream",
          "name": "stdout",
          "text": [
            "INFO:tensorflow:Assets written to: /tmp/tmp15fxjl25/assets\n",
            "Total size of float_tflite_model.tflite is 49544 Bytes\n"
          ]
        }
      ]
    },
    {
      "cell_type": "code",
      "metadata": {
        "colab": {
          "base_uri": "https://localhost:8080/"
        },
        "id": "qXZ_mHSXzJPA",
        "outputId": "414a7190-90be-46d6-d459-4e6026fed492"
      },
      "source": [
        "float_interpreter = tf.lite.Interpreter(model_content=tflite_float_model)\n",
        "input_type = float_interpreter.get_input_details()[0]['dtype']\n",
        "print('input dtype  : ', input_type)\n",
        "output_type = float_interpreter.get_output_details()[0]['dtype']\n",
        "print('output dtype : ', output_type)"
      ],
      "execution_count": 12,
      "outputs": [
        {
          "output_type": "stream",
          "name": "stdout",
          "text": [
            "input dtype  :  <class 'numpy.float32'>\n",
            "output dtype :  <class 'numpy.float32'>\n"
          ]
        }
      ]
    },
    {
      "cell_type": "markdown",
      "metadata": {
        "id": "AZUNQ96l5hWo"
      },
      "source": [
        "### Testing compressed tflite float32 Model"
      ]
    },
    {
      "cell_type": "code",
      "metadata": {
        "colab": {
          "base_uri": "https://localhost:8080/"
        },
        "id": "yLkzt87R5bnI",
        "outputId": "22d055be-56f6-452f-e6cc-ce757a6e5216"
      },
      "source": [
        "# Initialize the interpreter\n",
        "interpreter_f = tf.lite.Interpreter(model_path=FLOAT_TFLITE_MODEL)\n",
        "interpreter_f.allocate_tensors()\n",
        "\n",
        "input_details = interpreter_f.get_input_details()[0]\n",
        "output_details = interpreter_f.get_output_details()[0]\n",
        "\n",
        "correct_predictions = 0\n",
        "i = 0\n",
        "for i,(spec,label) in tqdm(enumerate(test_ds.batch(1))):\n",
        "    spec = spec.numpy()\n",
        "    spec = spec.astype(input_details[\"dtype\"])\n",
        "    interpreter_f.set_tensor(input_details[\"index\"], spec)\n",
        "    interpreter_f.invoke()\n",
        "    output = interpreter_f.get_tensor(output_details[\"index\"])[0]\n",
        "    top_prediction = output.argmax()\n",
        "    correct_predictions += (top_prediction == np.argmax(label.numpy()[0]))\n",
        "\n",
        "print(f'\\n\\nTotal Correct Prediction: {correct_predictions} out of: {i+1}')\n",
        "print('\\nFloat32 Quant model accuracy is %f%% (Number of test samples=%d)' % ((correct_predictions * 100) / (i+1), i+1))"
      ],
      "execution_count": 14,
      "outputs": [
        {
          "output_type": "stream",
          "name": "stderr",
          "text": [
            "713it [00:13, 54.13it/s]"
          ]
        },
        {
          "output_type": "stream",
          "name": "stdout",
          "text": [
            "\n",
            "\n",
            "Total Correct Prediction: 711 out of: 713\n",
            "\n",
            "Float32 Quant model accuracy is 99.719495% (Number of test samples=713)\n"
          ]
        },
        {
          "output_type": "stream",
          "name": "stderr",
          "text": [
            "\n"
          ]
        }
      ]
    },
    {
      "cell_type": "markdown",
      "metadata": {
        "id": "6FzStXKuuS9z"
      },
      "source": [
        "### Converting keras h5 model to tflite Integer-only quantized model for Microcontroller unit\n",
        "> 1. Create a representative dataset to calibarate variable data.\n",
        "> 2. Set the dtype of input and output of model to tf.int8"
      ]
    },
    {
      "cell_type": "code",
      "metadata": {
        "id": "oXLpJaQpoAi0"
      },
      "source": [
        "def representative_data_gen():\n",
        "    for input_spec,_ in train_ds.batch(1).take(1):\n",
        "        yield [input_spec] "
      ],
      "execution_count": 35,
      "outputs": []
    },
    {
      "cell_type": "code",
      "metadata": {
        "colab": {
          "base_uri": "https://localhost:8080/"
        },
        "id": "Xef_jKfEwWWN",
        "outputId": "91d8c338-8ca4-4112-c2cf-5a27b4e49ff3"
      },
      "source": [
        "converter_int_model = tf.lite.TFLiteConverter.from_keras_model(model)\n",
        "converter_int_model.optimizations = [tf.lite.Optimize.DEFAULT]\n",
        "converter_int_model.representative_dataset = representative_data_gen\n",
        "# Ensure that if any ops can't be quantized, the converter throws an error\n",
        "converter_int_model.target_spec.supported_ops = [tf.lite.OpsSet.TFLITE_BUILTINS_INT8]\n",
        "converter_int_model.inference_input_type = tf.uint8\n",
        "converter_int_model.inference_output_type = tf.uint8\n",
        "\n",
        "tflite_model_intonly_quant = converter_int_model.convert()\n",
        "size_of_intonly_model = open(INTONLY_QUANT_TFLITE_MODEL, 'wb').write(tflite_model_intonly_quant)\n",
        "print(f'Total size of {INTONLY_QUANT_TFLITE_MODEL} is {size_of_intonly_model} Bytes')"
      ],
      "execution_count": 36,
      "outputs": [
        {
          "output_type": "stream",
          "name": "stdout",
          "text": [
            "INFO:tensorflow:Assets written to: /tmp/tmpxuef6rjs/assets\n"
          ]
        },
        {
          "output_type": "stream",
          "name": "stderr",
          "text": [
            "INFO:tensorflow:Assets written to: /tmp/tmpxuef6rjs/assets\n",
            "WARNING:absl:For model inputs containing unsupported operations which cannot be quantized, the `inference_input_type` attribute will default to the original type.\n"
          ]
        },
        {
          "output_type": "stream",
          "name": "stdout",
          "text": [
            "Total size of intonly_quant_tflite_model.tflite is 18208 Bytes\n"
          ]
        }
      ]
    },
    {
      "cell_type": "code",
      "metadata": {
        "colab": {
          "base_uri": "https://localhost:8080/"
        },
        "id": "iB0pk3jBx2hL",
        "outputId": "79bb20b5-4fa2-4873-f143-1f42fc2cda71"
      },
      "source": [
        "interpreter = tf.lite.Interpreter(model_content=tflite_model_intonly_quant)\n",
        "input_type = interpreter.get_input_details()[0]['dtype']\n",
        "print('input    : ', input_type)\n",
        "output_type = interpreter.get_output_details()[0]['dtype']\n",
        "print('output   : ', output_type)"
      ],
      "execution_count": 33,
      "outputs": [
        {
          "output_type": "stream",
          "name": "stdout",
          "text": [
            "input:  <class 'numpy.uint8'>\n",
            "output:  <class 'numpy.uint8'>\n"
          ]
        }
      ]
    },
    {
      "cell_type": "markdown",
      "metadata": {
        "id": "KfE7KOzuBlbC"
      },
      "source": [
        "### Testing tflite intonly quantized model"
      ]
    },
    {
      "cell_type": "code",
      "metadata": {
        "colab": {
          "base_uri": "https://localhost:8080/"
        },
        "id": "wY-V6nQfBlHx",
        "outputId": "1899dc2d-03a9-4eef-9896-59b12800e8b6"
      },
      "source": [
        "# Initialize the interpreter\n",
        "interpreter = tf.lite.Interpreter(model_path=INTONLY_QUANT_TFLITE_MODEL)\n",
        "interpreter.allocate_tensors()\n",
        "\n",
        "input_details = interpreter.get_input_details()[0]\n",
        "output_details = interpreter.get_output_details()[0]\n",
        "\n",
        "correct_predictions = 0\n",
        "i = 0\n",
        "for i,(spec,label) in tqdm(enumerate(test_ds.batch(1))):\n",
        "    if input_details['dtype'] == np.uint8:\n",
        "      input_scale, input_zero_point = input_details[\"quantization\"]\n",
        "      spec = spec.numpy().reshape(1,FREQ_BIN*AVERAGED_FRAME_LENGTH)\n",
        "      spec = spec / input_scale + input_zero_point\n",
        "    spec = spec.astype(input_details[\"dtype\"])\n",
        "    interpreter.set_tensor(input_details[\"index\"], spec)\n",
        "    interpreter.invoke()\n",
        "    output = interpreter.get_tensor(output_details[\"index\"])[0]\n",
        "    top_prediction = output.argmax()\n",
        "    correct_predictions += (top_prediction == np.argmax(label.numpy()[0]))\n",
        "print(f'\\nTotal Correct Prediction: {correct_predictions} out of: {i+1}')\n",
        "print('\\nInt-only Quant model accuracy is %f%% (Number of test samples=%d)' % ((correct_predictions * 100) / (i+1), i+1))"
      ],
      "execution_count": 37,
      "outputs": [
        {
          "output_type": "stream",
          "name": "stderr",
          "text": [
            "713it [00:16, 42.19it/s]"
          ]
        },
        {
          "output_type": "stream",
          "name": "stdout",
          "text": [
            "\n",
            "Total Correct Prediction: 664 out of: 713\n",
            "\n",
            "Int-only Quant model accuracy is 93.127630% (Number of test samples=713)\n"
          ]
        },
        {
          "output_type": "stream",
          "name": "stderr",
          "text": [
            "\n"
          ]
        }
      ]
    },
    {
      "cell_type": "markdown",
      "metadata": {
        "id": "AZ72hDblpJoV"
      },
      "source": [
        "## Generating model.cc file from intonly_quant_tflite_model for MCU"
      ]
    },
    {
      "cell_type": "code",
      "metadata": {
        "colab": {
          "base_uri": "https://localhost:8080/"
        },
        "id": "rdp1cHUPpJSU",
        "outputId": "73ac5e3d-8bc9-482e-9045-9b089d05081e"
      },
      "source": [
        "!apt-get update && apt-get -qq install xxd"
      ],
      "execution_count": 38,
      "outputs": [
        {
          "output_type": "stream",
          "name": "stdout",
          "text": [
            "\r0% [Working]\r            \rGet:1 http://security.ubuntu.com/ubuntu bionic-security InRelease [88.7 kB]\n",
            "Get:2 https://cloud.r-project.org/bin/linux/ubuntu bionic-cran40/ InRelease [3,626 B]\n",
            "Ign:3 https://developer.download.nvidia.com/compute/cuda/repos/ubuntu1804/x86_64  InRelease\n",
            "Hit:4 http://ppa.launchpad.net/c2d4u.team/c2d4u4.0+/ubuntu bionic InRelease\n",
            "Ign:5 https://developer.download.nvidia.com/compute/machine-learning/repos/ubuntu1804/x86_64  InRelease\n",
            "Hit:6 https://developer.download.nvidia.com/compute/cuda/repos/ubuntu1804/x86_64  Release\n",
            "Hit:7 https://developer.download.nvidia.com/compute/machine-learning/repos/ubuntu1804/x86_64  Release\n",
            "Hit:8 http://archive.ubuntu.com/ubuntu bionic InRelease\n",
            "Get:9 http://archive.ubuntu.com/ubuntu bionic-updates InRelease [88.7 kB]\n",
            "Hit:10 http://ppa.launchpad.net/cran/libgit2/ubuntu bionic InRelease\n",
            "Hit:11 http://ppa.launchpad.net/deadsnakes/ppa/ubuntu bionic InRelease\n",
            "Get:12 http://security.ubuntu.com/ubuntu bionic-security/restricted amd64 Packages [607 kB]\n",
            "Get:13 http://security.ubuntu.com/ubuntu bionic-security/main amd64 Packages [2,367 kB]\n",
            "Get:14 http://archive.ubuntu.com/ubuntu bionic-backports InRelease [74.6 kB]\n",
            "Hit:15 http://ppa.launchpad.net/graphics-drivers/ppa/ubuntu bionic InRelease\n",
            "Get:16 http://security.ubuntu.com/ubuntu bionic-security/universe amd64 Packages [1,431 kB]\n",
            "Get:19 http://archive.ubuntu.com/ubuntu bionic-updates/main amd64 Packages [2,803 kB]\n",
            "Get:20 http://archive.ubuntu.com/ubuntu bionic-updates/restricted amd64 Packages [640 kB]\n",
            "Get:21 http://archive.ubuntu.com/ubuntu bionic-updates/universe amd64 Packages [2,210 kB]\n",
            "Fetched 10.3 MB in 4s (2,924 kB/s)\n",
            "Reading package lists... Done\n",
            "Selecting previously unselected package xxd.\n",
            "(Reading database ... 155047 files and directories currently installed.)\n",
            "Preparing to unpack .../xxd_2%3a8.0.1453-1ubuntu1.6_amd64.deb ...\n",
            "Unpacking xxd (2:8.0.1453-1ubuntu1.6) ...\n",
            "Setting up xxd (2:8.0.1453-1ubuntu1.6) ...\n",
            "Processing triggers for man-db (2.8.3-2ubuntu0.1) ...\n"
          ]
        }
      ]
    },
    {
      "cell_type": "code",
      "metadata": {
        "id": "IF_dQLOsrN2L"
      },
      "source": [
        "!xxd -i {INTONLY_QUANT_TFLITE_MODEL} > model.cc"
      ],
      "execution_count": 39,
      "outputs": []
    },
    {
      "cell_type": "code",
      "metadata": {
        "colab": {
          "base_uri": "https://localhost:8080/"
        },
        "id": "adHWCDN39r44",
        "outputId": "09468cc3-f159-4738-a2e2-019293bca5a8"
      },
      "source": [
        "!head -n 20 model.cc"
      ],
      "execution_count": 40,
      "outputs": [
        {
          "output_type": "stream",
          "name": "stdout",
          "text": [
            "unsigned char intonly_quant_tflite_model_tflite[] = {\n",
            "  0x20, 0x00, 0x00, 0x00, 0x54, 0x46, 0x4c, 0x33, 0x00, 0x00, 0x00, 0x00,\n",
            "  0x14, 0x00, 0x20, 0x00, 0x1c, 0x00, 0x18, 0x00, 0x14, 0x00, 0x10, 0x00,\n",
            "  0x0c, 0x00, 0x00, 0x00, 0x08, 0x00, 0x04, 0x00, 0x14, 0x00, 0x00, 0x00,\n",
            "  0x1c, 0x00, 0x00, 0x00, 0x1c, 0x00, 0x00, 0x00, 0x4c, 0x00, 0x00, 0x00,\n",
            "  0xa8, 0x2e, 0x00, 0x00, 0xb8, 0x2e, 0x00, 0x00, 0x2c, 0x46, 0x00, 0x00,\n",
            "  0x03, 0x00, 0x00, 0x00, 0x00, 0x00, 0x00, 0x00, 0x01, 0x00, 0x00, 0x00,\n",
            "  0x0c, 0x00, 0x00, 0x00, 0x08, 0x00, 0x0c, 0x00, 0x08, 0x00, 0x04, 0x00,\n",
            "  0x08, 0x00, 0x00, 0x00, 0x1f, 0x00, 0x00, 0x00, 0x04, 0x00, 0x00, 0x00,\n",
            "  0x13, 0x00, 0x00, 0x00, 0x6d, 0x69, 0x6e, 0x5f, 0x72, 0x75, 0x6e, 0x74,\n",
            "  0x69, 0x6d, 0x65, 0x5f, 0x76, 0x65, 0x72, 0x73, 0x69, 0x6f, 0x6e, 0x00,\n",
            "  0x20, 0x00, 0x00, 0x00, 0x58, 0x2e, 0x00, 0x00, 0x50, 0x2e, 0x00, 0x00,\n",
            "  0x3c, 0x2e, 0x00, 0x00, 0x28, 0x2e, 0x00, 0x00, 0x14, 0x2e, 0x00, 0x00,\n",
            "  0x00, 0x2e, 0x00, 0x00, 0xec, 0x2d, 0x00, 0x00, 0xd4, 0x2d, 0x00, 0x00,\n",
            "  0x7c, 0x2d, 0x00, 0x00, 0x4c, 0x2d, 0x00, 0x00, 0xbc, 0x28, 0x00, 0x00,\n",
            "  0x6c, 0x28, 0x00, 0x00, 0x5c, 0x16, 0x00, 0x00, 0xcc, 0x15, 0x00, 0x00,\n",
            "  0xbc, 0x00, 0x00, 0x00, 0x9c, 0x00, 0x00, 0x00, 0x94, 0x00, 0x00, 0x00,\n",
            "  0x8c, 0x00, 0x00, 0x00, 0x84, 0x00, 0x00, 0x00, 0x7c, 0x00, 0x00, 0x00,\n",
            "  0x74, 0x00, 0x00, 0x00, 0x6c, 0x00, 0x00, 0x00, 0x64, 0x00, 0x00, 0x00,\n",
            "  0x5c, 0x00, 0x00, 0x00, 0x54, 0x00, 0x00, 0x00, 0x4c, 0x00, 0x00, 0x00,\n"
          ]
        }
      ]
    },
    {
      "cell_type": "code",
      "metadata": {
        "colab": {
          "base_uri": "https://localhost:8080/"
        },
        "id": "NV74HWygew2o",
        "outputId": "23a3b519-a92d-4c34-e781-875354d3b098"
      },
      "source": [
        "!tail -n 20 model.cc"
      ],
      "execution_count": 41,
      "outputs": [
        {
          "output_type": "stream",
          "name": "stdout",
          "text": [
            "  0x69, 0x6e, 0x70, 0x75, 0x74, 0x00, 0x00, 0x00, 0x02, 0x00, 0x00, 0x00,\n",
            "  0x01, 0x00, 0x00, 0x00, 0x0a, 0x08, 0x00, 0x00, 0x09, 0x00, 0x00, 0x00,\n",
            "  0xac, 0x00, 0x00, 0x00, 0x90, 0x00, 0x00, 0x00, 0x80, 0x00, 0x00, 0x00,\n",
            "  0x70, 0x00, 0x00, 0x00, 0x60, 0x00, 0x00, 0x00, 0x4c, 0x00, 0x00, 0x00,\n",
            "  0x2c, 0x00, 0x00, 0x00, 0x18, 0x00, 0x00, 0x00, 0x04, 0x00, 0x00, 0x00,\n",
            "  0xd0, 0xff, 0xff, 0xff, 0x19, 0x00, 0x00, 0x00, 0x02, 0x00, 0x00, 0x00,\n",
            "  0x00, 0x00, 0x00, 0x19, 0xe0, 0xff, 0xff, 0xff, 0x09, 0x00, 0x00, 0x00,\n",
            "  0x04, 0x00, 0x00, 0x00, 0x00, 0x00, 0x00, 0x09, 0xf0, 0xff, 0xff, 0xff,\n",
            "  0x11, 0x00, 0x00, 0x00, 0x02, 0x00, 0x00, 0x00, 0x00, 0x00, 0x00, 0x11,\n",
            "  0x0c, 0x00, 0x10, 0x00, 0x0f, 0x00, 0x00, 0x00, 0x08, 0x00, 0x04, 0x00,\n",
            "  0x0c, 0x00, 0x00, 0x00, 0x03, 0x00, 0x00, 0x00, 0x03, 0x00, 0x00, 0x00,\n",
            "  0x00, 0x00, 0x00, 0x03, 0xd0, 0xff, 0xff, 0xff, 0x16, 0x00, 0x00, 0x00,\n",
            "  0x00, 0x00, 0x00, 0x16, 0xdc, 0xff, 0xff, 0xff, 0x53, 0x00, 0x00, 0x00,\n",
            "  0x00, 0x00, 0x00, 0x53, 0xe8, 0xff, 0xff, 0xff, 0x2d, 0x00, 0x00, 0x00,\n",
            "  0x00, 0x00, 0x00, 0x2d, 0xf4, 0xff, 0xff, 0xff, 0x4d, 0x00, 0x00, 0x00,\n",
            "  0x00, 0x00, 0x00, 0x4d, 0x0c, 0x00, 0x0c, 0x00, 0x0b, 0x00, 0x00, 0x00,\n",
            "  0x00, 0x00, 0x04, 0x00, 0x0c, 0x00, 0x00, 0x00, 0x72, 0x00, 0x00, 0x00,\n",
            "  0x00, 0x00, 0x00, 0x72\n",
            "};\n",
            "unsigned int intonly_quant_tflite_model_tflite_len = 18208;\n"
          ]
        }
      ]
    }
  ]
}