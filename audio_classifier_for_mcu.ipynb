{
  "nbformat": 4,
  "nbformat_minor": 0,
  "metadata": {
    "colab": {
      "name": "audio_classifier_for_mcu.ipynb",
      "provenance": [],
      "collapsed_sections": [],
      "mount_file_id": "1bciwPfFSMrgPTMhE13fxMocrkjrnRHaF",
      "authorship_tag": "ABX9TyOXvnydylJtYPxtfzJMA5+4",
      "include_colab_link": true
    },
    "kernelspec": {
      "name": "python3",
      "display_name": "Python 3"
    },
    "language_info": {
      "name": "python"
    }
  },
  "cells": [
    {
      "cell_type": "markdown",
      "metadata": {
        "id": "view-in-github",
        "colab_type": "text"
      },
      "source": [
        "<a href=\"https://colab.research.google.com/github/Thehunk1206/Arduino-Surrounding-Sound-Classifier/blob/master/audio_classifier_for_mcu.ipynb\" target=\"_parent\"><img src=\"https://colab.research.google.com/assets/colab-badge.svg\" alt=\"Open In Colab\"/></a>"
      ]
    },
    {
      "cell_type": "markdown",
      "metadata": {
        "id": "VCMlih5VZW8P"
      },
      "source": [
        "# Audio Classifier for Micro Controller Unit (here: Arduino Nano BLE Sense)"
      ]
    },
    {
      "cell_type": "code",
      "metadata": {
        "colab": {
          "base_uri": "https://localhost:8080/"
        },
        "id": "8wGgLGdwMf79",
        "outputId": "8b9f4038-a48b-4769-a8c3-38c885fe250f"
      },
      "source": [
        "%cd drive/MyDrive/audio_classifier_mcu/"
      ],
      "execution_count": null,
      "outputs": [
        {
          "output_type": "stream",
          "text": [
            "/content/drive/MyDrive/audio_classifier_mcu\n"
          ],
          "name": "stdout"
        }
      ]
    },
    {
      "cell_type": "code",
      "metadata": {
        "colab": {
          "base_uri": "https://localhost:8080/"
        },
        "id": "3hENZjmibBmx",
        "outputId": "e5698731-5e74-4d9f-afc8-52d4431c039b"
      },
      "source": [
        "!nvidia-smi"
      ],
      "execution_count": null,
      "outputs": [
        {
          "output_type": "stream",
          "text": [
            "NVIDIA-SMI has failed because it couldn't communicate with the NVIDIA driver. Make sure that the latest NVIDIA driver is installed and running.\n",
            "\n"
          ],
          "name": "stdout"
        }
      ]
    },
    {
      "cell_type": "markdown",
      "metadata": {
        "id": "huASGn3R_Hbs"
      },
      "source": [
        "## Importing stuff"
      ]
    },
    {
      "cell_type": "code",
      "metadata": {
        "id": "RyRHohD5bBkL"
      },
      "source": [
        "import os\n",
        "import glob\n",
        "\n",
        "\n",
        "import matplotlib.pyplot as plt\n",
        "import numpy as np\n",
        "import seaborn as sns\n",
        "from tqdm import tqdm\n",
        "\n",
        "import tensorflow as tf\n",
        "from tensorflow.keras import layers\n",
        "from tensorflow.keras import models\n",
        "\n",
        "\n",
        "tf.config.run_functions_eagerly(True)\n",
        "tf.data.experimental.enable_debug_mode()\n",
        "# seed = 102\n",
        "# tf.random.set_seed(seed)\n",
        "# np.random.seed(seed)"
      ],
      "execution_count": null,
      "outputs": []
    },
    {
      "cell_type": "markdown",
      "metadata": {
        "id": "fOWSK4l_p1d3"
      },
      "source": [
        "## Some Constants"
      ]
    },
    {
      "cell_type": "code",
      "metadata": {
        "id": "-LCA6qjmp6WB"
      },
      "source": [
        "# Audio related\n",
        "SAMPLE_RATE = 16000\n",
        "FRAME_SIZE_MS = 30 \n",
        "FRAME_STRIDE_MS = 20\n",
        "\n",
        "FRAME_SIZE = int(SAMPLE_RATE*(FRAME_SIZE_MS/1000))\n",
        "FRAME_STRIDE = int(SAMPLE_RATE*(FRAME_STRIDE_MS/1000)) \n",
        "TAKE_MEAN_AT_INTERVAL = 6\n",
        "FREQ_BIN = 49 # Specific only for this project\n",
        "AVERAGED_FRAME_LENGTH = 42 #Specific only for this project\n",
        "\n",
        "\n",
        "#ML related\n",
        "DATA_DIR = 'Dataset/'\n",
        "BATCH_SIZE = 32\n",
        "LR = 2e-3\n",
        "EPOCHS = 50\n",
        "KERAS_MODEL = 'audio_classifier_float.h5'\n",
        "FLOAT_TFLITE_MODEL = 'float_tflite_model.tflite'\n",
        "INTONLY_QUANT_TFLITE_MODEL = 'intonly_quant_tflite_model.tflite'"
      ],
      "execution_count": null,
      "outputs": []
    },
    {
      "cell_type": "markdown",
      "metadata": {
        "id": "FcTjEpoob2I0"
      },
      "source": [
        "## Splitting Dataset Files"
      ]
    },
    {
      "cell_type": "code",
      "metadata": {
        "id": "ZjQRaH4Gb1l0",
        "colab": {
          "base_uri": "https://localhost:8080/"
        },
        "outputId": "199a8452-c5ae-47db-c8cf-565a10f918bf"
      },
      "source": [
        "LABELS = np.array(os.listdir(DATA_DIR))\n",
        "LABEL_IDS = [i for i in range(len(LABELS))]\n",
        "LABEL_ONE_HOT = tf.one_hot(LABEL_IDS, len(LABELS), axis=-1)\n",
        "\n",
        "def audio_datasets_path(data_dir: str, train_split: float = 0.7, val_split: float= 0.1, test_split:float = 0.2):\n",
        "    all_audio_filenames = glob.glob(data_dir+\"/*/*\")\n",
        "    all_audio_filenames = tf.random.shuffle(all_audio_filenames)\n",
        "\n",
        "    train = all_audio_filenames[0:int(len(all_audio_filenames)*train_split)]\n",
        "    val = all_audio_filenames[len(train):len(train)+int(len(all_audio_filenames)*val_split)]\n",
        "    test = all_audio_filenames[-int(len(all_audio_filenames)*test_split):]\n",
        "\n",
        "    return train, val, test\n",
        "\n",
        "LABELS"
      ],
      "execution_count": null,
      "outputs": [
        {
          "output_type": "execute_result",
          "data": {
            "text/plain": [
              "array(['BACKGROUND', 'FAN', 'WHISTLE'], dtype='<U10')"
            ]
          },
          "metadata": {
            "tags": []
          },
          "execution_count": 5
        }
      ]
    },
    {
      "cell_type": "code",
      "metadata": {
        "id": "XZzYdSK7Doc1"
      },
      "source": [
        "train_audio_files, val_audio_files, test_audio_files = audio_datasets_path(DATA_DIR)"
      ],
      "execution_count": null,
      "outputs": []
    },
    {
      "cell_type": "markdown",
      "metadata": {
        "id": "m2iMrlDMogF2"
      },
      "source": [
        "## Reading Raw Audio and Label"
      ]
    },
    {
      "cell_type": "code",
      "metadata": {
        "id": "kzM2W_Hzo7ol"
      },
      "source": [
        "def get_label(audio_file_path: str):\n",
        "    string_parts = tf.strings.split(audio_file_path, os.path.sep)\n",
        "    return string_parts[-2]\n",
        "\n",
        "\n",
        "def get_waveform_from_audio_file(audio_file:str):\n",
        "    '''\n",
        "    The audio is of 16-bit PCM i.e values ranging from -32768 to 32767\n",
        "    tf.audio.decode_wav normalizes the data between [-1.0,1.0]\n",
        "    '''\n",
        "    audio_binary = tf.io.read_file(audio_file)\n",
        "    audio_raw, _ = tf.audio.decode_wav(audio_binary,desired_channels=1)\n",
        "    return tf.squeeze(audio_raw, axis=-1)\n",
        "\n",
        "\n",
        "def get_waveform_and_label(audio_file:str):\n",
        "    label = get_label(audio_file)\n",
        "    waveform = get_waveform_from_audio_file(audio_file)\n",
        "\n",
        "    return waveform, label\n"
      ],
      "execution_count": null,
      "outputs": []
    },
    {
      "cell_type": "markdown",
      "metadata": {
        "id": "BdX39umT0H3f"
      },
      "source": [
        "## Creating Spectogram from Raw Audio"
      ]
    },
    {
      "cell_type": "code",
      "metadata": {
        "id": "cDri74Sr0OcJ"
      },
      "source": [
        "def get_spectrogram_from_raw_audio(waveform: tf.Tensor, frame_size:int = 256, frame_stride:int=128):\n",
        "    '''\n",
        "    Zero padding tha waveform to sampling Rate in case some file have less than 1600 values\n",
        "    '''\n",
        "    zero_padding = tf.zeros([SAMPLE_RATE] - tf.shape(waveform), dtype=tf.float32)\n",
        "    waveform = tf.cast(waveform, tf.float32)\n",
        "    equal_length_of_waveform = tf.concat([waveform, zero_padding], 0)\n",
        "    spectrogram = tf.signal.stft(\n",
        "        equal_length_of_waveform, frame_length=frame_size, frame_step=frame_stride)\n",
        "\n",
        "    spectrogram = tf.abs(spectrogram)\n",
        "\n",
        "    return spectrogram\n",
        "\n",
        "\n",
        "def get_spectrogram_and_label(waveform: tf.Tensor, label: str):\n",
        "    '''\n",
        "    Get both spectrogram and corresponding label_id\n",
        "    '''\n",
        "    spectrogram = get_spectrogram_from_raw_audio(waveform,frame_size=FRAME_SIZE, frame_stride=FRAME_STRIDE)\n",
        "    spectrogram = tf.expand_dims(spectrogram, -1)\n",
        "    spectrogram = tf.nn.pool(\n",
        "        input=tf.expand_dims(spectrogram, axis=1),\n",
        "        window_shape = [1,TAKE_MEAN_AT_INTERVAL],\n",
        "        strides = [1,TAKE_MEAN_AT_INTERVAL],\n",
        "        pooling_type='AVG',\n",
        "        padding='VALID'\n",
        "    )\n",
        "    spectrogram = tf.squeeze(spectrogram)\n",
        "    spectrogram = tf.expand_dims(spectrogram, -1)\n",
        "    # Flatten the spectrogram\n",
        "    spectrogram = tf.reshape(spectrogram, [-1])\n",
        "    label_id = tf.argmax(label == LABELS)\n",
        "    label = LABEL_ONE_HOT[label_id]\n",
        "\n",
        "    return spectrogram, label"
      ],
      "execution_count": null,
      "outputs": []
    },
    {
      "cell_type": "markdown",
      "metadata": {
        "id": "pl_5Xl5XL0mQ"
      },
      "source": [
        "## Creating Data Pipeline using tf.data"
      ]
    },
    {
      "cell_type": "code",
      "metadata": {
        "id": "uRqA96BJL0Be"
      },
      "source": [
        "def preprocess_data(audio_files: tf.Tensor):\n",
        "    audio_files_ds = tf.data.Dataset.from_tensor_slices(audio_files)\n",
        "    output_waveform_ds = audio_files_ds.map(\n",
        "        get_waveform_and_label, num_parallel_calls=tf.data.AUTOTUNE\n",
        "    )\n",
        "    output_spectrogram_ds = output_waveform_ds.map(\n",
        "        get_spectrogram_and_label, num_parallel_calls = tf.data.AUTOTUNE\n",
        "    )\n",
        "    output_spectrogram_ds.shuffle(buffer_size=300)\n",
        "    output_spectrogram_ds.cache().prefetch(tf.data.AUTOTUNE)\n",
        "\n",
        "    output_spectrogram_ds\n",
        "\n",
        "    return output_spectrogram_ds\n",
        "\n",
        "train_ds = preprocess_data(train_audio_files)\n",
        "val_ds = preprocess_data(val_audio_files)\n",
        "test_ds = preprocess_data(test_audio_files)"
      ],
      "execution_count": null,
      "outputs": []
    },
    {
      "cell_type": "code",
      "metadata": {
        "colab": {
          "base_uri": "https://localhost:8080/"
        },
        "id": "-OPD4M0xHyNu",
        "outputId": "fcbc0492-d613-419b-dfc8-b5e9ec3f5227"
      },
      "source": [
        "for spectrogram,label in train_ds.take(1):\n",
        "    # reshape_to = spectrogram.shape[0]*spectrogram.shape[1]\n",
        "    # spectrogram = spectrogram.numpy().flatten().reshape(1,reshape_to)\n",
        "    print(spectrogram.shape)"
      ],
      "execution_count": null,
      "outputs": [
        {
          "output_type": "stream",
          "text": [
            "(2058,)\n"
          ],
          "name": "stdout"
        }
      ]
    },
    {
      "cell_type": "markdown",
      "metadata": {
        "id": "Lm_gODBN-6v3"
      },
      "source": [
        "## Plotting Spectrograms with label"
      ]
    },
    {
      "cell_type": "code",
      "metadata": {
        "id": "LqD4d-xyUYaG",
        "colab": {
          "base_uri": "https://localhost:8080/",
          "height": 1000
        },
        "outputId": "5f39062d-0991-413f-8fb6-82c3e359e943"
      },
      "source": [
        "def plot_spectrogram(spectrogram, ax):\n",
        "  # Convert to frequencies to log scale and transpose so that the time is\n",
        "  # represented in the x-axis (columns).\n",
        "  log_spec = np.log(spectrogram.T)\n",
        "  height = log_spec.shape[0]\n",
        "  width = log_spec.shape[1]\n",
        "  X = np.linspace(0, np.size(spectrogram), num=width, dtype=int)\n",
        "  Y = range(height)\n",
        "  ax.pcolormesh(X, Y, log_spec)\n",
        "\n",
        "rows = 3\n",
        "cols = 3\n",
        "n = rows*cols\n",
        "fig, axes = plt.subplots(rows, cols, figsize=(20, 20))\n",
        "for i, (spectrogram, label) in enumerate(train_ds.take(n)):\n",
        "  r = i // cols\n",
        "  c = i % cols\n",
        "  ax = axes[r][c]\n",
        "  spectrogram = np.reshape(spectrogram.numpy(),(FREQ_BIN,AVERAGED_FRAME_LENGTH))\n",
        "  plot_spectrogram(spectrogram, ax)\n",
        "  ax.set_title(LABELS[tf.argmax(label)])\n",
        "#   ax.axis('off')\n",
        "\n",
        "plt.show()"
      ],
      "execution_count": null,
      "outputs": [
        {
          "output_type": "display_data",
          "data": {
            "image/png": "[encoded data removed]",
            "text/plain": [
              "<Figure size 1440x1440 with 9 Axes>"
            ]
          },
          "metadata": {
            "tags": [],
            "needs_background": "light"
          }
        }
      ]
    },
    {
      "cell_type": "markdown",
      "metadata": {
        "id": "7cq3SgMHFYCV"
      },
      "source": [
        "## Model creating and training\n",
        " "
      ]
    },
    {
      "cell_type": "markdown",
      "metadata": {
        "id": "z05_4B4lIT9P"
      },
      "source": [
        "### Keras Model "
      ]
    },
    {
      "cell_type": "code",
      "metadata": {
        "id": "5AIH6N_RKmeT"
      },
      "source": [
        "train_ds = train_ds.batch(BATCH_SIZE)\n",
        "val_ds = val_ds.batch(BATCH_SIZE)\n",
        "test_ds = test_ds.batch(BATCH_SIZE)"
      ],
      "execution_count": null,
      "outputs": []
    },
    {
      "cell_type": "code",
      "metadata": {
        "colab": {
          "base_uri": "https://localhost:8080/"
        },
        "id": "XfXGW7OaMJFM",
        "outputId": "76f04e1d-5840-4a20-ccb2-f3749b7bdf04"
      },
      "source": [
        "# Get inputshape of spectrogram\n",
        "for spectrogram,_ in train_ds.take(1):\n",
        "    spectrogram_shape = spectrogram.shape\n",
        "print(f'Input shape:{spectrogram_shape}')\n",
        "num_of_labels = len(LABELS)"
      ],
      "execution_count": null,
      "outputs": [
        {
          "output_type": "stream",
          "text": [
            "Input shape:(32, 2058)\n"
          ],
          "name": "stdout"
        }
      ]
    },
    {
      "cell_type": "code",
      "metadata": {
        "colab": {
          "base_uri": "https://localhost:8080/"
        },
        "id": "zg4_xKvVxGfH",
        "outputId": "17955d61-0404-43dc-e972-8c14dc8a9cc7"
      },
      "source": [
        "# Create a simple CNN \n",
        "model = models.Sequential()\n",
        "model.add(layers.Reshape((FREQ_BIN,AVERAGED_FRAME_LENGTH,1),input_shape=(spectrogram_shape[1],)))\n",
        "model.add(layers.Conv2D(8, kernel_size=3, activation='relu', kernel_constraint=tf.keras.constraints.MaxNorm(1), padding='same'))\n",
        "model.add(layers.MaxPooling2D(pool_size=2, strides=2, padding='same'))\n",
        "model.add(layers.Dropout(0.5))\n",
        "model.add(layers.Conv2D(16, kernel_size=3, activation='relu', kernel_constraint=tf.keras.constraints.MaxNorm(1), padding='same'))\n",
        "model.add(layers.MaxPooling2D(pool_size=2, strides=2, padding='same'))\n",
        "model.add(layers.Dropout(0.5))\n",
        "model.add(layers.Flatten())\n",
        "model.add(layers.Dense(num_of_labels, activation='softmax', name='y_pred'))\n",
        "\n",
        "model.summary()"
      ],
      "execution_count": null,
      "outputs": [
        {
          "output_type": "stream",
          "text": [
            "Model: \"sequential\"\n",
            "_________________________________________________________________\n",
            "Layer (type)                 Output Shape              Param #   \n",
            "=================================================================\n",
            "reshape (Reshape)            (None, 49, 42, 1)         0         \n",
            "_________________________________________________________________\n",
            "conv2d (Conv2D)              (None, 49, 42, 8)         80        \n",
            "_________________________________________________________________\n",
            "max_pooling2d (MaxPooling2D) (None, 25, 21, 8)         0         \n",
            "_________________________________________________________________\n",
            "dropout (Dropout)            (None, 25, 21, 8)         0         \n",
            "_________________________________________________________________\n",
            "conv2d_1 (Conv2D)            (None, 25, 21, 16)        1168      \n",
            "_________________________________________________________________\n",
            "max_pooling2d_1 (MaxPooling2 (None, 13, 11, 16)        0         \n",
            "_________________________________________________________________\n",
            "dropout_1 (Dropout)          (None, 13, 11, 16)        0         \n",
            "_________________________________________________________________\n",
            "flatten (Flatten)            (None, 2288)              0         \n",
            "_________________________________________________________________\n",
            "y_pred (Dense)               (None, 3)                 6867      \n",
            "=================================================================\n",
            "Total params: 8,115\n",
            "Trainable params: 8,115\n",
            "Non-trainable params: 0\n",
            "_________________________________________________________________\n"
          ],
          "name": "stdout"
        }
      ]
    },
    {
      "cell_type": "markdown",
      "metadata": {
        "id": "zUFcnii3IZti"
      },
      "source": [
        "### Model compiling and Training"
      ]
    },
    {
      "cell_type": "code",
      "metadata": {
        "id": "EclodQ60Fzqf"
      },
      "source": [
        "opt = tf.keras.optimizers.Adam(learning_rate=LR, beta_1=0.9, beta_2=0.999)\n",
        "model.compile(\n",
        "    optimizer=opt,\n",
        "    loss=tf.keras.losses.categorical_crossentropy,\n",
        "    metrics = ['accuracy'],\n",
        ")\n",
        "\n",
        "model_checkpoint_callback = tf.keras.callbacks.ModelCheckpoint(\n",
        "    filepath=KERAS_MODEL,\n",
        "    monitor='val_accuracy',\n",
        "    mode='max',\n",
        "    save_best_only=True)"
      ],
      "execution_count": null,
      "outputs": []
    },
    {
      "cell_type": "code",
      "metadata": {
        "colab": {
          "base_uri": "https://localhost:8080/"
        },
        "id": "UywvP2xyloco",
        "outputId": "d98420ad-b984-4b69-e117-f1039e505791"
      },
      "source": [
        "history = model.fit(train_ds, epochs=EPOCHS, validation_data=val_ds,callbacks=model_checkpoint_callback)"
      ],
      "execution_count": null,
      "outputs": [
        {
          "output_type": "stream",
          "text": [
            "Epoch 1/50\n",
            "58/58 [==============================] - 548s 10s/step - loss: 0.4148 - accuracy: 0.8407 - val_loss: 0.2821 - val_accuracy: 0.9053\n",
            "Epoch 2/50\n",
            "58/58 [==============================] - 40s 693ms/step - loss: 0.2100 - accuracy: 0.9330 - val_loss: 0.2481 - val_accuracy: 0.9091\n",
            "Epoch 3/50\n",
            "58/58 [==============================] - 40s 690ms/step - loss: 0.1935 - accuracy: 0.9390 - val_loss: 0.2231 - val_accuracy: 0.9394\n",
            "Epoch 4/50\n",
            "58/58 [==============================] - 41s 701ms/step - loss: 0.1547 - accuracy: 0.9552 - val_loss: 0.2017 - val_accuracy: 0.9432\n",
            "Epoch 5/50\n",
            "58/58 [==============================] - 40s 690ms/step - loss: 0.1489 - accuracy: 0.9552 - val_loss: 0.1766 - val_accuracy: 0.9470\n",
            "Epoch 6/50\n",
            "58/58 [==============================] - 40s 689ms/step - loss: 0.1443 - accuracy: 0.9546 - val_loss: 0.1687 - val_accuracy: 0.9508\n",
            "Epoch 7/50\n",
            "58/58 [==============================] - 40s 689ms/step - loss: 0.1430 - accuracy: 0.9546 - val_loss: 0.1958 - val_accuracy: 0.9432\n",
            "Epoch 8/50\n",
            "58/58 [==============================] - 40s 691ms/step - loss: 0.1392 - accuracy: 0.9600 - val_loss: 0.1562 - val_accuracy: 0.9545\n",
            "Epoch 9/50\n",
            "58/58 [==============================] - 41s 714ms/step - loss: 0.1139 - accuracy: 0.9644 - val_loss: 0.1717 - val_accuracy: 0.9508\n",
            "Epoch 10/50\n",
            "58/58 [==============================] - 40s 693ms/step - loss: 0.1232 - accuracy: 0.9622 - val_loss: 0.1817 - val_accuracy: 0.9394\n",
            "Epoch 11/50\n",
            "58/58 [==============================] - 40s 691ms/step - loss: 0.1088 - accuracy: 0.9633 - val_loss: 0.1332 - val_accuracy: 0.9621\n",
            "Epoch 12/50\n",
            "58/58 [==============================] - 41s 709ms/step - loss: 0.1201 - accuracy: 0.9573 - val_loss: 0.1328 - val_accuracy: 0.9621\n",
            "Epoch 13/50\n",
            "58/58 [==============================] - 41s 713ms/step - loss: 0.0910 - accuracy: 0.9703 - val_loss: 0.1296 - val_accuracy: 0.9621\n",
            "Epoch 14/50\n",
            "58/58 [==============================] - 42s 728ms/step - loss: 0.0870 - accuracy: 0.9708 - val_loss: 0.1327 - val_accuracy: 0.9697\n",
            "Epoch 15/50\n",
            "58/58 [==============================] - 41s 716ms/step - loss: 0.0886 - accuracy: 0.9741 - val_loss: 0.1084 - val_accuracy: 0.9735\n",
            "Epoch 16/50\n",
            "58/58 [==============================] - 41s 712ms/step - loss: 0.0758 - accuracy: 0.9752 - val_loss: 0.1267 - val_accuracy: 0.9659\n",
            "Epoch 17/50\n",
            "58/58 [==============================] - 41s 710ms/step - loss: 0.0777 - accuracy: 0.9762 - val_loss: 0.1293 - val_accuracy: 0.9659\n",
            "Epoch 18/50\n",
            "58/58 [==============================] - 42s 720ms/step - loss: 0.0966 - accuracy: 0.9687 - val_loss: 0.1400 - val_accuracy: 0.9697\n",
            "Epoch 19/50\n",
            "58/58 [==============================] - 42s 729ms/step - loss: 0.0963 - accuracy: 0.9719 - val_loss: 0.1088 - val_accuracy: 0.9773\n",
            "Epoch 20/50\n",
            "58/58 [==============================] - 41s 710ms/step - loss: 0.0755 - accuracy: 0.9752 - val_loss: 0.1164 - val_accuracy: 0.9697\n",
            "Epoch 21/50\n",
            "58/58 [==============================] - 41s 706ms/step - loss: 0.0722 - accuracy: 0.9800 - val_loss: 0.1282 - val_accuracy: 0.9697\n",
            "Epoch 22/50\n",
            "58/58 [==============================] - 41s 707ms/step - loss: 0.0815 - accuracy: 0.9735 - val_loss: 0.1149 - val_accuracy: 0.9697\n",
            "Epoch 23/50\n",
            "58/58 [==============================] - 41s 714ms/step - loss: 0.0779 - accuracy: 0.9768 - val_loss: 0.1067 - val_accuracy: 0.9735\n",
            "Epoch 24/50\n",
            "58/58 [==============================] - 43s 748ms/step - loss: 0.0745 - accuracy: 0.9779 - val_loss: 0.1086 - val_accuracy: 0.9735\n",
            "Epoch 25/50\n",
            "58/58 [==============================] - 42s 729ms/step - loss: 0.0773 - accuracy: 0.9768 - val_loss: 0.1012 - val_accuracy: 0.9697\n",
            "Epoch 26/50\n",
            "58/58 [==============================] - 41s 716ms/step - loss: 0.0678 - accuracy: 0.9811 - val_loss: 0.1125 - val_accuracy: 0.9659\n",
            "Epoch 27/50\n",
            "58/58 [==============================] - 42s 724ms/step - loss: 0.0660 - accuracy: 0.9779 - val_loss: 0.1323 - val_accuracy: 0.9621\n",
            "Epoch 28/50\n",
            "58/58 [==============================] - 41s 717ms/step - loss: 0.0724 - accuracy: 0.9730 - val_loss: 0.1075 - val_accuracy: 0.9735\n",
            "Epoch 29/50\n",
            "58/58 [==============================] - 43s 742ms/step - loss: 0.0521 - accuracy: 0.9806 - val_loss: 0.1268 - val_accuracy: 0.9659\n",
            "Epoch 30/50\n",
            "58/58 [==============================] - 42s 724ms/step - loss: 0.0700 - accuracy: 0.9773 - val_loss: 0.1105 - val_accuracy: 0.9735\n",
            "Epoch 31/50\n",
            "58/58 [==============================] - 41s 709ms/step - loss: 0.0515 - accuracy: 0.9827 - val_loss: 0.1126 - val_accuracy: 0.9697\n",
            "Epoch 32/50\n",
            "58/58 [==============================] - 43s 748ms/step - loss: 0.0690 - accuracy: 0.9784 - val_loss: 0.1324 - val_accuracy: 0.9659\n",
            "Epoch 33/50\n",
            "58/58 [==============================] - 41s 710ms/step - loss: 0.0759 - accuracy: 0.9741 - val_loss: 0.1027 - val_accuracy: 0.9773\n",
            "Epoch 34/50\n",
            "58/58 [==============================] - 42s 728ms/step - loss: 0.0610 - accuracy: 0.9789 - val_loss: 0.0945 - val_accuracy: 0.9659\n",
            "Epoch 35/50\n",
            "58/58 [==============================] - 44s 762ms/step - loss: 0.0548 - accuracy: 0.9827 - val_loss: 0.1189 - val_accuracy: 0.9735\n",
            "Epoch 36/50\n",
            "58/58 [==============================] - 42s 726ms/step - loss: 0.0461 - accuracy: 0.9838 - val_loss: 0.1047 - val_accuracy: 0.9773\n",
            "Epoch 37/50\n",
            "58/58 [==============================] - 42s 718ms/step - loss: 0.0527 - accuracy: 0.9838 - val_loss: 0.1000 - val_accuracy: 0.9735\n",
            "Epoch 38/50\n",
            "58/58 [==============================] - 42s 719ms/step - loss: 0.0528 - accuracy: 0.9822 - val_loss: 0.0958 - val_accuracy: 0.9735\n",
            "Epoch 39/50\n",
            "58/58 [==============================] - 42s 730ms/step - loss: 0.0462 - accuracy: 0.9822 - val_loss: 0.1029 - val_accuracy: 0.9735\n",
            "Epoch 40/50\n",
            "58/58 [==============================] - 41s 712ms/step - loss: 0.0586 - accuracy: 0.9800 - val_loss: 0.1011 - val_accuracy: 0.9735\n",
            "Epoch 41/50\n",
            "58/58 [==============================] - 42s 732ms/step - loss: 0.0381 - accuracy: 0.9908 - val_loss: 0.1013 - val_accuracy: 0.9735\n",
            "Epoch 42/50\n",
            "58/58 [==============================] - 41s 710ms/step - loss: 0.0514 - accuracy: 0.9800 - val_loss: 0.1190 - val_accuracy: 0.9735\n",
            "Epoch 43/50\n",
            "58/58 [==============================] - 42s 734ms/step - loss: 0.0648 - accuracy: 0.9806 - val_loss: 0.1097 - val_accuracy: 0.9735\n",
            "Epoch 44/50\n",
            "58/58 [==============================] - 43s 745ms/step - loss: 0.0624 - accuracy: 0.9806 - val_loss: 0.1105 - val_accuracy: 0.9773\n",
            "Epoch 45/50\n",
            "58/58 [==============================] - 42s 719ms/step - loss: 0.0691 - accuracy: 0.9806 - val_loss: 0.1111 - val_accuracy: 0.9659\n",
            "Epoch 46/50\n",
            "58/58 [==============================] - 41s 710ms/step - loss: 0.0562 - accuracy: 0.9833 - val_loss: 0.1083 - val_accuracy: 0.9659\n",
            "Epoch 47/50\n",
            "58/58 [==============================] - 41s 705ms/step - loss: 0.0371 - accuracy: 0.9860 - val_loss: 0.1077 - val_accuracy: 0.9773\n",
            "Epoch 48/50\n",
            "58/58 [==============================] - 41s 713ms/step - loss: 0.0409 - accuracy: 0.9860 - val_loss: 0.1102 - val_accuracy: 0.9735\n",
            "Epoch 49/50\n",
            "58/58 [==============================] - 42s 724ms/step - loss: 0.0372 - accuracy: 0.9903 - val_loss: 0.1041 - val_accuracy: 0.9735\n",
            "Epoch 50/50\n",
            "58/58 [==============================] - 41s 710ms/step - loss: 0.0648 - accuracy: 0.9870 - val_loss: 0.1218 - val_accuracy: 0.9735\n"
          ],
          "name": "stdout"
        }
      ]
    },
    {
      "cell_type": "markdown",
      "metadata": {
        "id": "ROdirkvVGbv6"
      },
      "source": [
        "### Plotting loss and accuracy over epochs"
      ]
    },
    {
      "cell_type": "code",
      "metadata": {
        "colab": {
          "base_uri": "https://localhost:8080/",
          "height": 264
        },
        "id": "MgehfM9CGWI1",
        "outputId": "353479e6-73e7-4039-cd92-70b67ff307c0"
      },
      "source": [
        "metrics = history.history\n",
        "plt.plot(history.epoch, metrics['loss'], metrics['val_loss'])\n",
        "plt.legend(['loss', 'val_loss'])\n",
        "plt.show()"
      ],
      "execution_count": null,
      "outputs": [
        {
          "output_type": "display_data",
          "data": {
            "image/png": "[encoded data removed]",
            "text/plain": [
              "<Figure size 432x288 with 1 Axes>"
            ]
          },
          "metadata": {
            "tags": [],
            "needs_background": "light"
          }
        }
      ]
    },
    {
      "cell_type": "code",
      "metadata": {
        "colab": {
          "base_uri": "https://localhost:8080/",
          "height": 264
        },
        "id": "Cpy2QRa6Gkow",
        "outputId": "5e319b88-952a-46f1-fd81-c1154c52556e"
      },
      "source": [
        "metrics = history.history\n",
        "plt.plot(history.epoch, metrics['accuracy'], metrics['val_accuracy'])\n",
        "plt.legend(['accuracy', 'val_accuracy'])\n",
        "plt.show()"
      ],
      "execution_count": null,
      "outputs": [
        {
          "output_type": "display_data",
          "data": {
            "image/png": "[encoded data removed]",
            "text/plain": [
              "<Figure size 432x288 with 1 Axes>"
            ]
          },
          "metadata": {
            "tags": [],
            "needs_background": "light"
          }
        }
      ]
    },
    {
      "cell_type": "markdown",
      "metadata": {
        "id": "c5plv8OgG0SK"
      },
      "source": [
        "## Model Testing"
      ]
    },
    {
      "cell_type": "code",
      "metadata": {
        "id": "gJBhmllgLI-t"
      },
      "source": [
        "model = models.load_model(KERAS_MODEL)"
      ],
      "execution_count": null,
      "outputs": []
    },
    {
      "cell_type": "code",
      "metadata": {
        "colab": {
          "base_uri": "https://localhost:8080/"
        },
        "id": "oycN6YjAkOAX",
        "outputId": "a7f968cc-d50b-4d7f-cdf6-3f698464050a"
      },
      "source": [
        "for spec,_ in test_ds.take(1):\n",
        "    print(spec.shape)"
      ],
      "execution_count": null,
      "outputs": [
        {
          "output_type": "stream",
          "text": [
            "(2058,)\n"
          ],
          "name": "stdout"
        }
      ]
    },
    {
      "cell_type": "code",
      "metadata": {
        "colab": {
          "base_uri": "https://localhost:8080/"
        },
        "id": "nRQWOQZ8GzyZ",
        "outputId": "b2aa8b74-87b2-4468-ea92-8c336c34457c"
      },
      "source": [
        "test_ds = test_ds.batch(1)\n",
        "model_test_score = model.evaluate(test_ds)"
      ],
      "execution_count": null,
      "outputs": [
        {
          "output_type": "stream",
          "text": [
            "529/529 [==============================] - 185s 350ms/step - loss: 0.0710 - accuracy: 0.9887\n"
          ],
          "name": "stdout"
        }
      ]
    },
    {
      "cell_type": "markdown",
      "metadata": {
        "id": "qQVRdVtmn7i5"
      },
      "source": [
        "## Quantization of Model"
      ]
    },
    {
      "cell_type": "markdown",
      "metadata": {
        "id": "r2WElRXsqVvk"
      },
      "source": [
        "### Converting keras h5 model to tflite float model\n"
      ]
    },
    {
      "cell_type": "code",
      "metadata": {
        "colab": {
          "base_uri": "https://localhost:8080/"
        },
        "id": "6nNuW30_r1qS",
        "outputId": "1df1b765-884b-46ac-a00b-1936136155dc"
      },
      "source": [
        "model = models.load_model(KERAS_MODEL)\n",
        "\n",
        "converter_for_float = tf.lite.TFLiteConverter.from_keras_model(model)\n",
        "tflite_float_model = converter_for_float.convert()\n",
        "size_of_float_model = open(FLOAT_TFLITE_MODEL, 'wb').write(tflite_float_model)\n",
        "print(f'Total size of {FLOAT_TFLITE_MODEL} is {size_of_float_model}')"
      ],
      "execution_count": null,
      "outputs": [
        {
          "output_type": "stream",
          "text": [
            "INFO:tensorflow:Assets written to: /tmp/tmpqvtwu1c7/assets\n",
            "Total size of float_tflite_model.tflite is 36376\n"
          ],
          "name": "stdout"
        }
      ]
    },
    {
      "cell_type": "code",
      "metadata": {
        "colab": {
          "base_uri": "https://localhost:8080/"
        },
        "id": "qXZ_mHSXzJPA",
        "outputId": "66b8630d-6e92-47e6-a676-ca296cfd8ff7"
      },
      "source": [
        "float_interpreter = tf.lite.Interpreter(model_content=tflite_float_model)\n",
        "input_type = float_interpreter.get_input_details()[0]['dtype']\n",
        "print('input: ', input_type)\n",
        "output_type = float_interpreter.get_output_details()[0]['dtype']\n",
        "print('output: ', output_type)"
      ],
      "execution_count": null,
      "outputs": [
        {
          "output_type": "stream",
          "text": [
            "input:  <class 'numpy.float32'>\n",
            "output:  <class 'numpy.float32'>\n"
          ],
          "name": "stdout"
        }
      ]
    },
    {
      "cell_type": "markdown",
      "metadata": {
        "id": "6FzStXKuuS9z"
      },
      "source": [
        "### Converting keras h5 model to tflite Integer-only quantized model for Microcontroller unit\n",
        "> 1. Create a representative dataset to calibarate variable data.\n",
        "> 2. Set the dtype of input and output of model to tf.int8"
      ]
    },
    {
      "cell_type": "code",
      "metadata": {
        "id": "oXLpJaQpoAi0"
      },
      "source": [
        "def representative_data_gen():\n",
        "    for input_spec,_ in train_ds.batch(1).take(500):\n",
        "        yield [input_spec] "
      ],
      "execution_count": null,
      "outputs": []
    },
    {
      "cell_type": "code",
      "metadata": {
        "colab": {
          "base_uri": "https://localhost:8080/"
        },
        "id": "Xef_jKfEwWWN",
        "outputId": "37c887af-4a45-4eb3-afb9-8fc20ed396ca"
      },
      "source": [
        "converter_int_model = tf.lite.TFLiteConverter.from_keras_model(model)\n",
        "converter_int_model.optimizations = [tf.lite.Optimize.DEFAULT]\n",
        "converter_int_model.representative_dataset = representative_data_gen\n",
        "# Ensure that if any ops can't be quantized, the converter throws an error\n",
        "converter_int_model.target_spec.supported_ops = [tf.lite.OpsSet.TFLITE_BUILTINS_INT8]\n",
        "converter_int_model.inference_input_type = tf.uint8\n",
        "converter_int_model.inference_output_type = tf.uint8\n",
        "\n",
        "tflite_model_intonly_quant = converter_int_model.convert()\n",
        "size_of_intonly_model = open(INTONLY_QUANT_TFLITE_MODEL, 'wb').write(tflite_model_intonly_quant)\n",
        "print(f'Total size of {INTONLY_QUANT_TFLITE_MODEL} is {size_of_intonly_model}')"
      ],
      "execution_count": null,
      "outputs": [
        {
          "output_type": "stream",
          "text": [
            "INFO:tensorflow:Assets written to: /tmp/tmpt471jlhz/assets\n"
          ],
          "name": "stdout"
        },
        {
          "output_type": "stream",
          "text": [
            "INFO:tensorflow:Assets written to: /tmp/tmpt471jlhz/assets\n",
            "WARNING:absl:For model inputs containing unsupported operations which cannot be quantized, the `inference_input_type` attribute will default to the original type.\n"
          ],
          "name": "stderr"
        },
        {
          "output_type": "stream",
          "text": [
            "Total size of intonly_quant_tflite_model.tflite is 13504\n"
          ],
          "name": "stdout"
        }
      ]
    },
    {
      "cell_type": "code",
      "metadata": {
        "colab": {
          "base_uri": "https://localhost:8080/"
        },
        "id": "iB0pk3jBx2hL",
        "outputId": "b1701415-e1fe-4c65-ce9e-29278aac137d"
      },
      "source": [
        "interpreter = tf.lite.Interpreter(model_content=tflite_model_intonly_quant)\n",
        "input_type = interpreter.get_input_details()[0]['dtype']\n",
        "print('input: ', input_type)\n",
        "output_type = interpreter.get_output_details()[0]['dtype']\n",
        "print('output: ', output_type)"
      ],
      "execution_count": null,
      "outputs": [
        {
          "output_type": "stream",
          "text": [
            "input:  <class 'numpy.uint8'>\n",
            "output:  <class 'numpy.uint8'>\n"
          ],
          "name": "stdout"
        }
      ]
    },
    {
      "cell_type": "markdown",
      "metadata": {
        "id": "KfE7KOzuBlbC"
      },
      "source": [
        "### Testing tflite intonly quantized model"
      ]
    },
    {
      "cell_type": "code",
      "metadata": {
        "colab": {
          "base_uri": "https://localhost:8080/"
        },
        "id": "wY-V6nQfBlHx",
        "outputId": "dd7429d6-e021-440a-dcd3-4df5bd712c79"
      },
      "source": [
        "# Initialize the interpreter\n",
        "interpreter = tf.lite.Interpreter(model_path=INTONLY_QUANT_TFLITE_MODEL)\n",
        "interpreter.allocate_tensors()\n",
        "\n",
        "input_details = interpreter.get_input_details()[0]\n",
        "output_details = interpreter.get_output_details()[0]\n",
        "\n",
        "correct_predictions = 0\n",
        "i = 0\n",
        "for i,(spec,label) in tqdm(enumerate(test_ds.batch(1))):\n",
        "    if input_details['dtype'] == np.uint8:\n",
        "      input_scale, input_zero_point = input_details[\"quantization\"]\n",
        "      spec = spec.numpy().reshape(1,FREQ_BIN*AVERAGED_FRAME_LENGTH)\n",
        "      spec = spec / input_scale + input_zero_point\n",
        "    spec = spec.astype(input_details[\"dtype\"])\n",
        "    interpreter.set_tensor(input_details[\"index\"], spec)\n",
        "    interpreter.invoke()\n",
        "    output = interpreter.get_tensor(output_details[\"index\"])[0]\n",
        "    top_prediction = output.argmax()\n",
        "    correct_predictions += (top_prediction == np.argmax(label.numpy()[0]))\n",
        "print('\\nInt-only Quant model accuracy is %f%% (Number of test samples=%d)' % ((correct_predictions * 100) / i+1, i+1))"
      ],
      "execution_count": null,
      "outputs": [
        {
          "output_type": "stream",
          "text": [
            "529it [00:09, 55.85it/s]"
          ],
          "name": "stderr"
        },
        {
          "output_type": "stream",
          "text": [
            "\n",
            "Int-only Quant model accuracy is 96.265152% (Number of test samples=529)\n"
          ],
          "name": "stdout"
        },
        {
          "output_type": "stream",
          "text": [
            "\n"
          ],
          "name": "stderr"
        }
      ]
    },
    {
      "cell_type": "markdown",
      "metadata": {
        "id": "AZ72hDblpJoV"
      },
      "source": [
        "## Generating model.cc file from intonly_quant_tflite_model for MCU"
      ]
    },
    {
      "cell_type": "code",
      "metadata": {
        "colab": {
          "base_uri": "https://localhost:8080/"
        },
        "id": "rdp1cHUPpJSU",
        "outputId": "b2f6dc9f-36ed-4da6-f823-9ee958f1796d"
      },
      "source": [
        "!apt-get update && apt-get -qq install xxd"
      ],
      "execution_count": null,
      "outputs": [
        {
          "output_type": "stream",
          "text": [
            "\r0% [Working]\r            \rIgn:1 https://developer.download.nvidia.com/compute/cuda/repos/ubuntu1804/x86_64  InRelease\n",
            "\r0% [Connecting to archive.ubuntu.com] [Connecting to security.ubuntu.com] [Wait\r                                                                               \rHit:2 https://cloud.r-project.org/bin/linux/ubuntu bionic-cran40/ InRelease\n",
            "\r0% [Connecting to archive.ubuntu.com] [Connecting to security.ubuntu.com] [Conn\r                                                                               \rIgn:3 https://developer.download.nvidia.com/compute/machine-learning/repos/ubuntu1804/x86_64  InRelease\n",
            "\r0% [Connecting to archive.ubuntu.com (91.189.88.142)] [Connecting to security.u\r0% [2 InRelease gpgv 3,626 B] [Connecting to archive.ubuntu.com (91.189.88.142)\r                                                                               \rHit:4 https://developer.download.nvidia.com/compute/cuda/repos/ubuntu1804/x86_64  Release\n",
            "\r0% [2 InRelease gpgv 3,626 B] [Connecting to archive.ubuntu.com (91.189.88.142)\r                                                                               \rHit:5 https://developer.download.nvidia.com/compute/machine-learning/repos/ubuntu1804/x86_64  Release\n",
            "\r0% [2 InRelease gpgv 3,626 B] [Connecting to archive.ubuntu.com (91.189.88.142)\r                                                                               \rHit:6 http://security.ubuntu.com/ubuntu bionic-security InRelease\n",
            "Hit:7 http://ppa.launchpad.net/c2d4u.team/c2d4u4.0+/ubuntu bionic InRelease\n",
            "Hit:8 http://archive.ubuntu.com/ubuntu bionic InRelease\n",
            "Hit:10 http://archive.ubuntu.com/ubuntu bionic-updates InRelease\n",
            "Hit:11 http://ppa.launchpad.net/cran/libgit2/ubuntu bionic InRelease\n",
            "Hit:12 http://archive.ubuntu.com/ubuntu bionic-backports InRelease\n",
            "Hit:14 http://ppa.launchpad.net/deadsnakes/ppa/ubuntu bionic InRelease\n",
            "Hit:15 http://ppa.launchpad.net/graphics-drivers/ppa/ubuntu bionic InRelease\n",
            "Reading package lists... Done\n"
          ],
          "name": "stdout"
        }
      ]
    },
    {
      "cell_type": "code",
      "metadata": {
        "id": "IF_dQLOsrN2L"
      },
      "source": [
        "!xxd -i {INTONLY_QUANT_TFLITE_MODEL} > model.cc"
      ],
      "execution_count": null,
      "outputs": []
    }
  ]
}